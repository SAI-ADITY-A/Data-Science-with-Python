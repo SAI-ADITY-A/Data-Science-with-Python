{
  "nbformat": 4,
  "nbformat_minor": 0,
  "metadata": {
    "colab": {
      "provenance": []
    },
    "kernelspec": {
      "name": "python3",
      "display_name": "Python 3"
    },
    "language_info": {
      "name": "python"
    }
  },
  "cells": [
    {
      "cell_type": "markdown",
      "source": [
        "**Logistic Regression:**\n",
        "\n",
        "![image.png](data:image/png;base64,iVBORw0KGgoAAAANSUhEUgAAAdwAAABWCAYAAABl/yf/AAAAAXNSR0IArs4c6QAAAARnQU1BAACxjwv8YQUAAAAJcEhZcwAAEnQAABJ0Ad5mH3gAABuXSURBVHhe7Z0HfFTF9sdPeiAh9N4TmiZA6MVneFT/YAHpjyLgoyMC4kfFv0oH9a9PQFBBBaSaYEGKQEB4CgQRpEmVGkJIQgg9vex/ztl7l2XZTTaFhSy/74dhN/fevTv37sz85pw5M9fFoCAAAAAAPFBctVcAAAAAPEAguAAAAIADgOACAAAADgCCCwAAADgACC4AAADgACC4AAAAgAOA4AIAAAAOAIILAAAAOAAILgAAAOAAILgAAACAA4DgAgAAAA4AgguyByttAwBAgQDBBQAAABwABBfYJosoM1P9BwAAIN9AcIFVbt28RWu+W0NffrlI2wIAACA/4Hm4QMhMz6SsrCy6cfMGReyOoLU/raU9e/ZQ48aNadWqVaqkaAcCAADIE7BwgeDm4UbHjh+jSZMm0ezZs+nkiZN07tw5SklJ1Y4AAACQHyC4QCKRU5WwJiQkUMjTIbRk6RIaPnw4lS9fntzd3AhOEAAAyD8QXCDuYi9vL2rTpg0NGDiA6tatS6VLlyYXFxej2EJvAQAg30BwARmyjKLq7uFOrm6uklhsAQAAFBwQXEAurpq4su5q4osgKQAAKFgguAAAAIADgOACI2zRwqoFAIAHBgQXAAAAcAAQXHAvPH7LL5gKBAAABQoEFxhhfc26G0DFgivTgtR7Fze1DUsqAwBAvoDgAiOss6o06JZtZmYmubpy8TBQFj/AACUFAADyhfM3o/CM2o+6Vyy4SUlJFBcbR9evX6f4+Hi6cuUKZWZkmo4xJQAAAHbjvA8vUEaZXJqy3GQRB6OnFGTDsb+O0TfLltGtWzdp967ddPT4UfIr5kfPPfcclS1blurVq0e9e/WmUmVK3RVc3FcAALALpxPclKQUCgsLoz2/76EWLVpQjx49qZifr7YX2ILdxufOnqPf9/5OWVkGcnNzo8zMDLXHRb13pYyMDKpUqRK1bv0U+fgWNX4IAACA3Tid4K5ft54+/PBD9c6Fbty4ThNfm0iDhwyWMUkWEROwzO6FS4F+TzhAytpgg7WSgvsIAAB24TRjuOlp6bRxw0aaMWMGNWvWjBYsmE/PdHqGvl68mMK3hIuFJuKgJ2AbW6XC/P7hPgIAQK5wDsFVlteVK/EUHh4uY42DBw+mwCcDacjLQyggwJ+2bt0qAUAgGyCeAADwQCn8LmWV+8jISDp16pQ8v7V69epUomQJk4s08XYinTt/juLi4igwMIgqVqpg/BwAAADgQAq3hZtF4ir+7bffqHfv3rRk8RLy9PQy7mOLTYluamoqLfxiIQ0dOpSOHv3LuA8AAABwMIVbcFXueXGG4OBgatq0qbiUWVQzM7RlkZTo/rHvD9r2yzZq0bwFNWzQ0Lg9v/Dp2YLWU27I7fEAAACcAqdwKaenp9O8efNowYLP6KWXBtLo0WOobJkyFHclTiKW1/20jt559x0a0H8AuXu6ax/MGynJKbR582ZJjAurejbjnxwdXaRIEQoJCaEuXbpQkaJFtD0AAAAeJ5xjWpC6grNnz9KoUaPp8OFD9OOPP1Lrp1rTb7/+RiNHjqRGwY1o+vTp5F/LX/tA3rl96zZNnjyZPpnzibYle1xdXMnLy4teeeUVmjRpEpUsVVLbAwAA4HHCaebhpian0vz582na9Gk0duxYmX87Z+5cWrz4a3r//Q+oT5/e5O6RP+uWhZ3HjBMSEij6UrRd3mFXeQCAgXx8fKhunbrWnfjqRAlXEyg9Iz1Hi7kgKeifXs5XsKc0wfemZMmSVKxYMYfdHwAAKEicauGL48eOU98+fcnVzZU++ugjsSirVq1Kc+bMoWrVq2lHFRD23rWcxEGdh13i/fv3pwMHDmgbHcMDEdwHBHsK3pv8Hr008CXrnRYAQMHBVRkd2wLHqQQ3OTGZPvv8M/riiy+oTu06dO7cOXpr0lsiZvm2bhVZGVki5lIQ7b1rORRafigAr/U8atQoOnLkiLbVMRS84Mr/8v5BMG7ceOrX719oCED25KYIOntZ0u+F3maZt136tesry5nt57bBIWvQ63lh9O+yzJ8T4VSCm5VpoOjoaCWw/Wjv3r3UuXNncTNXrlxZ/XZa4cnHj5iRzmsLkxLGv+jChfPyPkfU3WWxr1a1GtV7oh55F/HWdtwLB2M5+qcoTD89B5+xW146PADkgCFLCYb2bOfHHYMSVBeLasNrpxsfv8ntgI39jqhrWhPE0zePHTsm67l7eXtRrYBaVLNmTfL2Vu2lE1V5pxJcnUlvTaIF8xfQK2NfoVmzZhlFVpsplN8fL/FOIk2dOpU++cS+oCm+u15enjRy5Ch69913qESJEsYdelvAd/9htQv2/PKcNz7uYZcSzoeel4d1v0ChgMX28uUY2ro1XB41aQs/Pz9q06aNDDsJTliu2IPGwhoREUHHjx8XIeWYktq1a1P7Du3lmJ/W/kSxMbFy/e7u7tSkSVOqXz/o7trzD/q+qDp9+/ZtWZp3+ozpdPr0afrPfz6h4cOGkae3p3aQc+CUgjtz+kx6//336bWJr9HUaVPvikVBFBx1rj0Re2jf/n3ahuzhIKuiRYtSQEAAtWvbjtw8zB6gwJjf/cdcSKz1xAW+R5ycqKcLHhwsuKGhYTRWdbhr1KhBnTp1onLlyomAJCYm0vfff0+HDx+hdu3a0sKFi6gaC66Tli32yrGHbVv4NmkPWXRr1apFH374f/Rsly7iNp47by599NHHdDkmmrq90I3e/t+3leg2MVnAdrVLWh1lOeFzysNiLNs6a5gZQlfi4mn+/E9p2bLl9Pnnn1Onjh2Nou9Mvw0LrrMxY9oMg29RX8PkdycbN2RpqYDISM+8e84ckupR3rcNWKDdlw3rNxh69ext6NWjlyl169rN0LN7T8OypcsMaalpxuMByIHJ7002BPgHGNb/tN6QnpahbTUYwkLDDPXq1jPUDqgt5S0t5REpUw+qXVBNFZOUmGSYOWOmwa+Yn2HwoMGG27duG3co9v6+19AouJGhQ/sOht07dxuyMrTMaPXSHn78/kfDv1/+t+HsmXMGZVVrW+1E+57oqGjDq2NfNYQ8HWI4+tfRe7/fznw86jhlv06MRu6V6T0z8/cFgJu7um36OXNIpsAD82QLybgZ6m/uoSYnJd+/LzfwZ/XPW77ag/75gkwWqApFO3fuotTUFOrTtw+NGDGCBg0eRFFRUarnHUNVqlYhD3cPq58F4B6U1RQff5WGDh1GIW1CpA6y90QJi7JoF1JCwjUaPmI4Pf3008r6U2XKFnpZK8gyl9O5LPfn87vZ0mR48Z327duLy5itfD0ehdcVYIufn3XNaxU0adqEXNy0Roq/O7v2yoy/T/9N69ato7i4WBn75fqcG5QWUWpaqgS6VqtWXTwSObaXhRDnE1z1O+tjD66u6jWfBTbf2Ftg9MLNryqlpqTJYh6rVq2iCeMn0K1bt/io3GN2/Xol4KUvuYDbRMuDJHb56O8tMT/Ocr9eWWwlC5JTkqlChQo0cOBAevHFF6l+g/r0xx/7yNe3GL355hvUqlVrq58D4D5Uq/bahAmy6I2y6JTgEsXGxtDq1atp37591Fd16P71r34ShGd1CMMMqTMFWe60c925fYciL1ykqMgoup5wXWI9GB5jTU1JVfsi6cb1GyZhTLqTRBcjL9KF8xfocvRlY74s65wV3NzvunVZVHnMmgNLT5w8IfEoy5evkCGyfup+NGrUiDzMOyC5UAcXdSPd3NxF0OXvXASsZWUZ/coxl2OkzQsMfFLVe18ZV+b7wNcrj1d1ApxOcFlIqlSpTE/Ue0IKWLbC8iihyif3wpnr167T9l9+odcnvk7jx4+XtaDzXOC0cp+WmkZxsXGyaIeb6oFmWyF4l564hOjJfLvlPsv9uUEd7+XppRrIEdSjew+Zl/ztt9/S+vXrqFevnhJt7l3EK2/nBo8fqsoH1A6QRVIylIXHEbC8+tzKlauofv368vjO8uXL3SNGVlFljZsPbvRP/306x/T3qb/p9KnTIoqm9dwtUefj6YVbw7dSp04dKbhRMH2zbJkUa0OmcfyTZ1i0bduW5s6da1qKloOeevXqRS1atKAxo8eoOqLaA3vqgn6Mei1bpix17dqVrl27Rv/d8V/asWMHrVkTRgMGDJBOLkcHi0cuj02mPdmxBlvE3L5FXbpEyckpVLFiRTp06BDNmzuPevfuQ3369KUd23eozofRWi/McDPpVLCQ9OzZizZv2Szzb6UYFAbN5Tyq2n3mzBn6dP6ntG3bNgm04kjKlJR8ThlStyD6cjQNGz6cZs2cJZGL+UV63ipLXAm4obC8x5eiLtGmnzfTxvUb70s/b/xZ9vEUAN3q5gANnjKVlp5GK1aspLDQMOrWrZssZOLhmY3bDwBLVHmXcqksJ+687dmzh5YsWaLqUjERK47QNUXg5sCpkyfF69KqVascU+vWrempf/xDxOvQoYNG7xBjUTe4rLdSx3L7xNG5kZEXKDEpUVy5nFi8L1y4IO5V/bMtWrZQ7VpPscp5eqFrHqY8eRf1ppCnQ6hUyVLSoV2hrNuOHTrS8y88f+90RVunNr8Oi2vKUh0bFz3Iivdp+6VtyAFuA5KTk+msavt4GtCZ02fo/Lnz0l795+OPVQchQZbSvawsc8vvLWw4neAyRVTBKlW6lLyKyyj3ZfOhweO1AQG16M233qShw4bJM37d3T3UJeTvIlivb9y4Tjdv3bxbMfIAVw498pGz5O7hJo2EpQXOFeaHH36gMNWDtkyhoaGqwq+WhT7YhabDHYHt27fTZ58tkJ7/iOEj5Hc0r8AA5IgqK7ykKne+o5XVxI/nPKs6d2zJPfvcs1TMt5jss4fiJYqLKHXu3MWu9MwznahNSBsqXryE9XaHt6nqV6FieXrqqaeoiHcRSkpMksRkpGVQxJ4IdQksQimmc3AbwENkPIXpueeeJ3e3XCzkY1Z3uD5xR/7osaNi4fcf0J/Kli1r1/3gTr/u4ub2hNsCPRm3ZUlHRowDdTqZdcDjwVzFzfJgCVvVPH3r5KmTdOsmt08uMt5c078GBdUPomrVqokbnJ9rLnZHNud61HHKaUGFFi6YqjKy8HBl4J7ukMFDKOpSFB04cJBKl1Hik0fOnT1Pgwa9RHXr1qVFi74kVz0wIg/EXI5VVkMEXbx4UYn4DapQvoJqaJ6hmgE1tSMU6loyMjNMldEcbkx4rMi8krPw7tq1W5bkLKEauXfeeYfq1K2j7VXwafKeZfC4ocpfaloaTZ8+jRYtXEQtW7aUddaDgupLJ9EuVJkTYVHKoQcf5QR3jKUzqpdXTjbK7qGDh6hnj57UoUMHmjlrpszRP3HiJL322gSKi4uTxXIWLlooLtarV6/SsGHDyb9mTZo6bRoV8/PVzmIHWrvCAshzXCdMGE9btmyh8ePG04yZM5VVefcZ4lxfbYlvuuoMnDhxnDZs2GAad9XhZ5Kzi3rIkCFUsUJFo2ta/WMB9vcPoBeUFZ3dOuinTpwSdzc/TY3XOOCANv4sty/Dhg6j4+p7p0yeQt17dJeOR05j748qhTTbzo0+/02sPxsF9GGQnpZOe3bvocnvvSeViysd97zZBf7xxx9LxKMJdQnc8Hh4edyXPL08TZVad0ezBTJv3lypZK+//rpqWPzp6pWrtPjrxRIsAkBu4CC8X37ZRitXrpRYDo6FCAoMsl9sNbhh5zFGHtbgTmJOSff8mFpWG2LL27me+/j60NWEBLql6s6dO3fou+/WUI0aNcVFzR3TNNVpYBH/888/KTYmhrq92I18fIpqJ7ETLS9RURfp00/nyXu2rjmy+LRKpvxxXrMhNSVFvFK8xsGUKVNo6pSp6tWYuD3gDvbixYvpgw8+oFmzZ9HMmbNoxvQZ6pq+M7VptrgQeYFuKOuW3fL8bHMZX1f5YuG+FH1JPl9VWboi5JxRzmsO+X0Uyf4uAKDB4s8PV5j09tvynGHuyfJzh8eMGS09cH7Qf14iqdnlxGNVPFbDvdlRo0bSE088QfFX42n5iuUSWcoRkADYS2Z6Jh08eJDenvS2dArHjBlD7dq3y9uzsFWjzmWfO5s8HpxTYqSjzGKQnZCpfSVKlJTOwJ07LLa36fDhw7Rh/QZxp/JYLU/f4SDHqwlXKTw8nF7s3p2CGwbnaslF3QV86+ZtCv02lE4qC3rixInUpXMX2r9/vzzwRdB0LDu4c8CerE2bNonAbt+xXYaAOHEgmm9RX/EmcPwMW9A71H7O94wZ08nby/vu/dDRvi8tJU0W5GALmIPCfIsZrXe2tmNiYlWKkX316taVh5jI8Bqfy/J8hQC0ZI8SBfBrcGW/EndFIit52gGni5FRMpbFDQJHK1+MjJTpCFEXjSkmOsZonWZT4fh8q1d/K6LYv/8AiQLnyGF9Xh9XCBmdyKHSWsL5OXjwEO2OiBC3Ga99PWjQIGkkw8LCZMyqTJnShbJyAQfBZU5PSuuuxF+hpUuWUuTFSHrh+ReUUL3IR8l+foxnfFy8URRzQpU5jjjm6UXs9rUntWjRkrorYfzryF/G78hGGDyVReznV1zq5c0bN0XEOBK5aZMmVLpUaWXdpotrecvmLSI03bp2FTGScVP2DNm6BLP7wRY3TzEMCw2VSOdx48aJBcljozyvfe8fe5UYq44yH68wWpDWYa9U2XJllRX6lLh8OYWEGFOdOnWpRMkS1DC4obY9RKxVfg18MtD2qlPqe1NSjZZzEW9vOQ9HccsutY/XV2aBbdCggQh+dvezMADBdTJOnz5DEyZMoIYNGlL9oCBJQUGB9Oyzz6oe7Z+0Zs0aat68OTVu0lht531BsjjA99//YHPdWR77OXjooBLAUGrZsgV1VA1LEZ8ilBCfQGvXrpUHL3AlK1WqVK4rA7uXeXxn587f6Ndff6Xly43LunFU6ebNm2nevHkyaR8Am5g1wndU52/p0m/o500/y7zu0WNGU+nSxg4bC9uGjRtp9vuzZa1lESxNaKzCYpCSIhHDbIHZk/ihJny85RinNdhNXby4H8XHx9Pan9aqPF0Wz1F5le/SqpOZnJxERw4fkWtp3qK5RFezdcuiyJ4hzjpPIeR5vPdch34/+JqVaEdE7Kavv/6a/tn2n9ShYweZm1yzpr+I2K5du6RTIZE82j3MCXE4mX0HJ37JyMiU6+bOgYyzcj51AVe3w1o8R5baxhHKR48eJU9PTyru52ey4FNSkmnZsm9kXLdvX222wv2nKFRAcJ2MokqcuGJykEjLVq0ksZvmycBAGfspV748BQcHyyT3Zs2aS+L3pZVYenpYXyicV386eOCgsmSTZCxl566d9M3SZTTv03m0auUqiXQcPnyEEsZcji1pSMNTorjVJO4lrc4CYBPVELM4/vrrf+nb1atFZKdNm0Y1qtcQy8zoSTlIX3zxuYgCj7dK65dNA86R97Xr1BbPDn/WnsRjreFbwlV9e1I7i23YO8TT/mJjYyXoqKWyjktx50BligOoIiMjRYjrB9WXDq0IkZ5f9Xry5AkZm+b6/fvve7UdGmp/emq6LB7DK0j5+/tLUJI8fUfBnePyFcqLS/mAynd6etpdAX1AiCvYHPVnprrHHHzJi16wh+xO4h0R4WsJ12jFihWy+AUHljVu3MR47YW8LYDgOhlVq1elKVOn0ObwzRS+dYukrdu20kpVeLlH26VzZ9oSztvDadsvWyXxVJ3nuz5vc4yLLVieH+yhGgiuoGyB8jxDDmz64MMPaOzYV5U1UV6iOXNNNg0eAHajGmKeOsKW3IkTJ2R5QO4c8vgiz/0OC1tDs2fPpl07d0mHtJiv7905ojaKLbtjOXiHZwfw0qL2pnIVykknMtuxVvXVLPq84At3FBo3bixP7+GgLl5lKcA/QASIrfSu3bpSxUoVjWKjCw4LqrLYWZA44EgEU4MtyVTVwTisBTjt3r2bqlarKuPC/Pl0JXKXL0fL+DAHZa1atVIsTJ4dkdc5+pmqEyNzcbNxSVuD88KCW1J1AHzUdW/atJk2rF8vzzTnpxj9s21bGjFyhLonZu7k3H3FI4XbFA43A48WqjJxwU24miDrk3Iw0ogRI6lo0by7Vnnsde2Pa1XBLinuZZtRg1YKM/f02dXLlgFPX3jjjTdkvCo4uJE0BO6qUWIrwtZ0gmwpxJUHPFpcib0iFhJ3LFmorsZflQhXFmKOa+A5qCxsvIBEpcqVTPVMeAjlkEXZy8tL1g0eOPAlqq6scYlyVrBYsyDzGHTTZs2IV4czdU7VK0cws+uWOwRsxXMwE4+h6vs54pkDpNKVoPI1V61SVcZSfXx8Jdo4Ni5WHZMo47mVKlakmv41JYBL3LZ5IGJ3BO3fv4/69esn04LUjZXt1qxaga9FvefpVpwCAwOpc+f/kY7CsePHpNPBlm2v3r2pXNmycqycy+J0hQ3Mw30U0Qojz017+d8vy6pN+//8k8qWK2PsjefBL8GrOg0eNJjq1qtHX361yDimou1jpBzzf1YKdOKdJBo9epS4zHj6T7t27WVhAeZyzGUZs2qmGgUegynsFQIUUlRh5iAlV36wiEKfy54jeiVwZLnl71SJm162DE1TlXg750N/5bfKWuWOrFwbd5It8yn1mE+mdpnNrc9S1rvMtTc7lyX6Mbwql+RBHStjsNlZ5jbgB0PwkpQskhWVcEvzYO279b95H7/wPVCCK2swmx3L18t5kQU+eLvleQopeWi6wQNFK4i8sPihw4dk/WN2OfGcQo6wvOcX0461B71fZXL7ct01S3JeG4XaU/V6GzdqTDdv3hSXcqLqPd+4eUMCUHjqBUcwc/CTs1QKUAhRZU8XW8YusWUeRmPO38f1TondPfOC9XyY5Uf3GokIWssnb2bvkpnYMqaFbax9RkM/xpQH9WdexJbhpSdfHfcqVaqixJZPwafWX82TjvY35900d9kMzods18/hJMDCfcQ4f+6CRObxmClHLXLgBLtSKlepLIEP7K7p178/BQblHJRhztkzZ4lXreLVm7766qtcFWLubbKohoaF0rGjx1RF8CBfHx9xy9WpU0cm0VeoWMHYAXCiygEAAAUJBPdRQ/0aPK81O3hsJ1fuW3XOkydP0cgRI6hBwwY0Z84cEXHLXrFNNLcVj+VaC6pgAb6npw4AAOA+ILiPGurX4LB4a4g8qv9MwQN26iXDQskWs09RH+N82dx4jrIrIZyHPI4rAwDA4wQE93GAf2EWRvXKAQq8XjFbq3pEpN3kJLwAAABsAsEF+UcXdAAAADaBIxDkH4gtAADkCAQXAAAAcAAQXAAAAMABQHABAAAABwDBBQAAABwABBcAAABwABBcAAAAwAFAcAEAAAAHAMEFAAAAHAAEFwAAAHAAEFwAAADAAUBwAQAAAAcAwQUAAAAcAAQXAAAAcAAQXAAAAMABQHABAAAABwDBBQAAABwABBcAAABwABBcAAAAwAFAcAEAAIAHDtH/A4VFaCBakcEHAAAAAElFTkSuQmCC)"
      ],
      "metadata": {
        "id": "IvfKG3qIwWjE"
      }
    },
    {
      "cell_type": "markdown",
      "source": [
        "Y_hat --> predicted value\n",
        "\n",
        "X --> Input Variable\n",
        "\n",
        "w --> weight\n",
        "\n",
        "b --> bias"
      ],
      "metadata": {
        "id": "UE7gccjawfx-"
      }
    },
    {
      "cell_type": "markdown",
      "source": [
        "**Gradient Descent:**\n",
        "\n",
        "Gradient Descent is an optimization algorithm used for minimizing the loss function in various machine learning algorithms. It is used for updating the parameters of the learning model.\n",
        "\n",
        "w = w - α*dw\n",
        "\n",
        "b = b - α*db"
      ],
      "metadata": {
        "id": "DEXzUxEgwsXj"
      }
    },
    {
      "cell_type": "markdown",
      "source": [
        "**Learning Rate:**\n",
        "\n",
        "Learning rate is a tuning parameter in an optimization algorithm that determines the step size at each iteration while moving toward a minimum of a loss function."
      ],
      "metadata": {
        "id": "TB6Wpgv1wxi_"
      }
    },
    {
      "cell_type": "markdown",
      "source": [
        "**Derivatives:**\n",
        "\n",
        "![image.png](data:image/png;base64,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)"
      ],
      "metadata": {
        "id": "m03sU0NfwzsF"
      }
    },
    {
      "cell_type": "code",
      "execution_count": null,
      "metadata": {
        "id": "E63cn6mrwQRa"
      },
      "outputs": [],
      "source": [
        "#importing numpy\n",
        "import numpy as np"
      ]
    },
    {
      "cell_type": "markdown",
      "source": [
        "#Logistic regression model:"
      ],
      "metadata": {
        "id": "EJPNrL590pzp"
      }
    },
    {
      "cell_type": "code",
      "source": [
        "class logistic_regression():\n",
        "\n",
        "    # initiating the learning rate and no. of iterations for this model (hyper parameters)\n",
        "    def __init__(self,learning_rate,no_of_iterations):\n",
        "        self.learning_rate = learning_rate\n",
        "        self.no_of_iterations = no_of_iterations\n",
        "\n",
        "    # from the dataset, create a model which fits the datapoints\n",
        "    def fit(self, x,y):\n",
        "\n",
        "        # no. of input features(coulmns) and data points(rows) in the dataset\n",
        "        if len(x.shape) == 1 :\n",
        "            self.m = x.shape[0]\n",
        "            self.n = 1\n",
        "        else:\n",
        "            self.m, self.n = x.shape\n",
        "\n",
        "        # initiating the random weights and bias\n",
        "        self.w = np.zeros(self.n)\n",
        "        self.b = 0\n",
        "\n",
        "        self.x = x\n",
        "        self.y = y\n",
        "\n",
        "        #updating the parameters\n",
        "        for i in range(self.no_of_iterations):\n",
        "            self.update_parameters()\n",
        "\n",
        "\n",
        "    def update_parameters(self):\n",
        "        y_hat = self.predict(self.x)\n",
        "\n",
        "        # derivatives\n",
        "        dw = (1/self.m) * np.dot(self.x.T , (y_hat - self.y))\n",
        "        db = (1/self.m) * np.sum(y_hat - self.y)\n",
        "\n",
        "        #updating\n",
        "        self.w = self.w - self.learning_rate * dw\n",
        "        self.b = self.b - self.learning_rate * db\n",
        "\n",
        "\n",
        "    def predict(self,x):\n",
        "        y_pred = ( 1/ ( 1 + np.exp(- (x.dot(self.w) + self.b) ) ) )\n",
        "\n",
        "        y_pred = np.where(y_pred > 0.5 , 1 , 0)\n",
        "        return y_pred\n",
        "\n"
      ],
      "metadata": {
        "id": "lIdf1CDr0o9a"
      },
      "execution_count": null,
      "outputs": []
    },
    {
      "cell_type": "markdown",
      "source": [
        "# Using this model on data:"
      ],
      "metadata": {
        "id": "DgT-TJvs5SbO"
      }
    },
    {
      "cell_type": "code",
      "source": [
        "import pandas as pd\n",
        "from sklearn.preprocessing import StandardScaler\n",
        "from sklearn.model_selection import train_test_split\n",
        "from sklearn.metrics import accuracy_score"
      ],
      "metadata": {
        "id": "k5squSTK5VOP"
      },
      "execution_count": null,
      "outputs": []
    },
    {
      "cell_type": "code",
      "source": [
        "diabetes_data = pd.read_csv('/content/diabetes.csv')"
      ],
      "metadata": {
        "id": "F2cUebTI6apS"
      },
      "execution_count": null,
      "outputs": []
    },
    {
      "cell_type": "code",
      "source": [
        "diabetes_data.head()"
      ],
      "metadata": {
        "colab": {
          "base_uri": "https://localhost:8080/",
          "height": 206
        },
        "id": "7B6zulKp6gOy",
        "outputId": "762593f4-4d59-49eb-f49d-ff9ba53d6a6c"
      },
      "execution_count": null,
      "outputs": [
        {
          "output_type": "execute_result",
          "data": {
            "text/plain": [
              "   Pregnancies  Glucose  BloodPressure  SkinThickness  Insulin   BMI  \\\n",
              "0            6      148             72             35        0  33.6   \n",
              "1            1       85             66             29        0  26.6   \n",
              "2            8      183             64              0        0  23.3   \n",
              "3            1       89             66             23       94  28.1   \n",
              "4            0      137             40             35      168  43.1   \n",
              "\n",
              "   DiabetesPedigreeFunction  Age  Outcome  \n",
              "0                     0.627   50        1  \n",
              "1                     0.351   31        0  \n",
              "2                     0.672   32        1  \n",
              "3                     0.167   21        0  \n",
              "4                     2.288   33        1  "
            ],
            "text/html": [
              "\n",
              "  <div id=\"df-9c7a5287-d1a9-4b40-8f8b-8dd0d983f52d\" class=\"colab-df-container\">\n",
              "    <div>\n",
              "<style scoped>\n",
              "    .dataframe tbody tr th:only-of-type {\n",
              "        vertical-align: middle;\n",
              "    }\n",
              "\n",
              "    .dataframe tbody tr th {\n",
              "        vertical-align: top;\n",
              "    }\n",
              "\n",
              "    .dataframe thead th {\n",
              "        text-align: right;\n",
              "    }\n",
              "</style>\n",
              "<table border=\"1\" class=\"dataframe\">\n",
              "  <thead>\n",
              "    <tr style=\"text-align: right;\">\n",
              "      <th></th>\n",
              "      <th>Pregnancies</th>\n",
              "      <th>Glucose</th>\n",
              "      <th>BloodPressure</th>\n",
              "      <th>SkinThickness</th>\n",
              "      <th>Insulin</th>\n",
              "      <th>BMI</th>\n",
              "      <th>DiabetesPedigreeFunction</th>\n",
              "      <th>Age</th>\n",
              "      <th>Outcome</th>\n",
              "    </tr>\n",
              "  </thead>\n",
              "  <tbody>\n",
              "    <tr>\n",
              "      <th>0</th>\n",
              "      <td>6</td>\n",
              "      <td>148</td>\n",
              "      <td>72</td>\n",
              "      <td>35</td>\n",
              "      <td>0</td>\n",
              "      <td>33.6</td>\n",
              "      <td>0.627</td>\n",
              "      <td>50</td>\n",
              "      <td>1</td>\n",
              "    </tr>\n",
              "    <tr>\n",
              "      <th>1</th>\n",
              "      <td>1</td>\n",
              "      <td>85</td>\n",
              "      <td>66</td>\n",
              "      <td>29</td>\n",
              "      <td>0</td>\n",
              "      <td>26.6</td>\n",
              "      <td>0.351</td>\n",
              "      <td>31</td>\n",
              "      <td>0</td>\n",
              "    </tr>\n",
              "    <tr>\n",
              "      <th>2</th>\n",
              "      <td>8</td>\n",
              "      <td>183</td>\n",
              "      <td>64</td>\n",
              "      <td>0</td>\n",
              "      <td>0</td>\n",
              "      <td>23.3</td>\n",
              "      <td>0.672</td>\n",
              "      <td>32</td>\n",
              "      <td>1</td>\n",
              "    </tr>\n",
              "    <tr>\n",
              "      <th>3</th>\n",
              "      <td>1</td>\n",
              "      <td>89</td>\n",
              "      <td>66</td>\n",
              "      <td>23</td>\n",
              "      <td>94</td>\n",
              "      <td>28.1</td>\n",
              "      <td>0.167</td>\n",
              "      <td>21</td>\n",
              "      <td>0</td>\n",
              "    </tr>\n",
              "    <tr>\n",
              "      <th>4</th>\n",
              "      <td>0</td>\n",
              "      <td>137</td>\n",
              "      <td>40</td>\n",
              "      <td>35</td>\n",
              "      <td>168</td>\n",
              "      <td>43.1</td>\n",
              "      <td>2.288</td>\n",
              "      <td>33</td>\n",
              "      <td>1</td>\n",
              "    </tr>\n",
              "  </tbody>\n",
              "</table>\n",
              "</div>\n",
              "    <div class=\"colab-df-buttons\">\n",
              "\n",
              "  <div class=\"colab-df-container\">\n",
              "    <button class=\"colab-df-convert\" onclick=\"convertToInteractive('df-9c7a5287-d1a9-4b40-8f8b-8dd0d983f52d')\"\n",
              "            title=\"Convert this dataframe to an interactive table.\"\n",
              "            style=\"display:none;\">\n",
              "\n",
              "  <svg xmlns=\"http://www.w3.org/2000/svg\" height=\"24px\" viewBox=\"0 -960 960 960\">\n",
              "    <path d=\"M120-120v-720h720v720H120Zm60-500h600v-160H180v160Zm220 220h160v-160H400v160Zm0 220h160v-160H400v160ZM180-400h160v-160H180v160Zm440 0h160v-160H620v160ZM180-180h160v-160H180v160Zm440 0h160v-160H620v160Z\"/>\n",
              "  </svg>\n",
              "    </button>\n",
              "\n",
              "  <style>\n",
              "    .colab-df-container {\n",
              "      display:flex;\n",
              "      gap: 12px;\n",
              "    }\n",
              "\n",
              "    .colab-df-convert {\n",
              "      background-color: #E8F0FE;\n",
              "      border: none;\n",
              "      border-radius: 50%;\n",
              "      cursor: pointer;\n",
              "      display: none;\n",
              "      fill: #1967D2;\n",
              "      height: 32px;\n",
              "      padding: 0 0 0 0;\n",
              "      width: 32px;\n",
              "    }\n",
              "\n",
              "    .colab-df-convert:hover {\n",
              "      background-color: #E2EBFA;\n",
              "      box-shadow: 0px 1px 2px rgba(60, 64, 67, 0.3), 0px 1px 3px 1px rgba(60, 64, 67, 0.15);\n",
              "      fill: #174EA6;\n",
              "    }\n",
              "\n",
              "    .colab-df-buttons div {\n",
              "      margin-bottom: 4px;\n",
              "    }\n",
              "\n",
              "    [theme=dark] .colab-df-convert {\n",
              "      background-color: #3B4455;\n",
              "      fill: #D2E3FC;\n",
              "    }\n",
              "\n",
              "    [theme=dark] .colab-df-convert:hover {\n",
              "      background-color: #434B5C;\n",
              "      box-shadow: 0px 1px 3px 1px rgba(0, 0, 0, 0.15);\n",
              "      filter: drop-shadow(0px 1px 2px rgba(0, 0, 0, 0.3));\n",
              "      fill: #FFFFFF;\n",
              "    }\n",
              "  </style>\n",
              "\n",
              "    <script>\n",
              "      const buttonEl =\n",
              "        document.querySelector('#df-9c7a5287-d1a9-4b40-8f8b-8dd0d983f52d button.colab-df-convert');\n",
              "      buttonEl.style.display =\n",
              "        google.colab.kernel.accessAllowed ? 'block' : 'none';\n",
              "\n",
              "      async function convertToInteractive(key) {\n",
              "        const element = document.querySelector('#df-9c7a5287-d1a9-4b40-8f8b-8dd0d983f52d');\n",
              "        const dataTable =\n",
              "          await google.colab.kernel.invokeFunction('convertToInteractive',\n",
              "                                                    [key], {});\n",
              "        if (!dataTable) return;\n",
              "\n",
              "        const docLinkHtml = 'Like what you see? Visit the ' +\n",
              "          '<a target=\"_blank\" href=https://colab.research.google.com/notebooks/data_table.ipynb>data table notebook</a>'\n",
              "          + ' to learn more about interactive tables.';\n",
              "        element.innerHTML = '';\n",
              "        dataTable['output_type'] = 'display_data';\n",
              "        await google.colab.output.renderOutput(dataTable, element);\n",
              "        const docLink = document.createElement('div');\n",
              "        docLink.innerHTML = docLinkHtml;\n",
              "        element.appendChild(docLink);\n",
              "      }\n",
              "    </script>\n",
              "  </div>\n",
              "\n",
              "\n",
              "<div id=\"df-a530100c-c099-44b7-9475-f4f245ae4180\">\n",
              "  <button class=\"colab-df-quickchart\" onclick=\"quickchart('df-a530100c-c099-44b7-9475-f4f245ae4180')\"\n",
              "            title=\"Suggest charts.\"\n",
              "            style=\"display:none;\">\n",
              "\n",
              "<svg xmlns=\"http://www.w3.org/2000/svg\" height=\"24px\"viewBox=\"0 0 24 24\"\n",
              "     width=\"24px\">\n",
              "    <g>\n",
              "        <path d=\"M19 3H5c-1.1 0-2 .9-2 2v14c0 1.1.9 2 2 2h14c1.1 0 2-.9 2-2V5c0-1.1-.9-2-2-2zM9 17H7v-7h2v7zm4 0h-2V7h2v10zm4 0h-2v-4h2v4z\"/>\n",
              "    </g>\n",
              "</svg>\n",
              "  </button>\n",
              "\n",
              "<style>\n",
              "  .colab-df-quickchart {\n",
              "      --bg-color: #E8F0FE;\n",
              "      --fill-color: #1967D2;\n",
              "      --hover-bg-color: #E2EBFA;\n",
              "      --hover-fill-color: #174EA6;\n",
              "      --disabled-fill-color: #AAA;\n",
              "      --disabled-bg-color: #DDD;\n",
              "  }\n",
              "\n",
              "  [theme=dark] .colab-df-quickchart {\n",
              "      --bg-color: #3B4455;\n",
              "      --fill-color: #D2E3FC;\n",
              "      --hover-bg-color: #434B5C;\n",
              "      --hover-fill-color: #FFFFFF;\n",
              "      --disabled-bg-color: #3B4455;\n",
              "      --disabled-fill-color: #666;\n",
              "  }\n",
              "\n",
              "  .colab-df-quickchart {\n",
              "    background-color: var(--bg-color);\n",
              "    border: none;\n",
              "    border-radius: 50%;\n",
              "    cursor: pointer;\n",
              "    display: none;\n",
              "    fill: var(--fill-color);\n",
              "    height: 32px;\n",
              "    padding: 0;\n",
              "    width: 32px;\n",
              "  }\n",
              "\n",
              "  .colab-df-quickchart:hover {\n",
              "    background-color: var(--hover-bg-color);\n",
              "    box-shadow: 0 1px 2px rgba(60, 64, 67, 0.3), 0 1px 3px 1px rgba(60, 64, 67, 0.15);\n",
              "    fill: var(--button-hover-fill-color);\n",
              "  }\n",
              "\n",
              "  .colab-df-quickchart-complete:disabled,\n",
              "  .colab-df-quickchart-complete:disabled:hover {\n",
              "    background-color: var(--disabled-bg-color);\n",
              "    fill: var(--disabled-fill-color);\n",
              "    box-shadow: none;\n",
              "  }\n",
              "\n",
              "  .colab-df-spinner {\n",
              "    border: 2px solid var(--fill-color);\n",
              "    border-color: transparent;\n",
              "    border-bottom-color: var(--fill-color);\n",
              "    animation:\n",
              "      spin 1s steps(1) infinite;\n",
              "  }\n",
              "\n",
              "  @keyframes spin {\n",
              "    0% {\n",
              "      border-color: transparent;\n",
              "      border-bottom-color: var(--fill-color);\n",
              "      border-left-color: var(--fill-color);\n",
              "    }\n",
              "    20% {\n",
              "      border-color: transparent;\n",
              "      border-left-color: var(--fill-color);\n",
              "      border-top-color: var(--fill-color);\n",
              "    }\n",
              "    30% {\n",
              "      border-color: transparent;\n",
              "      border-left-color: var(--fill-color);\n",
              "      border-top-color: var(--fill-color);\n",
              "      border-right-color: var(--fill-color);\n",
              "    }\n",
              "    40% {\n",
              "      border-color: transparent;\n",
              "      border-right-color: var(--fill-color);\n",
              "      border-top-color: var(--fill-color);\n",
              "    }\n",
              "    60% {\n",
              "      border-color: transparent;\n",
              "      border-right-color: var(--fill-color);\n",
              "    }\n",
              "    80% {\n",
              "      border-color: transparent;\n",
              "      border-right-color: var(--fill-color);\n",
              "      border-bottom-color: var(--fill-color);\n",
              "    }\n",
              "    90% {\n",
              "      border-color: transparent;\n",
              "      border-bottom-color: var(--fill-color);\n",
              "    }\n",
              "  }\n",
              "</style>\n",
              "\n",
              "  <script>\n",
              "    async function quickchart(key) {\n",
              "      const quickchartButtonEl =\n",
              "        document.querySelector('#' + key + ' button');\n",
              "      quickchartButtonEl.disabled = true;  // To prevent multiple clicks.\n",
              "      quickchartButtonEl.classList.add('colab-df-spinner');\n",
              "      try {\n",
              "        const charts = await google.colab.kernel.invokeFunction(\n",
              "            'suggestCharts', [key], {});\n",
              "      } catch (error) {\n",
              "        console.error('Error during call to suggestCharts:', error);\n",
              "      }\n",
              "      quickchartButtonEl.classList.remove('colab-df-spinner');\n",
              "      quickchartButtonEl.classList.add('colab-df-quickchart-complete');\n",
              "    }\n",
              "    (() => {\n",
              "      let quickchartButtonEl =\n",
              "        document.querySelector('#df-a530100c-c099-44b7-9475-f4f245ae4180 button');\n",
              "      quickchartButtonEl.style.display =\n",
              "        google.colab.kernel.accessAllowed ? 'block' : 'none';\n",
              "    })();\n",
              "  </script>\n",
              "</div>\n",
              "    </div>\n",
              "  </div>\n"
            ]
          },
          "metadata": {},
          "execution_count": 48
        }
      ]
    },
    {
      "cell_type": "code",
      "source": [
        "diabetes_data.shape"
      ],
      "metadata": {
        "colab": {
          "base_uri": "https://localhost:8080/"
        },
        "id": "LPCkKeE76h_-",
        "outputId": "5e9ac105-87d2-468a-a993-c498a3651d15"
      },
      "execution_count": null,
      "outputs": [
        {
          "output_type": "execute_result",
          "data": {
            "text/plain": [
              "(768, 9)"
            ]
          },
          "metadata": {},
          "execution_count": 49
        }
      ]
    },
    {
      "cell_type": "code",
      "source": [
        "diabetes_data.describe()"
      ],
      "metadata": {
        "colab": {
          "base_uri": "https://localhost:8080/",
          "height": 300
        },
        "id": "TXYKSKqd6lOn",
        "outputId": "71138bda-0280-40aa-fec4-bdcc78b2ac33"
      },
      "execution_count": null,
      "outputs": [
        {
          "output_type": "execute_result",
          "data": {
            "text/plain": [
              "       Pregnancies     Glucose  BloodPressure  SkinThickness     Insulin  \\\n",
              "count   768.000000  768.000000     768.000000     768.000000  768.000000   \n",
              "mean      3.845052  120.894531      69.105469      20.536458   79.799479   \n",
              "std       3.369578   31.972618      19.355807      15.952218  115.244002   \n",
              "min       0.000000    0.000000       0.000000       0.000000    0.000000   \n",
              "25%       1.000000   99.000000      62.000000       0.000000    0.000000   \n",
              "50%       3.000000  117.000000      72.000000      23.000000   30.500000   \n",
              "75%       6.000000  140.250000      80.000000      32.000000  127.250000   \n",
              "max      17.000000  199.000000     122.000000      99.000000  846.000000   \n",
              "\n",
              "              BMI  DiabetesPedigreeFunction         Age     Outcome  \n",
              "count  768.000000                768.000000  768.000000  768.000000  \n",
              "mean    31.992578                  0.471876   33.240885    0.348958  \n",
              "std      7.884160                  0.331329   11.760232    0.476951  \n",
              "min      0.000000                  0.078000   21.000000    0.000000  \n",
              "25%     27.300000                  0.243750   24.000000    0.000000  \n",
              "50%     32.000000                  0.372500   29.000000    0.000000  \n",
              "75%     36.600000                  0.626250   41.000000    1.000000  \n",
              "max     67.100000                  2.420000   81.000000    1.000000  "
            ],
            "text/html": [
              "\n",
              "  <div id=\"df-579f132f-aff0-4fae-8cd8-9022ef93db9f\" class=\"colab-df-container\">\n",
              "    <div>\n",
              "<style scoped>\n",
              "    .dataframe tbody tr th:only-of-type {\n",
              "        vertical-align: middle;\n",
              "    }\n",
              "\n",
              "    .dataframe tbody tr th {\n",
              "        vertical-align: top;\n",
              "    }\n",
              "\n",
              "    .dataframe thead th {\n",
              "        text-align: right;\n",
              "    }\n",
              "</style>\n",
              "<table border=\"1\" class=\"dataframe\">\n",
              "  <thead>\n",
              "    <tr style=\"text-align: right;\">\n",
              "      <th></th>\n",
              "      <th>Pregnancies</th>\n",
              "      <th>Glucose</th>\n",
              "      <th>BloodPressure</th>\n",
              "      <th>SkinThickness</th>\n",
              "      <th>Insulin</th>\n",
              "      <th>BMI</th>\n",
              "      <th>DiabetesPedigreeFunction</th>\n",
              "      <th>Age</th>\n",
              "      <th>Outcome</th>\n",
              "    </tr>\n",
              "  </thead>\n",
              "  <tbody>\n",
              "    <tr>\n",
              "      <th>count</th>\n",
              "      <td>768.000000</td>\n",
              "      <td>768.000000</td>\n",
              "      <td>768.000000</td>\n",
              "      <td>768.000000</td>\n",
              "      <td>768.000000</td>\n",
              "      <td>768.000000</td>\n",
              "      <td>768.000000</td>\n",
              "      <td>768.000000</td>\n",
              "      <td>768.000000</td>\n",
              "    </tr>\n",
              "    <tr>\n",
              "      <th>mean</th>\n",
              "      <td>3.845052</td>\n",
              "      <td>120.894531</td>\n",
              "      <td>69.105469</td>\n",
              "      <td>20.536458</td>\n",
              "      <td>79.799479</td>\n",
              "      <td>31.992578</td>\n",
              "      <td>0.471876</td>\n",
              "      <td>33.240885</td>\n",
              "      <td>0.348958</td>\n",
              "    </tr>\n",
              "    <tr>\n",
              "      <th>std</th>\n",
              "      <td>3.369578</td>\n",
              "      <td>31.972618</td>\n",
              "      <td>19.355807</td>\n",
              "      <td>15.952218</td>\n",
              "      <td>115.244002</td>\n",
              "      <td>7.884160</td>\n",
              "      <td>0.331329</td>\n",
              "      <td>11.760232</td>\n",
              "      <td>0.476951</td>\n",
              "    </tr>\n",
              "    <tr>\n",
              "      <th>min</th>\n",
              "      <td>0.000000</td>\n",
              "      <td>0.000000</td>\n",
              "      <td>0.000000</td>\n",
              "      <td>0.000000</td>\n",
              "      <td>0.000000</td>\n",
              "      <td>0.000000</td>\n",
              "      <td>0.078000</td>\n",
              "      <td>21.000000</td>\n",
              "      <td>0.000000</td>\n",
              "    </tr>\n",
              "    <tr>\n",
              "      <th>25%</th>\n",
              "      <td>1.000000</td>\n",
              "      <td>99.000000</td>\n",
              "      <td>62.000000</td>\n",
              "      <td>0.000000</td>\n",
              "      <td>0.000000</td>\n",
              "      <td>27.300000</td>\n",
              "      <td>0.243750</td>\n",
              "      <td>24.000000</td>\n",
              "      <td>0.000000</td>\n",
              "    </tr>\n",
              "    <tr>\n",
              "      <th>50%</th>\n",
              "      <td>3.000000</td>\n",
              "      <td>117.000000</td>\n",
              "      <td>72.000000</td>\n",
              "      <td>23.000000</td>\n",
              "      <td>30.500000</td>\n",
              "      <td>32.000000</td>\n",
              "      <td>0.372500</td>\n",
              "      <td>29.000000</td>\n",
              "      <td>0.000000</td>\n",
              "    </tr>\n",
              "    <tr>\n",
              "      <th>75%</th>\n",
              "      <td>6.000000</td>\n",
              "      <td>140.250000</td>\n",
              "      <td>80.000000</td>\n",
              "      <td>32.000000</td>\n",
              "      <td>127.250000</td>\n",
              "      <td>36.600000</td>\n",
              "      <td>0.626250</td>\n",
              "      <td>41.000000</td>\n",
              "      <td>1.000000</td>\n",
              "    </tr>\n",
              "    <tr>\n",
              "      <th>max</th>\n",
              "      <td>17.000000</td>\n",
              "      <td>199.000000</td>\n",
              "      <td>122.000000</td>\n",
              "      <td>99.000000</td>\n",
              "      <td>846.000000</td>\n",
              "      <td>67.100000</td>\n",
              "      <td>2.420000</td>\n",
              "      <td>81.000000</td>\n",
              "      <td>1.000000</td>\n",
              "    </tr>\n",
              "  </tbody>\n",
              "</table>\n",
              "</div>\n",
              "    <div class=\"colab-df-buttons\">\n",
              "\n",
              "  <div class=\"colab-df-container\">\n",
              "    <button class=\"colab-df-convert\" onclick=\"convertToInteractive('df-579f132f-aff0-4fae-8cd8-9022ef93db9f')\"\n",
              "            title=\"Convert this dataframe to an interactive table.\"\n",
              "            style=\"display:none;\">\n",
              "\n",
              "  <svg xmlns=\"http://www.w3.org/2000/svg\" height=\"24px\" viewBox=\"0 -960 960 960\">\n",
              "    <path d=\"M120-120v-720h720v720H120Zm60-500h600v-160H180v160Zm220 220h160v-160H400v160Zm0 220h160v-160H400v160ZM180-400h160v-160H180v160Zm440 0h160v-160H620v160ZM180-180h160v-160H180v160Zm440 0h160v-160H620v160Z\"/>\n",
              "  </svg>\n",
              "    </button>\n",
              "\n",
              "  <style>\n",
              "    .colab-df-container {\n",
              "      display:flex;\n",
              "      gap: 12px;\n",
              "    }\n",
              "\n",
              "    .colab-df-convert {\n",
              "      background-color: #E8F0FE;\n",
              "      border: none;\n",
              "      border-radius: 50%;\n",
              "      cursor: pointer;\n",
              "      display: none;\n",
              "      fill: #1967D2;\n",
              "      height: 32px;\n",
              "      padding: 0 0 0 0;\n",
              "      width: 32px;\n",
              "    }\n",
              "\n",
              "    .colab-df-convert:hover {\n",
              "      background-color: #E2EBFA;\n",
              "      box-shadow: 0px 1px 2px rgba(60, 64, 67, 0.3), 0px 1px 3px 1px rgba(60, 64, 67, 0.15);\n",
              "      fill: #174EA6;\n",
              "    }\n",
              "\n",
              "    .colab-df-buttons div {\n",
              "      margin-bottom: 4px;\n",
              "    }\n",
              "\n",
              "    [theme=dark] .colab-df-convert {\n",
              "      background-color: #3B4455;\n",
              "      fill: #D2E3FC;\n",
              "    }\n",
              "\n",
              "    [theme=dark] .colab-df-convert:hover {\n",
              "      background-color: #434B5C;\n",
              "      box-shadow: 0px 1px 3px 1px rgba(0, 0, 0, 0.15);\n",
              "      filter: drop-shadow(0px 1px 2px rgba(0, 0, 0, 0.3));\n",
              "      fill: #FFFFFF;\n",
              "    }\n",
              "  </style>\n",
              "\n",
              "    <script>\n",
              "      const buttonEl =\n",
              "        document.querySelector('#df-579f132f-aff0-4fae-8cd8-9022ef93db9f button.colab-df-convert');\n",
              "      buttonEl.style.display =\n",
              "        google.colab.kernel.accessAllowed ? 'block' : 'none';\n",
              "\n",
              "      async function convertToInteractive(key) {\n",
              "        const element = document.querySelector('#df-579f132f-aff0-4fae-8cd8-9022ef93db9f');\n",
              "        const dataTable =\n",
              "          await google.colab.kernel.invokeFunction('convertToInteractive',\n",
              "                                                    [key], {});\n",
              "        if (!dataTable) return;\n",
              "\n",
              "        const docLinkHtml = 'Like what you see? Visit the ' +\n",
              "          '<a target=\"_blank\" href=https://colab.research.google.com/notebooks/data_table.ipynb>data table notebook</a>'\n",
              "          + ' to learn more about interactive tables.';\n",
              "        element.innerHTML = '';\n",
              "        dataTable['output_type'] = 'display_data';\n",
              "        await google.colab.output.renderOutput(dataTable, element);\n",
              "        const docLink = document.createElement('div');\n",
              "        docLink.innerHTML = docLinkHtml;\n",
              "        element.appendChild(docLink);\n",
              "      }\n",
              "    </script>\n",
              "  </div>\n",
              "\n",
              "\n",
              "<div id=\"df-c244ccb5-f314-40b4-9adf-4586fcfec7e3\">\n",
              "  <button class=\"colab-df-quickchart\" onclick=\"quickchart('df-c244ccb5-f314-40b4-9adf-4586fcfec7e3')\"\n",
              "            title=\"Suggest charts.\"\n",
              "            style=\"display:none;\">\n",
              "\n",
              "<svg xmlns=\"http://www.w3.org/2000/svg\" height=\"24px\"viewBox=\"0 0 24 24\"\n",
              "     width=\"24px\">\n",
              "    <g>\n",
              "        <path d=\"M19 3H5c-1.1 0-2 .9-2 2v14c0 1.1.9 2 2 2h14c1.1 0 2-.9 2-2V5c0-1.1-.9-2-2-2zM9 17H7v-7h2v7zm4 0h-2V7h2v10zm4 0h-2v-4h2v4z\"/>\n",
              "    </g>\n",
              "</svg>\n",
              "  </button>\n",
              "\n",
              "<style>\n",
              "  .colab-df-quickchart {\n",
              "      --bg-color: #E8F0FE;\n",
              "      --fill-color: #1967D2;\n",
              "      --hover-bg-color: #E2EBFA;\n",
              "      --hover-fill-color: #174EA6;\n",
              "      --disabled-fill-color: #AAA;\n",
              "      --disabled-bg-color: #DDD;\n",
              "  }\n",
              "\n",
              "  [theme=dark] .colab-df-quickchart {\n",
              "      --bg-color: #3B4455;\n",
              "      --fill-color: #D2E3FC;\n",
              "      --hover-bg-color: #434B5C;\n",
              "      --hover-fill-color: #FFFFFF;\n",
              "      --disabled-bg-color: #3B4455;\n",
              "      --disabled-fill-color: #666;\n",
              "  }\n",
              "\n",
              "  .colab-df-quickchart {\n",
              "    background-color: var(--bg-color);\n",
              "    border: none;\n",
              "    border-radius: 50%;\n",
              "    cursor: pointer;\n",
              "    display: none;\n",
              "    fill: var(--fill-color);\n",
              "    height: 32px;\n",
              "    padding: 0;\n",
              "    width: 32px;\n",
              "  }\n",
              "\n",
              "  .colab-df-quickchart:hover {\n",
              "    background-color: var(--hover-bg-color);\n",
              "    box-shadow: 0 1px 2px rgba(60, 64, 67, 0.3), 0 1px 3px 1px rgba(60, 64, 67, 0.15);\n",
              "    fill: var(--button-hover-fill-color);\n",
              "  }\n",
              "\n",
              "  .colab-df-quickchart-complete:disabled,\n",
              "  .colab-df-quickchart-complete:disabled:hover {\n",
              "    background-color: var(--disabled-bg-color);\n",
              "    fill: var(--disabled-fill-color);\n",
              "    box-shadow: none;\n",
              "  }\n",
              "\n",
              "  .colab-df-spinner {\n",
              "    border: 2px solid var(--fill-color);\n",
              "    border-color: transparent;\n",
              "    border-bottom-color: var(--fill-color);\n",
              "    animation:\n",
              "      spin 1s steps(1) infinite;\n",
              "  }\n",
              "\n",
              "  @keyframes spin {\n",
              "    0% {\n",
              "      border-color: transparent;\n",
              "      border-bottom-color: var(--fill-color);\n",
              "      border-left-color: var(--fill-color);\n",
              "    }\n",
              "    20% {\n",
              "      border-color: transparent;\n",
              "      border-left-color: var(--fill-color);\n",
              "      border-top-color: var(--fill-color);\n",
              "    }\n",
              "    30% {\n",
              "      border-color: transparent;\n",
              "      border-left-color: var(--fill-color);\n",
              "      border-top-color: var(--fill-color);\n",
              "      border-right-color: var(--fill-color);\n",
              "    }\n",
              "    40% {\n",
              "      border-color: transparent;\n",
              "      border-right-color: var(--fill-color);\n",
              "      border-top-color: var(--fill-color);\n",
              "    }\n",
              "    60% {\n",
              "      border-color: transparent;\n",
              "      border-right-color: var(--fill-color);\n",
              "    }\n",
              "    80% {\n",
              "      border-color: transparent;\n",
              "      border-right-color: var(--fill-color);\n",
              "      border-bottom-color: var(--fill-color);\n",
              "    }\n",
              "    90% {\n",
              "      border-color: transparent;\n",
              "      border-bottom-color: var(--fill-color);\n",
              "    }\n",
              "  }\n",
              "</style>\n",
              "\n",
              "  <script>\n",
              "    async function quickchart(key) {\n",
              "      const quickchartButtonEl =\n",
              "        document.querySelector('#' + key + ' button');\n",
              "      quickchartButtonEl.disabled = true;  // To prevent multiple clicks.\n",
              "      quickchartButtonEl.classList.add('colab-df-spinner');\n",
              "      try {\n",
              "        const charts = await google.colab.kernel.invokeFunction(\n",
              "            'suggestCharts', [key], {});\n",
              "      } catch (error) {\n",
              "        console.error('Error during call to suggestCharts:', error);\n",
              "      }\n",
              "      quickchartButtonEl.classList.remove('colab-df-spinner');\n",
              "      quickchartButtonEl.classList.add('colab-df-quickchart-complete');\n",
              "    }\n",
              "    (() => {\n",
              "      let quickchartButtonEl =\n",
              "        document.querySelector('#df-c244ccb5-f314-40b4-9adf-4586fcfec7e3 button');\n",
              "      quickchartButtonEl.style.display =\n",
              "        google.colab.kernel.accessAllowed ? 'block' : 'none';\n",
              "    })();\n",
              "  </script>\n",
              "</div>\n",
              "    </div>\n",
              "  </div>\n"
            ]
          },
          "metadata": {},
          "execution_count": 50
        }
      ]
    },
    {
      "cell_type": "code",
      "source": [
        "diabetes_data['Outcome'].value_counts()"
      ],
      "metadata": {
        "colab": {
          "base_uri": "https://localhost:8080/"
        },
        "id": "V8TypKkc6plC",
        "outputId": "c6c834a9-39d7-4ab8-ebc7-7b8c8a31581e"
      },
      "execution_count": null,
      "outputs": [
        {
          "output_type": "execute_result",
          "data": {
            "text/plain": [
              "0    500\n",
              "1    268\n",
              "Name: Outcome, dtype: int64"
            ]
          },
          "metadata": {},
          "execution_count": 51
        }
      ]
    },
    {
      "cell_type": "markdown",
      "source": [
        "0 --> Non - diabetic\n",
        "\n",
        "1 --> Diabetic"
      ],
      "metadata": {
        "id": "s6GxpsnN6yNC"
      }
    },
    {
      "cell_type": "code",
      "source": [
        "diabetes_data.groupby('Outcome').mean()"
      ],
      "metadata": {
        "colab": {
          "base_uri": "https://localhost:8080/",
          "height": 143
        },
        "id": "xhIiNH5l6x4h",
        "outputId": "05bcfed6-d7b1-4ff9-9630-c8ff7be5e47d"
      },
      "execution_count": null,
      "outputs": [
        {
          "output_type": "execute_result",
          "data": {
            "text/plain": [
              "         Pregnancies     Glucose  BloodPressure  SkinThickness     Insulin  \\\n",
              "Outcome                                                                      \n",
              "0           3.298000  109.980000      68.184000      19.664000   68.792000   \n",
              "1           4.865672  141.257463      70.824627      22.164179  100.335821   \n",
              "\n",
              "               BMI  DiabetesPedigreeFunction        Age  \n",
              "Outcome                                                  \n",
              "0        30.304200                  0.429734  31.190000  \n",
              "1        35.142537                  0.550500  37.067164  "
            ],
            "text/html": [
              "\n",
              "  <div id=\"df-1010230e-fd3b-4e20-91f1-59e02d28c200\" class=\"colab-df-container\">\n",
              "    <div>\n",
              "<style scoped>\n",
              "    .dataframe tbody tr th:only-of-type {\n",
              "        vertical-align: middle;\n",
              "    }\n",
              "\n",
              "    .dataframe tbody tr th {\n",
              "        vertical-align: top;\n",
              "    }\n",
              "\n",
              "    .dataframe thead th {\n",
              "        text-align: right;\n",
              "    }\n",
              "</style>\n",
              "<table border=\"1\" class=\"dataframe\">\n",
              "  <thead>\n",
              "    <tr style=\"text-align: right;\">\n",
              "      <th></th>\n",
              "      <th>Pregnancies</th>\n",
              "      <th>Glucose</th>\n",
              "      <th>BloodPressure</th>\n",
              "      <th>SkinThickness</th>\n",
              "      <th>Insulin</th>\n",
              "      <th>BMI</th>\n",
              "      <th>DiabetesPedigreeFunction</th>\n",
              "      <th>Age</th>\n",
              "    </tr>\n",
              "    <tr>\n",
              "      <th>Outcome</th>\n",
              "      <th></th>\n",
              "      <th></th>\n",
              "      <th></th>\n",
              "      <th></th>\n",
              "      <th></th>\n",
              "      <th></th>\n",
              "      <th></th>\n",
              "      <th></th>\n",
              "    </tr>\n",
              "  </thead>\n",
              "  <tbody>\n",
              "    <tr>\n",
              "      <th>0</th>\n",
              "      <td>3.298000</td>\n",
              "      <td>109.980000</td>\n",
              "      <td>68.184000</td>\n",
              "      <td>19.664000</td>\n",
              "      <td>68.792000</td>\n",
              "      <td>30.304200</td>\n",
              "      <td>0.429734</td>\n",
              "      <td>31.190000</td>\n",
              "    </tr>\n",
              "    <tr>\n",
              "      <th>1</th>\n",
              "      <td>4.865672</td>\n",
              "      <td>141.257463</td>\n",
              "      <td>70.824627</td>\n",
              "      <td>22.164179</td>\n",
              "      <td>100.335821</td>\n",
              "      <td>35.142537</td>\n",
              "      <td>0.550500</td>\n",
              "      <td>37.067164</td>\n",
              "    </tr>\n",
              "  </tbody>\n",
              "</table>\n",
              "</div>\n",
              "    <div class=\"colab-df-buttons\">\n",
              "\n",
              "  <div class=\"colab-df-container\">\n",
              "    <button class=\"colab-df-convert\" onclick=\"convertToInteractive('df-1010230e-fd3b-4e20-91f1-59e02d28c200')\"\n",
              "            title=\"Convert this dataframe to an interactive table.\"\n",
              "            style=\"display:none;\">\n",
              "\n",
              "  <svg xmlns=\"http://www.w3.org/2000/svg\" height=\"24px\" viewBox=\"0 -960 960 960\">\n",
              "    <path d=\"M120-120v-720h720v720H120Zm60-500h600v-160H180v160Zm220 220h160v-160H400v160Zm0 220h160v-160H400v160ZM180-400h160v-160H180v160Zm440 0h160v-160H620v160ZM180-180h160v-160H180v160Zm440 0h160v-160H620v160Z\"/>\n",
              "  </svg>\n",
              "    </button>\n",
              "\n",
              "  <style>\n",
              "    .colab-df-container {\n",
              "      display:flex;\n",
              "      gap: 12px;\n",
              "    }\n",
              "\n",
              "    .colab-df-convert {\n",
              "      background-color: #E8F0FE;\n",
              "      border: none;\n",
              "      border-radius: 50%;\n",
              "      cursor: pointer;\n",
              "      display: none;\n",
              "      fill: #1967D2;\n",
              "      height: 32px;\n",
              "      padding: 0 0 0 0;\n",
              "      width: 32px;\n",
              "    }\n",
              "\n",
              "    .colab-df-convert:hover {\n",
              "      background-color: #E2EBFA;\n",
              "      box-shadow: 0px 1px 2px rgba(60, 64, 67, 0.3), 0px 1px 3px 1px rgba(60, 64, 67, 0.15);\n",
              "      fill: #174EA6;\n",
              "    }\n",
              "\n",
              "    .colab-df-buttons div {\n",
              "      margin-bottom: 4px;\n",
              "    }\n",
              "\n",
              "    [theme=dark] .colab-df-convert {\n",
              "      background-color: #3B4455;\n",
              "      fill: #D2E3FC;\n",
              "    }\n",
              "\n",
              "    [theme=dark] .colab-df-convert:hover {\n",
              "      background-color: #434B5C;\n",
              "      box-shadow: 0px 1px 3px 1px rgba(0, 0, 0, 0.15);\n",
              "      filter: drop-shadow(0px 1px 2px rgba(0, 0, 0, 0.3));\n",
              "      fill: #FFFFFF;\n",
              "    }\n",
              "  </style>\n",
              "\n",
              "    <script>\n",
              "      const buttonEl =\n",
              "        document.querySelector('#df-1010230e-fd3b-4e20-91f1-59e02d28c200 button.colab-df-convert');\n",
              "      buttonEl.style.display =\n",
              "        google.colab.kernel.accessAllowed ? 'block' : 'none';\n",
              "\n",
              "      async function convertToInteractive(key) {\n",
              "        const element = document.querySelector('#df-1010230e-fd3b-4e20-91f1-59e02d28c200');\n",
              "        const dataTable =\n",
              "          await google.colab.kernel.invokeFunction('convertToInteractive',\n",
              "                                                    [key], {});\n",
              "        if (!dataTable) return;\n",
              "\n",
              "        const docLinkHtml = 'Like what you see? Visit the ' +\n",
              "          '<a target=\"_blank\" href=https://colab.research.google.com/notebooks/data_table.ipynb>data table notebook</a>'\n",
              "          + ' to learn more about interactive tables.';\n",
              "        element.innerHTML = '';\n",
              "        dataTable['output_type'] = 'display_data';\n",
              "        await google.colab.output.renderOutput(dataTable, element);\n",
              "        const docLink = document.createElement('div');\n",
              "        docLink.innerHTML = docLinkHtml;\n",
              "        element.appendChild(docLink);\n",
              "      }\n",
              "    </script>\n",
              "  </div>\n",
              "\n",
              "\n",
              "<div id=\"df-7db41884-05fe-4c63-a44e-a3931bb76080\">\n",
              "  <button class=\"colab-df-quickchart\" onclick=\"quickchart('df-7db41884-05fe-4c63-a44e-a3931bb76080')\"\n",
              "            title=\"Suggest charts.\"\n",
              "            style=\"display:none;\">\n",
              "\n",
              "<svg xmlns=\"http://www.w3.org/2000/svg\" height=\"24px\"viewBox=\"0 0 24 24\"\n",
              "     width=\"24px\">\n",
              "    <g>\n",
              "        <path d=\"M19 3H5c-1.1 0-2 .9-2 2v14c0 1.1.9 2 2 2h14c1.1 0 2-.9 2-2V5c0-1.1-.9-2-2-2zM9 17H7v-7h2v7zm4 0h-2V7h2v10zm4 0h-2v-4h2v4z\"/>\n",
              "    </g>\n",
              "</svg>\n",
              "  </button>\n",
              "\n",
              "<style>\n",
              "  .colab-df-quickchart {\n",
              "      --bg-color: #E8F0FE;\n",
              "      --fill-color: #1967D2;\n",
              "      --hover-bg-color: #E2EBFA;\n",
              "      --hover-fill-color: #174EA6;\n",
              "      --disabled-fill-color: #AAA;\n",
              "      --disabled-bg-color: #DDD;\n",
              "  }\n",
              "\n",
              "  [theme=dark] .colab-df-quickchart {\n",
              "      --bg-color: #3B4455;\n",
              "      --fill-color: #D2E3FC;\n",
              "      --hover-bg-color: #434B5C;\n",
              "      --hover-fill-color: #FFFFFF;\n",
              "      --disabled-bg-color: #3B4455;\n",
              "      --disabled-fill-color: #666;\n",
              "  }\n",
              "\n",
              "  .colab-df-quickchart {\n",
              "    background-color: var(--bg-color);\n",
              "    border: none;\n",
              "    border-radius: 50%;\n",
              "    cursor: pointer;\n",
              "    display: none;\n",
              "    fill: var(--fill-color);\n",
              "    height: 32px;\n",
              "    padding: 0;\n",
              "    width: 32px;\n",
              "  }\n",
              "\n",
              "  .colab-df-quickchart:hover {\n",
              "    background-color: var(--hover-bg-color);\n",
              "    box-shadow: 0 1px 2px rgba(60, 64, 67, 0.3), 0 1px 3px 1px rgba(60, 64, 67, 0.15);\n",
              "    fill: var(--button-hover-fill-color);\n",
              "  }\n",
              "\n",
              "  .colab-df-quickchart-complete:disabled,\n",
              "  .colab-df-quickchart-complete:disabled:hover {\n",
              "    background-color: var(--disabled-bg-color);\n",
              "    fill: var(--disabled-fill-color);\n",
              "    box-shadow: none;\n",
              "  }\n",
              "\n",
              "  .colab-df-spinner {\n",
              "    border: 2px solid var(--fill-color);\n",
              "    border-color: transparent;\n",
              "    border-bottom-color: var(--fill-color);\n",
              "    animation:\n",
              "      spin 1s steps(1) infinite;\n",
              "  }\n",
              "\n",
              "  @keyframes spin {\n",
              "    0% {\n",
              "      border-color: transparent;\n",
              "      border-bottom-color: var(--fill-color);\n",
              "      border-left-color: var(--fill-color);\n",
              "    }\n",
              "    20% {\n",
              "      border-color: transparent;\n",
              "      border-left-color: var(--fill-color);\n",
              "      border-top-color: var(--fill-color);\n",
              "    }\n",
              "    30% {\n",
              "      border-color: transparent;\n",
              "      border-left-color: var(--fill-color);\n",
              "      border-top-color: var(--fill-color);\n",
              "      border-right-color: var(--fill-color);\n",
              "    }\n",
              "    40% {\n",
              "      border-color: transparent;\n",
              "      border-right-color: var(--fill-color);\n",
              "      border-top-color: var(--fill-color);\n",
              "    }\n",
              "    60% {\n",
              "      border-color: transparent;\n",
              "      border-right-color: var(--fill-color);\n",
              "    }\n",
              "    80% {\n",
              "      border-color: transparent;\n",
              "      border-right-color: var(--fill-color);\n",
              "      border-bottom-color: var(--fill-color);\n",
              "    }\n",
              "    90% {\n",
              "      border-color: transparent;\n",
              "      border-bottom-color: var(--fill-color);\n",
              "    }\n",
              "  }\n",
              "</style>\n",
              "\n",
              "  <script>\n",
              "    async function quickchart(key) {\n",
              "      const quickchartButtonEl =\n",
              "        document.querySelector('#' + key + ' button');\n",
              "      quickchartButtonEl.disabled = true;  // To prevent multiple clicks.\n",
              "      quickchartButtonEl.classList.add('colab-df-spinner');\n",
              "      try {\n",
              "        const charts = await google.colab.kernel.invokeFunction(\n",
              "            'suggestCharts', [key], {});\n",
              "      } catch (error) {\n",
              "        console.error('Error during call to suggestCharts:', error);\n",
              "      }\n",
              "      quickchartButtonEl.classList.remove('colab-df-spinner');\n",
              "      quickchartButtonEl.classList.add('colab-df-quickchart-complete');\n",
              "    }\n",
              "    (() => {\n",
              "      let quickchartButtonEl =\n",
              "        document.querySelector('#df-7db41884-05fe-4c63-a44e-a3931bb76080 button');\n",
              "      quickchartButtonEl.style.display =\n",
              "        google.colab.kernel.accessAllowed ? 'block' : 'none';\n",
              "    })();\n",
              "  </script>\n",
              "</div>\n",
              "    </div>\n",
              "  </div>\n"
            ]
          },
          "metadata": {},
          "execution_count": 52
        }
      ]
    },
    {
      "cell_type": "code",
      "source": [
        "#seperating the features and labels\n",
        "features = diabetes_data.drop(columns = 'Outcome', axis = 1)\n",
        "label = diabetes_data['Outcome']"
      ],
      "metadata": {
        "id": "aA4CXx0e6vZi"
      },
      "execution_count": null,
      "outputs": []
    },
    {
      "cell_type": "code",
      "source": [
        "print(features)"
      ],
      "metadata": {
        "colab": {
          "base_uri": "https://localhost:8080/"
        },
        "id": "Y8RQWHYY7Ky0",
        "outputId": "18531c28-8472-417a-9314-c703de17f892"
      },
      "execution_count": null,
      "outputs": [
        {
          "output_type": "stream",
          "name": "stdout",
          "text": [
            "     Pregnancies  Glucose  BloodPressure  SkinThickness  Insulin   BMI  \\\n",
            "0              6      148             72             35        0  33.6   \n",
            "1              1       85             66             29        0  26.6   \n",
            "2              8      183             64              0        0  23.3   \n",
            "3              1       89             66             23       94  28.1   \n",
            "4              0      137             40             35      168  43.1   \n",
            "..           ...      ...            ...            ...      ...   ...   \n",
            "763           10      101             76             48      180  32.9   \n",
            "764            2      122             70             27        0  36.8   \n",
            "765            5      121             72             23      112  26.2   \n",
            "766            1      126             60              0        0  30.1   \n",
            "767            1       93             70             31        0  30.4   \n",
            "\n",
            "     DiabetesPedigreeFunction  Age  \n",
            "0                       0.627   50  \n",
            "1                       0.351   31  \n",
            "2                       0.672   32  \n",
            "3                       0.167   21  \n",
            "4                       2.288   33  \n",
            "..                        ...  ...  \n",
            "763                     0.171   63  \n",
            "764                     0.340   27  \n",
            "765                     0.245   30  \n",
            "766                     0.349   47  \n",
            "767                     0.315   23  \n",
            "\n",
            "[768 rows x 8 columns]\n"
          ]
        }
      ]
    },
    {
      "cell_type": "code",
      "source": [
        "print(label)"
      ],
      "metadata": {
        "colab": {
          "base_uri": "https://localhost:8080/"
        },
        "id": "N_lzn_ey7SJv",
        "outputId": "e1f1d040-bd11-4933-d87b-a26cc7a03e59"
      },
      "execution_count": null,
      "outputs": [
        {
          "output_type": "stream",
          "name": "stdout",
          "text": [
            "0      1\n",
            "1      0\n",
            "2      1\n",
            "3      0\n",
            "4      1\n",
            "      ..\n",
            "763    0\n",
            "764    0\n",
            "765    0\n",
            "766    1\n",
            "767    0\n",
            "Name: Outcome, Length: 768, dtype: int64\n"
          ]
        }
      ]
    },
    {
      "cell_type": "code",
      "source": [
        "# we can see different features are in different ranges (0-10 , 100 - 150) etc, so we need to standardize the data\n",
        "scaler = StandardScaler()"
      ],
      "metadata": {
        "id": "Evj4u7jX7V2u"
      },
      "execution_count": null,
      "outputs": []
    },
    {
      "cell_type": "code",
      "source": [
        "scaler.fit(features)"
      ],
      "metadata": {
        "colab": {
          "base_uri": "https://localhost:8080/",
          "height": 74
        },
        "id": "_MpEdx__70JI",
        "outputId": "f15f4134-b8c8-49e5-eb89-8ed6c1d181d9"
      },
      "execution_count": null,
      "outputs": [
        {
          "output_type": "execute_result",
          "data": {
            "text/plain": [
              "StandardScaler()"
            ],
            "text/html": [
              "<style>#sk-container-id-3 {color: black;background-color: white;}#sk-container-id-3 pre{padding: 0;}#sk-container-id-3 div.sk-toggleable {background-color: white;}#sk-container-id-3 label.sk-toggleable__label {cursor: pointer;display: block;width: 100%;margin-bottom: 0;padding: 0.3em;box-sizing: border-box;text-align: center;}#sk-container-id-3 label.sk-toggleable__label-arrow:before {content: \"▸\";float: left;margin-right: 0.25em;color: #696969;}#sk-container-id-3 label.sk-toggleable__label-arrow:hover:before {color: black;}#sk-container-id-3 div.sk-estimator:hover label.sk-toggleable__label-arrow:before {color: black;}#sk-container-id-3 div.sk-toggleable__content {max-height: 0;max-width: 0;overflow: hidden;text-align: left;background-color: #f0f8ff;}#sk-container-id-3 div.sk-toggleable__content pre {margin: 0.2em;color: black;border-radius: 0.25em;background-color: #f0f8ff;}#sk-container-id-3 input.sk-toggleable__control:checked~div.sk-toggleable__content {max-height: 200px;max-width: 100%;overflow: auto;}#sk-container-id-3 input.sk-toggleable__control:checked~label.sk-toggleable__label-arrow:before {content: \"▾\";}#sk-container-id-3 div.sk-estimator input.sk-toggleable__control:checked~label.sk-toggleable__label {background-color: #d4ebff;}#sk-container-id-3 div.sk-label input.sk-toggleable__control:checked~label.sk-toggleable__label {background-color: #d4ebff;}#sk-container-id-3 input.sk-hidden--visually {border: 0;clip: rect(1px 1px 1px 1px);clip: rect(1px, 1px, 1px, 1px);height: 1px;margin: -1px;overflow: hidden;padding: 0;position: absolute;width: 1px;}#sk-container-id-3 div.sk-estimator {font-family: monospace;background-color: #f0f8ff;border: 1px dotted black;border-radius: 0.25em;box-sizing: border-box;margin-bottom: 0.5em;}#sk-container-id-3 div.sk-estimator:hover {background-color: #d4ebff;}#sk-container-id-3 div.sk-parallel-item::after {content: \"\";width: 100%;border-bottom: 1px solid gray;flex-grow: 1;}#sk-container-id-3 div.sk-label:hover label.sk-toggleable__label {background-color: #d4ebff;}#sk-container-id-3 div.sk-serial::before {content: \"\";position: absolute;border-left: 1px solid gray;box-sizing: border-box;top: 0;bottom: 0;left: 50%;z-index: 0;}#sk-container-id-3 div.sk-serial {display: flex;flex-direction: column;align-items: center;background-color: white;padding-right: 0.2em;padding-left: 0.2em;position: relative;}#sk-container-id-3 div.sk-item {position: relative;z-index: 1;}#sk-container-id-3 div.sk-parallel {display: flex;align-items: stretch;justify-content: center;background-color: white;position: relative;}#sk-container-id-3 div.sk-item::before, #sk-container-id-3 div.sk-parallel-item::before {content: \"\";position: absolute;border-left: 1px solid gray;box-sizing: border-box;top: 0;bottom: 0;left: 50%;z-index: -1;}#sk-container-id-3 div.sk-parallel-item {display: flex;flex-direction: column;z-index: 1;position: relative;background-color: white;}#sk-container-id-3 div.sk-parallel-item:first-child::after {align-self: flex-end;width: 50%;}#sk-container-id-3 div.sk-parallel-item:last-child::after {align-self: flex-start;width: 50%;}#sk-container-id-3 div.sk-parallel-item:only-child::after {width: 0;}#sk-container-id-3 div.sk-dashed-wrapped {border: 1px dashed gray;margin: 0 0.4em 0.5em 0.4em;box-sizing: border-box;padding-bottom: 0.4em;background-color: white;}#sk-container-id-3 div.sk-label label {font-family: monospace;font-weight: bold;display: inline-block;line-height: 1.2em;}#sk-container-id-3 div.sk-label-container {text-align: center;}#sk-container-id-3 div.sk-container {/* jupyter's `normalize.less` sets `[hidden] { display: none; }` but bootstrap.min.css set `[hidden] { display: none !important; }` so we also need the `!important` here to be able to override the default hidden behavior on the sphinx rendered scikit-learn.org. See: https://github.com/scikit-learn/scikit-learn/issues/21755 */display: inline-block !important;position: relative;}#sk-container-id-3 div.sk-text-repr-fallback {display: none;}</style><div id=\"sk-container-id-3\" class=\"sk-top-container\"><div class=\"sk-text-repr-fallback\"><pre>StandardScaler()</pre><b>In a Jupyter environment, please rerun this cell to show the HTML representation or trust the notebook. <br />On GitHub, the HTML representation is unable to render, please try loading this page with nbviewer.org.</b></div><div class=\"sk-container\" hidden><div class=\"sk-item\"><div class=\"sk-estimator sk-toggleable\"><input class=\"sk-toggleable__control sk-hidden--visually\" id=\"sk-estimator-id-3\" type=\"checkbox\" checked><label for=\"sk-estimator-id-3\" class=\"sk-toggleable__label sk-toggleable__label-arrow\">StandardScaler</label><div class=\"sk-toggleable__content\"><pre>StandardScaler()</pre></div></div></div></div></div>"
            ]
          },
          "metadata": {},
          "execution_count": 57
        }
      ]
    },
    {
      "cell_type": "code",
      "source": [
        "std_data = scaler.transform(features)"
      ],
      "metadata": {
        "id": "CfCQmESf717u"
      },
      "execution_count": null,
      "outputs": []
    },
    {
      "cell_type": "code",
      "source": [
        "print(std_data)"
      ],
      "metadata": {
        "colab": {
          "base_uri": "https://localhost:8080/"
        },
        "id": "xg9jxZ0Q78_A",
        "outputId": "8dcfa3e2-4c2b-4444-b8cf-7a25c2640047"
      },
      "execution_count": null,
      "outputs": [
        {
          "output_type": "stream",
          "name": "stdout",
          "text": [
            "[[ 0.63994726  0.84832379  0.14964075 ...  0.20401277  0.46849198\n",
            "   1.4259954 ]\n",
            " [-0.84488505 -1.12339636 -0.16054575 ... -0.68442195 -0.36506078\n",
            "  -0.19067191]\n",
            " [ 1.23388019  1.94372388 -0.26394125 ... -1.10325546  0.60439732\n",
            "  -0.10558415]\n",
            " ...\n",
            " [ 0.3429808   0.00330087  0.14964075 ... -0.73518964 -0.68519336\n",
            "  -0.27575966]\n",
            " [-0.84488505  0.1597866  -0.47073225 ... -0.24020459 -0.37110101\n",
            "   1.17073215]\n",
            " [-0.84488505 -0.8730192   0.04624525 ... -0.20212881 -0.47378505\n",
            "  -0.87137393]]\n"
          ]
        }
      ]
    },
    {
      "cell_type": "code",
      "source": [
        "features = std_data\n",
        "target = diabetes_data['Outcome']"
      ],
      "metadata": {
        "id": "BoLgv9t47-nV"
      },
      "execution_count": null,
      "outputs": []
    },
    {
      "cell_type": "code",
      "source": [
        "# train test splitting\n",
        "x_train,x_test,y_train,y_test = train_test_split(features,target,test_size = 0.2, random_state = 2)"
      ],
      "metadata": {
        "id": "vrFxu2GA8EzG"
      },
      "execution_count": null,
      "outputs": []
    },
    {
      "cell_type": "code",
      "source": [
        "print(features.shape, x_train.shape, x_test.shape)"
      ],
      "metadata": {
        "colab": {
          "base_uri": "https://localhost:8080/"
        },
        "id": "oUMd8huv8Q6s",
        "outputId": "5fd9aa02-ccb8-425d-e301-ca9fb6fe2d90"
      },
      "execution_count": null,
      "outputs": [
        {
          "output_type": "stream",
          "name": "stdout",
          "text": [
            "(768, 8) (614, 8) (154, 8)\n"
          ]
        }
      ]
    },
    {
      "cell_type": "code",
      "source": [
        "#training the model\n",
        "model = logistic_regression(learning_rate=0.01, no_of_iterations=1000)"
      ],
      "metadata": {
        "id": "sYpk5aHp8VP8"
      },
      "execution_count": null,
      "outputs": []
    },
    {
      "cell_type": "code",
      "source": [
        "model.fit(x_train,y_train)"
      ],
      "metadata": {
        "id": "wZQ7Bp018awA"
      },
      "execution_count": null,
      "outputs": []
    },
    {
      "cell_type": "code",
      "source": [
        "#model evaluation\n",
        "x_train_pred = model.predict(x_train)\n",
        "training_accuracy = accuracy_score(x_train_pred, y_train)"
      ],
      "metadata": {
        "id": "AyRznt3U868Q"
      },
      "execution_count": null,
      "outputs": []
    },
    {
      "cell_type": "code",
      "source": [
        "print(training_accuracy)"
      ],
      "metadata": {
        "colab": {
          "base_uri": "https://localhost:8080/"
        },
        "id": "IX6AsJyX9S5a",
        "outputId": "44f7c0ed-8803-48a7-d027-8e5285604962"
      },
      "execution_count": null,
      "outputs": [
        {
          "output_type": "stream",
          "name": "stdout",
          "text": [
            "0.6905537459283387\n"
          ]
        }
      ]
    },
    {
      "cell_type": "code",
      "source": [
        "x_test_prediction = model.predict(x_test)\n",
        "test_accuracy = accuracy_score(x_test_prediction, y_test)"
      ],
      "metadata": {
        "id": "sU1oGGvV9U3X"
      },
      "execution_count": null,
      "outputs": []
    },
    {
      "cell_type": "code",
      "source": [
        "print(test_accuracy)"
      ],
      "metadata": {
        "colab": {
          "base_uri": "https://localhost:8080/"
        },
        "id": "Fk8P9S7J9iKz",
        "outputId": "f66c54ad-df14-4d5c-cae4-bc518757b8de"
      },
      "execution_count": null,
      "outputs": [
        {
          "output_type": "stream",
          "name": "stdout",
          "text": [
            "0.7142857142857143\n"
          ]
        }
      ]
    },
    {
      "cell_type": "code",
      "source": [
        "#making predictive system:\n",
        "\n",
        "input_data = (5,166,72,19,175,25.8,0.587,51)\n",
        "\n",
        "#converting to numpy\n",
        "input_np_data = np.asarray(input_data)\n",
        "\n",
        "# reshaping\n",
        "input_reshaped = input_np_data.reshape(1,-1)\n",
        "\n",
        "# standardize\n",
        "std_input_data = scaler.transform(input_reshaped)\n",
        "\n",
        "prediction = model.predict(std_input_data)\n",
        "# print(prediction)\n",
        "\n",
        "if(prediction[0] == 1):\n",
        "    print(\"The patient is Diabetic.\")\n",
        "else:\n",
        "    print(\"The patient is non-diabetic.\")"
      ],
      "metadata": {
        "colab": {
          "base_uri": "https://localhost:8080/"
        },
        "id": "BPuT0vJH9kD3",
        "outputId": "ad37bdc0-064f-46b4-a2aa-eb16687649d4"
      },
      "execution_count": null,
      "outputs": [
        {
          "output_type": "stream",
          "name": "stdout",
          "text": [
            "The patient is Diabetic.\n"
          ]
        },
        {
          "output_type": "stream",
          "name": "stderr",
          "text": [
            "/usr/local/lib/python3.10/dist-packages/sklearn/base.py:439: UserWarning: X does not have valid feature names, but StandardScaler was fitted with feature names\n",
            "  warnings.warn(\n"
          ]
        }
      ]
    },
    {
      "cell_type": "code",
      "source": [],
      "metadata": {
        "id": "HYsBHDME-ZWO"
      },
      "execution_count": null,
      "outputs": []
    }
  ]
}