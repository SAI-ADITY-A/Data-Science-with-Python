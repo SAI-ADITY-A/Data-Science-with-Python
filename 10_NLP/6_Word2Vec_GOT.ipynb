{
  "nbformat": 4,
  "nbformat_minor": 0,
  "metadata": {
    "colab": {
      "provenance": []
    },
    "kernelspec": {
      "name": "python3",
      "display_name": "Python 3"
    },
    "language_info": {
      "name": "python"
    }
  },
  "cells": [
    {
      "cell_type": "code",
      "execution_count": 11,
      "metadata": {
        "id": "aI_ibRkkaHVV"
      },
      "outputs": [],
      "source": [
        "import gensim\n",
        "import os\n",
        "import numpy as np\n",
        "import pandas as pd"
      ]
    },
    {
      "cell_type": "code",
      "source": [
        "!pip install kaggle"
      ],
      "metadata": {
        "colab": {
          "base_uri": "https://localhost:8080/"
        },
        "id": "lKbcFi7ujRMX",
        "outputId": "fea9a92f-e7ec-4323-cb6b-d82f4f80a28a"
      },
      "execution_count": 9,
      "outputs": [
        {
          "output_type": "stream",
          "name": "stdout",
          "text": [
            "Requirement already satisfied: kaggle in /usr/local/lib/python3.10/dist-packages (1.6.17)\n",
            "Requirement already satisfied: six>=1.10 in /usr/local/lib/python3.10/dist-packages (from kaggle) (1.16.0)\n",
            "Requirement already satisfied: certifi>=2023.7.22 in /usr/local/lib/python3.10/dist-packages (from kaggle) (2024.8.30)\n",
            "Requirement already satisfied: python-dateutil in /usr/local/lib/python3.10/dist-packages (from kaggle) (2.8.2)\n",
            "Requirement already satisfied: requests in /usr/local/lib/python3.10/dist-packages (from kaggle) (2.32.3)\n",
            "Requirement already satisfied: tqdm in /usr/local/lib/python3.10/dist-packages (from kaggle) (4.66.5)\n",
            "Requirement already satisfied: python-slugify in /usr/local/lib/python3.10/dist-packages (from kaggle) (8.0.4)\n",
            "Requirement already satisfied: urllib3 in /usr/local/lib/python3.10/dist-packages (from kaggle) (2.2.3)\n",
            "Requirement already satisfied: bleach in /usr/local/lib/python3.10/dist-packages (from kaggle) (6.1.0)\n",
            "Requirement already satisfied: webencodings in /usr/local/lib/python3.10/dist-packages (from bleach->kaggle) (0.5.1)\n",
            "Requirement already satisfied: text-unidecode>=1.3 in /usr/local/lib/python3.10/dist-packages (from python-slugify->kaggle) (1.3)\n",
            "Requirement already satisfied: charset-normalizer<4,>=2 in /usr/local/lib/python3.10/dist-packages (from requests->kaggle) (3.4.0)\n",
            "Requirement already satisfied: idna<4,>=2.5 in /usr/local/lib/python3.10/dist-packages (from requests->kaggle) (3.10)\n"
          ]
        }
      ]
    },
    {
      "cell_type": "code",
      "source": [
        "!kaggle datasets download khulasasndh/game-of-thrones-books"
      ],
      "metadata": {
        "colab": {
          "base_uri": "https://localhost:8080/"
        },
        "id": "oisn7y_1jgVY",
        "outputId": "04f9608f-3d2f-4415-eeb2-3a32716f105c"
      },
      "execution_count": 10,
      "outputs": [
        {
          "output_type": "stream",
          "name": "stdout",
          "text": [
            "Dataset URL: https://www.kaggle.com/datasets/khulasasndh/game-of-thrones-books\n",
            "License(s): unknown\n",
            "Downloading game-of-thrones-books.zip to /content\n",
            "  0% 0.00/3.71M [00:00<?, ?B/s]\n",
            "100% 3.71M/3.71M [00:00<00:00, 191MB/s]\n"
          ]
        }
      ]
    },
    {
      "cell_type": "code",
      "source": [
        "!unzip game-of-thrones-books.zip"
      ],
      "metadata": {
        "colab": {
          "base_uri": "https://localhost:8080/"
        },
        "id": "J9btaXyVlhAI",
        "outputId": "497c3869-0d8f-4b7b-c6f3-2531be29d322"
      },
      "execution_count": 14,
      "outputs": [
        {
          "output_type": "stream",
          "name": "stdout",
          "text": [
            "Archive:  game-of-thrones-books.zip\n",
            "  inflating: 001ssb.txt              \n",
            "  inflating: 002ssb.txt              \n",
            "  inflating: 003ssb.txt              \n",
            "  inflating: 004ssb.txt              \n",
            "  inflating: 005ssb.txt              \n"
          ]
        }
      ]
    },
    {
      "cell_type": "code",
      "source": [
        "import nltk\n",
        "nltk.download('punkt')"
      ],
      "metadata": {
        "colab": {
          "base_uri": "https://localhost:8080/"
        },
        "id": "UBhHo5T1mIQ1",
        "outputId": "dac9e9d5-5269-4845-dad7-18682a231bac"
      },
      "execution_count": 16,
      "outputs": [
        {
          "output_type": "stream",
          "name": "stderr",
          "text": [
            "[nltk_data] Downloading package punkt to /root/nltk_data...\n",
            "[nltk_data]   Unzipping tokenizers/punkt.zip.\n"
          ]
        },
        {
          "output_type": "execute_result",
          "data": {
            "text/plain": [
              "True"
            ]
          },
          "metadata": {},
          "execution_count": 16
        }
      ]
    },
    {
      "cell_type": "code",
      "source": [
        "from nltk.tokenize import sent_tokenize\n",
        "from gensim.utils import simple_preprocess"
      ],
      "metadata": {
        "id": "0JITsbjujiC-"
      },
      "execution_count": 17,
      "outputs": []
    },
    {
      "cell_type": "code",
      "source": [
        "story = []\n",
        "\n",
        "for filename in os.listdir('data'):\n",
        "    with open(os.path.join('data', filename), 'r', encoding='latin-1') as f:\n",
        "        corpus = f.read()\n",
        "    raw_sent = sent_tokenize(corpus)\n",
        "    for sent in raw_sent:\n",
        "        story.append(simple_preprocess(sent))"
      ],
      "metadata": {
        "id": "g4cwJQUsl8GS"
      },
      "execution_count": 19,
      "outputs": []
    },
    {
      "cell_type": "code",
      "source": [
        "len(story)"
      ],
      "metadata": {
        "colab": {
          "base_uri": "https://localhost:8080/"
        },
        "id": "CAHouraynlD7",
        "outputId": "8cfa0afa-69fa-48c9-d259-e4e2ae4035e1"
      },
      "execution_count": 23,
      "outputs": [
        {
          "output_type": "execute_result",
          "data": {
            "text/plain": [
              "145020"
            ]
          },
          "metadata": {},
          "execution_count": 23
        }
      ]
    },
    {
      "cell_type": "code",
      "source": [
        "model = gensim.models.Word2Vec(\n",
        "    window = 10,\n",
        "    min_count = 2,\n",
        "    workers = 4\n",
        ")"
      ],
      "metadata": {
        "id": "pi3gpj1pmGnF"
      },
      "execution_count": 20,
      "outputs": []
    },
    {
      "cell_type": "code",
      "source": [
        "model.build_vocab(story)"
      ],
      "metadata": {
        "id": "dAiUm8IrnVhx"
      },
      "execution_count": 22,
      "outputs": []
    },
    {
      "cell_type": "code",
      "source": [
        "model.train(story, total_examples=model.corpus_count, epochs=model.epochs)"
      ],
      "metadata": {
        "colab": {
          "base_uri": "https://localhost:8080/"
        },
        "id": "paIHkjSOnX6a",
        "outputId": "5df8cd6f-94db-435c-dab7-cba40b24f284"
      },
      "execution_count": 24,
      "outputs": [
        {
          "output_type": "execute_result",
          "data": {
            "text/plain": [
              "(6570553, 8628190)"
            ]
          },
          "metadata": {},
          "execution_count": 24
        }
      ]
    },
    {
      "cell_type": "code",
      "source": [
        "model.wv.most_similar('daenerys')"
      ],
      "metadata": {
        "colab": {
          "base_uri": "https://localhost:8080/"
        },
        "id": "tS1LJnJunpOV",
        "outputId": "95c66c8b-445e-48b8-9019-4282409f73fa"
      },
      "execution_count": 25,
      "outputs": [
        {
          "output_type": "execute_result",
          "data": {
            "text/plain": [
              "[('stormborn', 0.7510025501251221),\n",
              " ('targaryen', 0.7169267535209656),\n",
              " ('myrcella', 0.697087824344635),\n",
              " ('queen', 0.6896904110908508),\n",
              " ('princess', 0.6793946623802185),\n",
              " ('viserys', 0.6763966083526611),\n",
              " ('unburnt', 0.6600896120071411),\n",
              " ('margaery', 0.6600666642189026),\n",
              " ('dorne', 0.6532927751541138),\n",
              " ('rhaegar', 0.6420192122459412)]"
            ]
          },
          "metadata": {},
          "execution_count": 25
        }
      ]
    },
    {
      "cell_type": "code",
      "source": [
        "model.wv.most_similar('jon')"
      ],
      "metadata": {
        "colab": {
          "base_uri": "https://localhost:8080/"
        },
        "id": "IONm_2Z0nxpk",
        "outputId": "df706536-148c-45ef-d319-e9b0696dad47"
      },
      "execution_count": 26,
      "outputs": [
        {
          "output_type": "execute_result",
          "data": {
            "text/plain": [
              "[('theon', 0.741598904132843),\n",
              " ('sam', 0.7180694937705994),\n",
              " ('bran', 0.6600196957588196),\n",
              " ('davos', 0.6347207427024841),\n",
              " ('ygritte', 0.6303863525390625),\n",
              " ('grenn', 0.6291360855102539),\n",
              " ('tormund', 0.6183556914329529),\n",
              " ('asha', 0.6121481657028198),\n",
              " ('pyp', 0.6066064238548279),\n",
              " ('qhorin', 0.6030473113059998)]"
            ]
          },
          "metadata": {},
          "execution_count": 26
        }
      ]
    },
    {
      "cell_type": "code",
      "source": [
        "model.wv.doesnt_match(['jon','robb','arya','sansa','bran'])"
      ],
      "metadata": {
        "colab": {
          "base_uri": "https://localhost:8080/",
          "height": 35
        },
        "id": "O5qZPmXDn1SK",
        "outputId": "d8c929bc-ffef-41f2-ed8a-9e55fdfa78fa"
      },
      "execution_count": 28,
      "outputs": [
        {
          "output_type": "execute_result",
          "data": {
            "text/plain": [
              "'jon'"
            ],
            "application/vnd.google.colaboratory.intrinsic+json": {
              "type": "string"
            }
          },
          "metadata": {},
          "execution_count": 28
        }
      ]
    },
    {
      "cell_type": "code",
      "source": [
        "model.wv.doesnt_match(['cersei', 'jaime', 'bronn', 'tyrion'])"
      ],
      "metadata": {
        "colab": {
          "base_uri": "https://localhost:8080/",
          "height": 35
        },
        "id": "V9UzYkO3n4gy",
        "outputId": "64265196-021a-4d43-a919-b1b0c7350ad7"
      },
      "execution_count": 29,
      "outputs": [
        {
          "output_type": "execute_result",
          "data": {
            "text/plain": [
              "'bronn'"
            ],
            "application/vnd.google.colaboratory.intrinsic+json": {
              "type": "string"
            }
          },
          "metadata": {},
          "execution_count": 29
        }
      ]
    },
    {
      "cell_type": "code",
      "source": [
        "model.wv.get_normed_vectors()"
      ],
      "metadata": {
        "colab": {
          "base_uri": "https://localhost:8080/"
        },
        "id": "YJCLhJgNn-kx",
        "outputId": "fff1eedf-5871-4d29-ed39-a0fd54c3de03"
      },
      "execution_count": 30,
      "outputs": [
        {
          "output_type": "execute_result",
          "data": {
            "text/plain": [
              "array([[-0.0508897 , -0.03025898,  0.13969569, ...,  0.04861248,\n",
              "        -0.14164265,  0.03579903],\n",
              "       [-0.04876833, -0.01257843, -0.04476786, ..., -0.08079939,\n",
              "        -0.14620098,  0.13228615],\n",
              "       [ 0.11279394, -0.05987245, -0.12484107, ..., -0.03565897,\n",
              "         0.08908126, -0.18783005],\n",
              "       ...,\n",
              "       [ 0.21261695,  0.02918598, -0.02021493, ..., -0.05097864,\n",
              "         0.13852412, -0.01579188],\n",
              "       [ 0.07110929,  0.0491496 ,  0.04301296, ...,  0.08812058,\n",
              "         0.00195896,  0.08323693],\n",
              "       [-0.18642217,  0.09974889,  0.02291651, ..., -0.1082442 ,\n",
              "        -0.02704804,  0.07405423]], dtype=float32)"
            ]
          },
          "metadata": {},
          "execution_count": 30
        }
      ]
    },
    {
      "cell_type": "code",
      "source": [
        "y = model.wv.index_to_key"
      ],
      "metadata": {
        "id": "Lqs6oomzoTv0"
      },
      "execution_count": 31,
      "outputs": []
    },
    {
      "cell_type": "code",
      "source": [
        "len(y)"
      ],
      "metadata": {
        "colab": {
          "base_uri": "https://localhost:8080/"
        },
        "id": "Ke0tvajRoW4S",
        "outputId": "f774062b-3985-4722-f367-b694121ddf40"
      },
      "execution_count": 32,
      "outputs": [
        {
          "output_type": "execute_result",
          "data": {
            "text/plain": [
              "17453"
            ]
          },
          "metadata": {},
          "execution_count": 32
        }
      ]
    },
    {
      "cell_type": "code",
      "source": [
        "from sklearn.decomposition import PCA"
      ],
      "metadata": {
        "id": "cYKa3ulBoXzK"
      },
      "execution_count": 33,
      "outputs": []
    },
    {
      "cell_type": "code",
      "source": [
        "pca = PCA(n_components = 3)"
      ],
      "metadata": {
        "id": "jd40thnaoknI"
      },
      "execution_count": 34,
      "outputs": []
    },
    {
      "cell_type": "code",
      "source": [
        "X = pca.fit_transform(model.wv.get_normed_vectors())"
      ],
      "metadata": {
        "id": "xu3GtyTXon0y"
      },
      "execution_count": 35,
      "outputs": []
    },
    {
      "cell_type": "code",
      "source": [
        "X[:5]"
      ],
      "metadata": {
        "colab": {
          "base_uri": "https://localhost:8080/"
        },
        "id": "2ehmae9eosS4",
        "outputId": "18d0342c-1c5b-410e-ac5b-0dfc53750c36"
      },
      "execution_count": 36,
      "outputs": [
        {
          "output_type": "execute_result",
          "data": {
            "text/plain": [
              "array([[ 0.14500369, -0.59656006,  0.02627565],\n",
              "       [ 0.16197775, -0.31917924, -0.02706589],\n",
              "       [-0.3010134 , -0.5820193 , -0.22424458],\n",
              "       [ 0.01468322, -0.374925  ,  0.14037158],\n",
              "       [-0.11624364, -0.5469026 , -0.28684166]], dtype=float32)"
            ]
          },
          "metadata": {},
          "execution_count": 36
        }
      ]
    },
    {
      "cell_type": "code",
      "source": [
        "X.shape"
      ],
      "metadata": {
        "colab": {
          "base_uri": "https://localhost:8080/"
        },
        "id": "CjgbiQjZotHn",
        "outputId": "4f469734-2c7f-47cf-d2f7-64cee6179ae5"
      },
      "execution_count": 37,
      "outputs": [
        {
          "output_type": "execute_result",
          "data": {
            "text/plain": [
              "(17453, 3)"
            ]
          },
          "metadata": {},
          "execution_count": 37
        }
      ]
    },
    {
      "cell_type": "code",
      "source": [
        "import plotly.express as px"
      ],
      "metadata": {
        "id": "ACqNhexKox7a"
      },
      "execution_count": 38,
      "outputs": []
    },
    {
      "cell_type": "code",
      "source": [
        "fig = px.scatter_3d(X[:100], x = 0, y = 1, z = 2, color = y[:100])\n",
        "fig.show()"
      ],
      "metadata": {
        "colab": {
          "base_uri": "https://localhost:8080/",
          "height": 542
        },
        "id": "HpW3C1TuoznD",
        "outputId": "a6ff7b7c-b62d-40fe-fafc-c8e672bb8358"
      },
      "execution_count": 40,
      "outputs": [
        {
          "output_type": "display_data",
          "data": {
            "text/html": [
              "<html>\n",
              "<head><meta charset=\"utf-8\" /></head>\n",
              "<body>\n",
              "    <div>            <script src=\"https://cdnjs.cloudflare.com/ajax/libs/mathjax/2.7.5/MathJax.js?config=TeX-AMS-MML_SVG\"></script><script type=\"text/javascript\">if (window.MathJax && window.MathJax.Hub && window.MathJax.Hub.Config) {window.MathJax.Hub.Config({SVG: {font: \"STIX-Web\"}});}</script>                <script type=\"text/javascript\">window.PlotlyConfig = {MathJaxConfig: 'local'};</script>\n",
              "        <script charset=\"utf-8\" src=\"https://cdn.plot.ly/plotly-2.35.2.min.js\"></script>                <div id=\"337414d5-7d38-499e-aa00-e22391c0e8e4\" class=\"plotly-graph-div\" style=\"height:525px; width:100%;\"></div>            <script type=\"text/javascript\">                                    window.PLOTLYENV=window.PLOTLYENV || {};                                    if (document.getElementById(\"337414d5-7d38-499e-aa00-e22391c0e8e4\")) {                    Plotly.newPlot(                        \"337414d5-7d38-499e-aa00-e22391c0e8e4\",                        [{\"hovertemplate\":\"color=the\\u003cbr\\u003e0=%{x}\\u003cbr\\u003e1=%{y}\\u003cbr\\u003e2=%{z}\\u003cextra\\u003e\\u003c\\u002fextra\\u003e\",\"legendgroup\":\"the\",\"marker\":{\"color\":\"#636efa\",\"symbol\":\"circle\"},\"mode\":\"markers\",\"name\":\"the\",\"scene\":\"scene\",\"showlegend\":true,\"x\":[0.14500369131565094],\"y\":[-0.5965600609779358],\"z\":[0.026275649666786194],\"type\":\"scatter3d\"},{\"hovertemplate\":\"color=and\\u003cbr\\u003e0=%{x}\\u003cbr\\u003e1=%{y}\\u003cbr\\u003e2=%{z}\\u003cextra\\u003e\\u003c\\u002fextra\\u003e\",\"legendgroup\":\"and\",\"marker\":{\"color\":\"#EF553B\",\"symbol\":\"circle\"},\"mode\":\"markers\",\"name\":\"and\",\"scene\":\"scene\",\"showlegend\":true,\"x\":[0.16197775304317474],\"y\":[-0.3191792368888855],\"z\":[-0.027065888047218323],\"type\":\"scatter3d\"},{\"hovertemplate\":\"color=to\\u003cbr\\u003e0=%{x}\\u003cbr\\u003e1=%{y}\\u003cbr\\u003e2=%{z}\\u003cextra\\u003e\\u003c\\u002fextra\\u003e\",\"legendgroup\":\"to\",\"marker\":{\"color\":\"#00cc96\",\"symbol\":\"circle\"},\"mode\":\"markers\",\"name\":\"to\",\"scene\":\"scene\",\"showlegend\":true,\"x\":[-0.30101341009140015],\"y\":[-0.5820193290710449],\"z\":[-0.22424457967281342],\"type\":\"scatter3d\"},{\"hovertemplate\":\"color=of\\u003cbr\\u003e0=%{x}\\u003cbr\\u003e1=%{y}\\u003cbr\\u003e2=%{z}\\u003cextra\\u003e\\u003c\\u002fextra\\u003e\",\"legendgroup\":\"of\",\"marker\":{\"color\":\"#ab63fa\",\"symbol\":\"circle\"},\"mode\":\"markers\",\"name\":\"of\",\"scene\":\"scene\",\"showlegend\":true,\"x\":[0.01468321681022644],\"y\":[-0.37492498755455017],\"z\":[0.14037157595157623],\"type\":\"scatter3d\"},{\"hovertemplate\":\"color=he\\u003cbr\\u003e0=%{x}\\u003cbr\\u003e1=%{y}\\u003cbr\\u003e2=%{z}\\u003cextra\\u003e\\u003c\\u002fextra\\u003e\",\"legendgroup\":\"he\",\"marker\":{\"color\":\"#FFA15A\",\"symbol\":\"circle\"},\"mode\":\"markers\",\"name\":\"he\",\"scene\":\"scene\",\"showlegend\":true,\"x\":[-0.1162436380982399],\"y\":[-0.546902596950531],\"z\":[-0.28684166073799133],\"type\":\"scatter3d\"},{\"hovertemplate\":\"color=his\\u003cbr\\u003e0=%{x}\\u003cbr\\u003e1=%{y}\\u003cbr\\u003e2=%{z}\\u003cextra\\u003e\\u003c\\u002fextra\\u003e\",\"legendgroup\":\"his\",\"marker\":{\"color\":\"#19d3f3\",\"symbol\":\"circle\"},\"mode\":\"markers\",\"name\":\"his\",\"scene\":\"scene\",\"showlegend\":true,\"x\":[0.04344852268695831],\"y\":[-0.3032985329627991],\"z\":[-0.3298344314098358],\"type\":\"scatter3d\"},{\"hovertemplate\":\"color=was\\u003cbr\\u003e0=%{x}\\u003cbr\\u003e1=%{y}\\u003cbr\\u003e2=%{z}\\u003cextra\\u003e\\u003c\\u002fextra\\u003e\",\"legendgroup\":\"was\",\"marker\":{\"color\":\"#FF6692\",\"symbol\":\"circle\"},\"mode\":\"markers\",\"name\":\"was\",\"scene\":\"scene\",\"showlegend\":true,\"x\":[-0.09452693909406662],\"y\":[-0.3956815004348755],\"z\":[-0.3174023926258087],\"type\":\"scatter3d\"},{\"hovertemplate\":\"color=you\\u003cbr\\u003e0=%{x}\\u003cbr\\u003e1=%{y}\\u003cbr\\u003e2=%{z}\\u003cextra\\u003e\\u003c\\u002fextra\\u003e\",\"legendgroup\":\"you\",\"marker\":{\"color\":\"#B6E880\",\"symbol\":\"circle\"},\"mode\":\"markers\",\"name\":\"you\",\"scene\":\"scene\",\"showlegend\":true,\"x\":[-0.5459659695625305],\"y\":[-0.6008760929107666],\"z\":[-0.1570894718170166],\"type\":\"scatter3d\"},{\"hovertemplate\":\"color=her\\u003cbr\\u003e0=%{x}\\u003cbr\\u003e1=%{y}\\u003cbr\\u003e2=%{z}\\u003cextra\\u003e\\u003c\\u002fextra\\u003e\",\"legendgroup\":\"her\",\"marker\":{\"color\":\"#FF97FF\",\"symbol\":\"circle\"},\"mode\":\"markers\",\"name\":\"her\",\"scene\":\"scene\",\"showlegend\":true,\"x\":[0.007017061114311218],\"y\":[-0.3774164915084839],\"z\":[-0.3666541576385498],\"type\":\"scatter3d\"},{\"hovertemplate\":\"color=in\\u003cbr\\u003e0=%{x}\\u003cbr\\u003e1=%{y}\\u003cbr\\u003e2=%{z}\\u003cextra\\u003e\\u003c\\u002fextra\\u003e\",\"legendgroup\":\"in\",\"marker\":{\"color\":\"#FECB52\",\"symbol\":\"circle\"},\"mode\":\"markers\",\"name\":\"in\",\"scene\":\"scene\",\"showlegend\":true,\"x\":[0.07052475214004517],\"y\":[-0.412756085395813],\"z\":[-0.08324901759624481],\"type\":\"scatter3d\"},{\"hovertemplate\":\"color=it\\u003cbr\\u003e0=%{x}\\u003cbr\\u003e1=%{y}\\u003cbr\\u003e2=%{z}\\u003cextra\\u003e\\u003c\\u002fextra\\u003e\",\"legendgroup\":\"it\",\"marker\":{\"color\":\"#636efa\",\"symbol\":\"circle\"},\"mode\":\"markers\",\"name\":\"it\",\"scene\":\"scene\",\"showlegend\":true,\"x\":[-0.10176350921392441],\"y\":[-0.6059238910675049],\"z\":[-0.24618496000766754],\"type\":\"scatter3d\"},{\"hovertemplate\":\"color=had\\u003cbr\\u003e0=%{x}\\u003cbr\\u003e1=%{y}\\u003cbr\\u003e2=%{z}\\u003cextra\\u003e\\u003c\\u002fextra\\u003e\",\"legendgroup\":\"had\",\"marker\":{\"color\":\"#EF553B\",\"symbol\":\"circle\"},\"mode\":\"markers\",\"name\":\"had\",\"scene\":\"scene\",\"showlegend\":true,\"x\":[-0.12882430851459503],\"y\":[-0.5118401050567627],\"z\":[-0.16007636487483978],\"type\":\"scatter3d\"},{\"hovertemplate\":\"color=that\\u003cbr\\u003e0=%{x}\\u003cbr\\u003e1=%{y}\\u003cbr\\u003e2=%{z}\\u003cextra\\u003e\\u003c\\u002fextra\\u003e\",\"legendgroup\":\"that\",\"marker\":{\"color\":\"#00cc96\",\"symbol\":\"circle\"},\"mode\":\"markers\",\"name\":\"that\",\"scene\":\"scene\",\"showlegend\":true,\"x\":[-0.3264235854148865],\"y\":[-0.6055248379707336],\"z\":[-0.0979805737733841],\"type\":\"scatter3d\"},{\"hovertemplate\":\"color=she\\u003cbr\\u003e0=%{x}\\u003cbr\\u003e1=%{y}\\u003cbr\\u003e2=%{z}\\u003cextra\\u003e\\u003c\\u002fextra\\u003e\",\"legendgroup\":\"she\",\"marker\":{\"color\":\"#ab63fa\",\"symbol\":\"circle\"},\"mode\":\"markers\",\"name\":\"she\",\"scene\":\"scene\",\"showlegend\":true,\"x\":[-0.09151972830295563],\"y\":[-0.49225378036499023],\"z\":[-0.3032490909099579],\"type\":\"scatter3d\"},{\"hovertemplate\":\"color=as\\u003cbr\\u003e0=%{x}\\u003cbr\\u003e1=%{y}\\u003cbr\\u003e2=%{z}\\u003cextra\\u003e\\u003c\\u002fextra\\u003e\",\"legendgroup\":\"as\",\"marker\":{\"color\":\"#FFA15A\",\"symbol\":\"circle\"},\"mode\":\"markers\",\"name\":\"as\",\"scene\":\"scene\",\"showlegend\":true,\"x\":[-0.03824526071548462],\"y\":[-0.46025630831718445],\"z\":[-0.2521595060825348],\"type\":\"scatter3d\"},{\"hovertemplate\":\"color=with\\u003cbr\\u003e0=%{x}\\u003cbr\\u003e1=%{y}\\u003cbr\\u003e2=%{z}\\u003cextra\\u003e\\u003c\\u002fextra\\u003e\",\"legendgroup\":\"with\",\"marker\":{\"color\":\"#19d3f3\",\"symbol\":\"circle\"},\"mode\":\"markers\",\"name\":\"with\",\"scene\":\"scene\",\"showlegend\":true,\"x\":[0.13728155195713043],\"y\":[-0.24252858757972717],\"z\":[-0.22128304839134216],\"type\":\"scatter3d\"},{\"hovertemplate\":\"color=him\\u003cbr\\u003e0=%{x}\\u003cbr\\u003e1=%{y}\\u003cbr\\u003e2=%{z}\\u003cextra\\u003e\\u003c\\u002fextra\\u003e\",\"legendgroup\":\"him\",\"marker\":{\"color\":\"#FF6692\",\"symbol\":\"circle\"},\"mode\":\"markers\",\"name\":\"him\",\"scene\":\"scene\",\"showlegend\":true,\"x\":[-0.13416680693626404],\"y\":[-0.5237065553665161],\"z\":[-0.33119410276412964],\"type\":\"scatter3d\"},{\"hovertemplate\":\"color=not\\u003cbr\\u003e0=%{x}\\u003cbr\\u003e1=%{y}\\u003cbr\\u003e2=%{z}\\u003cextra\\u003e\\u003c\\u002fextra\\u003e\",\"legendgroup\":\"not\",\"marker\":{\"color\":\"#B6E880\",\"symbol\":\"circle\"},\"mode\":\"markers\",\"name\":\"not\",\"scene\":\"scene\",\"showlegend\":true,\"x\":[-0.4920141100883484],\"y\":[-0.5443985462188721],\"z\":[-0.2133767455816269],\"type\":\"scatter3d\"},{\"hovertemplate\":\"color=but\\u003cbr\\u003e0=%{x}\\u003cbr\\u003e1=%{y}\\u003cbr\\u003e2=%{z}\\u003cextra\\u003e\\u003c\\u002fextra\\u003e\",\"legendgroup\":\"but\",\"marker\":{\"color\":\"#FF97FF\",\"symbol\":\"circle\"},\"mode\":\"markers\",\"name\":\"but\",\"scene\":\"scene\",\"showlegend\":true,\"x\":[-0.2525444030761719],\"y\":[-0.5812329649925232],\"z\":[-0.21537917852401733],\"type\":\"scatter3d\"},{\"hovertemplate\":\"color=for\\u003cbr\\u003e0=%{x}\\u003cbr\\u003e1=%{y}\\u003cbr\\u003e2=%{z}\\u003cextra\\u003e\\u003c\\u002fextra\\u003e\",\"legendgroup\":\"for\",\"marker\":{\"color\":\"#FECB52\",\"symbol\":\"circle\"},\"mode\":\"markers\",\"name\":\"for\",\"scene\":\"scene\",\"showlegend\":true,\"x\":[-0.44361674785614014],\"y\":[-0.5013716220855713],\"z\":[-0.19404898583889008],\"type\":\"scatter3d\"},{\"hovertemplate\":\"color=they\\u003cbr\\u003e0=%{x}\\u003cbr\\u003e1=%{y}\\u003cbr\\u003e2=%{z}\\u003cextra\\u003e\\u003c\\u002fextra\\u003e\",\"legendgroup\":\"they\",\"marker\":{\"color\":\"#636efa\",\"symbol\":\"circle\"},\"mode\":\"markers\",\"name\":\"they\",\"scene\":\"scene\",\"showlegend\":true,\"x\":[-0.02463417500257492],\"y\":[-0.696194589138031],\"z\":[0.07445503771305084],\"type\":\"scatter3d\"},{\"hovertemplate\":\"color=is\\u003cbr\\u003e0=%{x}\\u003cbr\\u003e1=%{y}\\u003cbr\\u003e2=%{z}\\u003cextra\\u003e\\u003c\\u002fextra\\u003e\",\"legendgroup\":\"is\",\"marker\":{\"color\":\"#EF553B\",\"symbol\":\"circle\"},\"mode\":\"markers\",\"name\":\"is\",\"scene\":\"scene\",\"showlegend\":true,\"x\":[-0.5847008228302002],\"y\":[-0.47883427143096924],\"z\":[-0.1456955075263977],\"type\":\"scatter3d\"},{\"hovertemplate\":\"color=at\\u003cbr\\u003e0=%{x}\\u003cbr\\u003e1=%{y}\\u003cbr\\u003e2=%{z}\\u003cextra\\u003e\\u003c\\u002fextra\\u003e\",\"legendgroup\":\"at\",\"marker\":{\"color\":\"#00cc96\",\"symbol\":\"circle\"},\"mode\":\"markers\",\"name\":\"at\",\"scene\":\"scene\",\"showlegend\":true,\"x\":[-0.0497908815741539],\"y\":[-0.3679501414299011],\"z\":[-0.3219447433948517],\"type\":\"scatter3d\"},{\"hovertemplate\":\"color=on\\u003cbr\\u003e0=%{x}\\u003cbr\\u003e1=%{y}\\u003cbr\\u003e2=%{z}\\u003cextra\\u003e\\u003c\\u002fextra\\u003e\",\"legendgroup\":\"on\",\"marker\":{\"color\":\"#ab63fa\",\"symbol\":\"circle\"},\"mode\":\"markers\",\"name\":\"on\",\"scene\":\"scene\",\"showlegend\":true,\"x\":[0.19256411492824554],\"y\":[-0.4456467032432556],\"z\":[-0.24910488724708557],\"type\":\"scatter3d\"},{\"hovertemplate\":\"color=said\\u003cbr\\u003e0=%{x}\\u003cbr\\u003e1=%{y}\\u003cbr\\u003e2=%{z}\\u003cextra\\u003e\\u003c\\u002fextra\\u003e\",\"legendgroup\":\"said\",\"marker\":{\"color\":\"#FFA15A\",\"symbol\":\"circle\"},\"mode\":\"markers\",\"name\":\"said\",\"scene\":\"scene\",\"showlegend\":true,\"x\":[-0.5673761367797852],\"y\":[-0.4308791160583496],\"z\":[-0.4749447703361511],\"type\":\"scatter3d\"},{\"hovertemplate\":\"color=my\\u003cbr\\u003e0=%{x}\\u003cbr\\u003e1=%{y}\\u003cbr\\u003e2=%{z}\\u003cextra\\u003e\\u003c\\u002fextra\\u003e\",\"legendgroup\":\"my\",\"marker\":{\"color\":\"#19d3f3\",\"symbol\":\"circle\"},\"mode\":\"markers\",\"name\":\"my\",\"scene\":\"scene\",\"showlegend\":true,\"x\":[-0.48692798614501953],\"y\":[-0.4979395866394043],\"z\":[-0.18177476525306702],\"type\":\"scatter3d\"},{\"hovertemplate\":\"color=have\\u003cbr\\u003e0=%{x}\\u003cbr\\u003e1=%{y}\\u003cbr\\u003e2=%{z}\\u003cextra\\u003e\\u003c\\u002fextra\\u003e\",\"legendgroup\":\"have\",\"marker\":{\"color\":\"#FF6692\",\"symbol\":\"circle\"},\"mode\":\"markers\",\"name\":\"have\",\"scene\":\"scene\",\"showlegend\":true,\"x\":[-0.411454975605011],\"y\":[-0.6009491682052612],\"z\":[-0.13218370079994202],\"type\":\"scatter3d\"},{\"hovertemplate\":\"color=be\\u003cbr\\u003e0=%{x}\\u003cbr\\u003e1=%{y}\\u003cbr\\u003e2=%{z}\\u003cextra\\u003e\\u003c\\u002fextra\\u003e\",\"legendgroup\":\"be\",\"marker\":{\"color\":\"#B6E880\",\"symbol\":\"circle\"},\"mode\":\"markers\",\"name\":\"be\",\"scene\":\"scene\",\"showlegend\":true,\"x\":[-0.39511793851852417],\"y\":[-0.6411914825439453],\"z\":[-0.1127292737364769],\"type\":\"scatter3d\"},{\"hovertemplate\":\"color=lord\\u003cbr\\u003e0=%{x}\\u003cbr\\u003e1=%{y}\\u003cbr\\u003e2=%{z}\\u003cextra\\u003e\\u003c\\u002fextra\\u003e\",\"legendgroup\":\"lord\",\"marker\":{\"color\":\"#FF97FF\",\"symbol\":\"circle\"},\"mode\":\"markers\",\"name\":\"lord\",\"scene\":\"scene\",\"showlegend\":true,\"x\":[-0.47577065229415894],\"y\":[-0.44623205065727234],\"z\":[-0.06856949627399445],\"type\":\"scatter3d\"},{\"hovertemplate\":\"color=them\\u003cbr\\u003e0=%{x}\\u003cbr\\u003e1=%{y}\\u003cbr\\u003e2=%{z}\\u003cextra\\u003e\\u003c\\u002fextra\\u003e\",\"legendgroup\":\"them\",\"marker\":{\"color\":\"#FECB52\",\"symbol\":\"circle\"},\"mode\":\"markers\",\"name\":\"them\",\"scene\":\"scene\",\"showlegend\":true,\"x\":[0.01949252188205719],\"y\":[-0.7069019079208374],\"z\":[0.0020196884870529175],\"type\":\"scatter3d\"},{\"hovertemplate\":\"color=no\\u003cbr\\u003e0=%{x}\\u003cbr\\u003e1=%{y}\\u003cbr\\u003e2=%{z}\\u003cextra\\u003e\\u003c\\u002fextra\\u003e\",\"legendgroup\":\"no\",\"marker\":{\"color\":\"#636efa\",\"symbol\":\"circle\"},\"mode\":\"markers\",\"name\":\"no\",\"scene\":\"scene\",\"showlegend\":true,\"x\":[-0.394559383392334],\"y\":[-0.5285325050354004],\"z\":[-0.07697731256484985],\"type\":\"scatter3d\"},{\"hovertemplate\":\"color=from\\u003cbr\\u003e0=%{x}\\u003cbr\\u003e1=%{y}\\u003cbr\\u003e2=%{z}\\u003cextra\\u003e\\u003c\\u002fextra\\u003e\",\"legendgroup\":\"from\",\"marker\":{\"color\":\"#EF553B\",\"symbol\":\"circle\"},\"mode\":\"markers\",\"name\":\"from\",\"scene\":\"scene\",\"showlegend\":true,\"x\":[0.1949537843465805],\"y\":[-0.44392716884613037],\"z\":[-0.18335023522377014],\"type\":\"scatter3d\"},{\"hovertemplate\":\"color=would\\u003cbr\\u003e0=%{x}\\u003cbr\\u003e1=%{y}\\u003cbr\\u003e2=%{z}\\u003cextra\\u003e\\u003c\\u002fextra\\u003e\",\"legendgroup\":\"would\",\"marker\":{\"color\":\"#00cc96\",\"symbol\":\"circle\"},\"mode\":\"markers\",\"name\":\"would\",\"scene\":\"scene\",\"showlegend\":true,\"x\":[-0.39564692974090576],\"y\":[-0.5518577098846436],\"z\":[-0.23145975172519684],\"type\":\"scatter3d\"},{\"hovertemplate\":\"color=were\\u003cbr\\u003e0=%{x}\\u003cbr\\u003e1=%{y}\\u003cbr\\u003e2=%{z}\\u003cextra\\u003e\\u003c\\u002fextra\\u003e\",\"legendgroup\":\"were\",\"marker\":{\"color\":\"#ab63fa\",\"symbol\":\"circle\"},\"mode\":\"markers\",\"name\":\"were\",\"scene\":\"scene\",\"showlegend\":true,\"x\":[0.020076453685760498],\"y\":[-0.49215787649154663],\"z\":[-0.028610408306121826],\"type\":\"scatter3d\"},{\"hovertemplate\":\"color=me\\u003cbr\\u003e0=%{x}\\u003cbr\\u003e1=%{y}\\u003cbr\\u003e2=%{z}\\u003cextra\\u003e\\u003c\\u002fextra\\u003e\",\"legendgroup\":\"me\",\"marker\":{\"color\":\"#FFA15A\",\"symbol\":\"circle\"},\"mode\":\"markers\",\"name\":\"me\",\"scene\":\"scene\",\"showlegend\":true,\"x\":[-0.5109990239143372],\"y\":[-0.5787553787231445],\"z\":[-0.20789359509944916],\"type\":\"scatter3d\"},{\"hovertemplate\":\"color=your\\u003cbr\\u003e0=%{x}\\u003cbr\\u003e1=%{y}\\u003cbr\\u003e2=%{z}\\u003cextra\\u003e\\u003c\\u002fextra\\u003e\",\"legendgroup\":\"your\",\"marker\":{\"color\":\"#19d3f3\",\"symbol\":\"circle\"},\"mode\":\"markers\",\"name\":\"your\",\"scene\":\"scene\",\"showlegend\":true,\"x\":[-0.47006601095199585],\"y\":[-0.47500717639923096],\"z\":[-0.18400777876377106],\"type\":\"scatter3d\"},{\"hovertemplate\":\"color=one\\u003cbr\\u003e0=%{x}\\u003cbr\\u003e1=%{y}\\u003cbr\\u003e2=%{z}\\u003cextra\\u003e\\u003c\\u002fextra\\u003e\",\"legendgroup\":\"one\",\"marker\":{\"color\":\"#FF6692\",\"symbol\":\"circle\"},\"mode\":\"markers\",\"name\":\"one\",\"scene\":\"scene\",\"showlegend\":true,\"x\":[-0.0469435453414917],\"y\":[-0.5947462320327759],\"z\":[-0.14312192797660828],\"type\":\"scatter3d\"},{\"hovertemplate\":\"color=all\\u003cbr\\u003e0=%{x}\\u003cbr\\u003e1=%{y}\\u003cbr\\u003e2=%{z}\\u003cextra\\u003e\\u003c\\u002fextra\\u003e\",\"legendgroup\":\"all\",\"marker\":{\"color\":\"#B6E880\",\"symbol\":\"circle\"},\"mode\":\"markers\",\"name\":\"all\",\"scene\":\"scene\",\"showlegend\":true,\"x\":[-0.22991573810577393],\"y\":[-0.6877293586730957],\"z\":[0.010487809777259827],\"type\":\"scatter3d\"},{\"hovertemplate\":\"color=when\\u003cbr\\u003e0=%{x}\\u003cbr\\u003e1=%{y}\\u003cbr\\u003e2=%{z}\\u003cextra\\u003e\\u003c\\u002fextra\\u003e\",\"legendgroup\":\"when\",\"marker\":{\"color\":\"#FF97FF\",\"symbol\":\"circle\"},\"mode\":\"markers\",\"name\":\"when\",\"scene\":\"scene\",\"showlegend\":true,\"x\":[-0.14216987788677216],\"y\":[-0.5727870464324951],\"z\":[-0.3272635042667389],\"type\":\"scatter3d\"},{\"hovertemplate\":\"color=will\\u003cbr\\u003e0=%{x}\\u003cbr\\u003e1=%{y}\\u003cbr\\u003e2=%{z}\\u003cextra\\u003e\\u003c\\u002fextra\\u003e\",\"legendgroup\":\"will\",\"marker\":{\"color\":\"#FECB52\",\"symbol\":\"circle\"},\"mode\":\"markers\",\"name\":\"will\",\"scene\":\"scene\",\"showlegend\":true,\"x\":[-0.49268925189971924],\"y\":[-0.5222547650337219],\"z\":[-0.17846238613128662],\"type\":\"scatter3d\"},{\"hovertemplate\":\"color=ser\\u003cbr\\u003e0=%{x}\\u003cbr\\u003e1=%{y}\\u003cbr\\u003e2=%{z}\\u003cextra\\u003e\\u003c\\u002fextra\\u003e\",\"legendgroup\":\"ser\",\"marker\":{\"color\":\"#636efa\",\"symbol\":\"circle\"},\"mode\":\"markers\",\"name\":\"ser\",\"scene\":\"scene\",\"showlegend\":true,\"x\":[-0.37907159328460693],\"y\":[-0.2989022433757782],\"z\":[-0.15211153030395508],\"type\":\"scatter3d\"},{\"hovertemplate\":\"color=if\\u003cbr\\u003e0=%{x}\\u003cbr\\u003e1=%{y}\\u003cbr\\u003e2=%{z}\\u003cextra\\u003e\\u003c\\u002fextra\\u003e\",\"legendgroup\":\"if\",\"marker\":{\"color\":\"#EF553B\",\"symbol\":\"circle\"},\"mode\":\"markers\",\"name\":\"if\",\"scene\":\"scene\",\"showlegend\":true,\"x\":[-0.41093653440475464],\"y\":[-0.6214377880096436],\"z\":[-0.2855871617794037],\"type\":\"scatter3d\"},{\"hovertemplate\":\"color=so\\u003cbr\\u003e0=%{x}\\u003cbr\\u003e1=%{y}\\u003cbr\\u003e2=%{z}\\u003cextra\\u003e\\u003c\\u002fextra\\u003e\",\"legendgroup\":\"so\",\"marker\":{\"color\":\"#00cc96\",\"symbol\":\"circle\"},\"mode\":\"markers\",\"name\":\"so\",\"scene\":\"scene\",\"showlegend\":true,\"x\":[-0.18887583911418915],\"y\":[-0.5229194164276123],\"z\":[-0.2706649899482727],\"type\":\"scatter3d\"},{\"hovertemplate\":\"color=their\\u003cbr\\u003e0=%{x}\\u003cbr\\u003e1=%{y}\\u003cbr\\u003e2=%{z}\\u003cextra\\u003e\\u003c\\u002fextra\\u003e\",\"legendgroup\":\"their\",\"marker\":{\"color\":\"#ab63fa\",\"symbol\":\"circle\"},\"mode\":\"markers\",\"name\":\"their\",\"scene\":\"scene\",\"showlegend\":true,\"x\":[0.07093413174152374],\"y\":[-0.5269265174865723],\"z\":[0.17421020567417145],\"type\":\"scatter3d\"},{\"hovertemplate\":\"color=we\\u003cbr\\u003e0=%{x}\\u003cbr\\u003e1=%{y}\\u003cbr\\u003e2=%{z}\\u003cextra\\u003e\\u003c\\u002fextra\\u003e\",\"legendgroup\":\"we\",\"marker\":{\"color\":\"#FFA15A\",\"symbol\":\"circle\"},\"mode\":\"markers\",\"name\":\"we\",\"scene\":\"scene\",\"showlegend\":true,\"x\":[-0.3744202256202698],\"y\":[-0.7289559841156006],\"z\":[0.019463464617729187],\"type\":\"scatter3d\"},{\"hovertemplate\":\"color=could\\u003cbr\\u003e0=%{x}\\u003cbr\\u003e1=%{y}\\u003cbr\\u003e2=%{z}\\u003cextra\\u003e\\u003c\\u002fextra\\u003e\",\"legendgroup\":\"could\",\"marker\":{\"color\":\"#19d3f3\",\"symbol\":\"circle\"},\"mode\":\"markers\",\"name\":\"could\",\"scene\":\"scene\",\"showlegend\":true,\"x\":[-0.10696672648191452],\"y\":[-0.4720686376094818],\"z\":[-0.27401241660118103],\"type\":\"scatter3d\"},{\"hovertemplate\":\"color=are\\u003cbr\\u003e0=%{x}\\u003cbr\\u003e1=%{y}\\u003cbr\\u003e2=%{z}\\u003cextra\\u003e\\u003c\\u002fextra\\u003e\",\"legendgroup\":\"are\",\"marker\":{\"color\":\"#FF6692\",\"symbol\":\"circle\"},\"mode\":\"markers\",\"name\":\"are\",\"scene\":\"scene\",\"showlegend\":true,\"x\":[-0.41707462072372437],\"y\":[-0.505153238773346],\"z\":[0.010961145162582397],\"type\":\"scatter3d\"},{\"hovertemplate\":\"color=man\\u003cbr\\u003e0=%{x}\\u003cbr\\u003e1=%{y}\\u003cbr\\u003e2=%{z}\\u003cextra\\u003e\\u003c\\u002fextra\\u003e\",\"legendgroup\":\"man\",\"marker\":{\"color\":\"#B6E880\",\"symbol\":\"circle\"},\"mode\":\"markers\",\"name\":\"man\",\"scene\":\"scene\",\"showlegend\":true,\"x\":[-0.12006726115942001],\"y\":[-0.5108550786972046],\"z\":[-0.17004886269569397],\"type\":\"scatter3d\"},{\"hovertemplate\":\"color=there\\u003cbr\\u003e0=%{x}\\u003cbr\\u003e1=%{y}\\u003cbr\\u003e2=%{z}\\u003cextra\\u003e\\u003c\\u002fextra\\u003e\",\"legendgroup\":\"there\",\"marker\":{\"color\":\"#FF97FF\",\"symbol\":\"circle\"},\"mode\":\"markers\",\"name\":\"there\",\"scene\":\"scene\",\"showlegend\":true,\"x\":[-0.09257513284683228],\"y\":[-0.6114298105239868],\"z\":[-0.022395461797714233],\"type\":\"scatter3d\"},{\"hovertemplate\":\"color=this\\u003cbr\\u003e0=%{x}\\u003cbr\\u003e1=%{y}\\u003cbr\\u003e2=%{z}\\u003cextra\\u003e\\u003c\\u002fextra\\u003e\",\"legendgroup\":\"this\",\"marker\":{\"color\":\"#FECB52\",\"symbol\":\"circle\"},\"mode\":\"markers\",\"name\":\"this\",\"scene\":\"scene\",\"showlegend\":true,\"x\":[-0.43609583377838135],\"y\":[-0.5967298150062561],\"z\":[-0.11789924651384354],\"type\":\"scatter3d\"},{\"hovertemplate\":\"color=up\\u003cbr\\u003e0=%{x}\\u003cbr\\u003e1=%{y}\\u003cbr\\u003e2=%{z}\\u003cextra\\u003e\\u003c\\u002fextra\\u003e\",\"legendgroup\":\"up\",\"marker\":{\"color\":\"#636efa\",\"symbol\":\"circle\"},\"mode\":\"markers\",\"name\":\"up\",\"scene\":\"scene\",\"showlegend\":true,\"x\":[0.385934054851532],\"y\":[-0.5351710915565491],\"z\":[-0.3177396357059479],\"type\":\"scatter3d\"},{\"hovertemplate\":\"color=been\\u003cbr\\u003e0=%{x}\\u003cbr\\u003e1=%{y}\\u003cbr\\u003e2=%{z}\\u003cextra\\u003e\\u003c\\u002fextra\\u003e\",\"legendgroup\":\"been\",\"marker\":{\"color\":\"#EF553B\",\"symbol\":\"circle\"},\"mode\":\"markers\",\"name\":\"been\",\"scene\":\"scene\",\"showlegend\":true,\"x\":[-0.17594996094703674],\"y\":[-0.5215110778808594],\"z\":[-0.14218920469284058],\"type\":\"scatter3d\"},{\"hovertemplate\":\"color=what\\u003cbr\\u003e0=%{x}\\u003cbr\\u003e1=%{y}\\u003cbr\\u003e2=%{z}\\u003cextra\\u003e\\u003c\\u002fextra\\u003e\",\"legendgroup\":\"what\",\"marker\":{\"color\":\"#00cc96\",\"symbol\":\"circle\"},\"mode\":\"markers\",\"name\":\"what\",\"scene\":\"scene\",\"showlegend\":true,\"x\":[-0.4067016839981079],\"y\":[-0.5898059606552124],\"z\":[-0.10744776576757431],\"type\":\"scatter3d\"},{\"hovertemplate\":\"color=did\\u003cbr\\u003e0=%{x}\\u003cbr\\u003e1=%{y}\\u003cbr\\u003e2=%{z}\\u003cextra\\u003e\\u003c\\u002fextra\\u003e\",\"legendgroup\":\"did\",\"marker\":{\"color\":\"#ab63fa\",\"symbol\":\"circle\"},\"mode\":\"markers\",\"name\":\"did\",\"scene\":\"scene\",\"showlegend\":true,\"x\":[-0.3816946744918823],\"y\":[-0.43453502655029297],\"z\":[-0.38088086247444153],\"type\":\"scatter3d\"},{\"hovertemplate\":\"color=by\\u003cbr\\u003e0=%{x}\\u003cbr\\u003e1=%{y}\\u003cbr\\u003e2=%{z}\\u003cextra\\u003e\\u003c\\u002fextra\\u003e\",\"legendgroup\":\"by\",\"marker\":{\"color\":\"#FFA15A\",\"symbol\":\"circle\"},\"mode\":\"markers\",\"name\":\"by\",\"scene\":\"scene\",\"showlegend\":true,\"x\":[-0.011185519397258759],\"y\":[-0.46000272035598755],\"z\":[-0.036779120564460754],\"type\":\"scatter3d\"},{\"hovertemplate\":\"color=king\\u003cbr\\u003e0=%{x}\\u003cbr\\u003e1=%{y}\\u003cbr\\u003e2=%{z}\\u003cextra\\u003e\\u003c\\u002fextra\\u003e\",\"legendgroup\":\"king\",\"marker\":{\"color\":\"#19d3f3\",\"symbol\":\"circle\"},\"mode\":\"markers\",\"name\":\"king\",\"scene\":\"scene\",\"showlegend\":true,\"x\":[-0.3813648223876953],\"y\":[-0.6716490983963013],\"z\":[-0.04763098061084747],\"type\":\"scatter3d\"},{\"hovertemplate\":\"color=do\\u003cbr\\u003e0=%{x}\\u003cbr\\u003e1=%{y}\\u003cbr\\u003e2=%{z}\\u003cextra\\u003e\\u003c\\u002fextra\\u003e\",\"legendgroup\":\"do\",\"marker\":{\"color\":\"#FF6692\",\"symbol\":\"circle\"},\"mode\":\"markers\",\"name\":\"do\",\"scene\":\"scene\",\"showlegend\":true,\"x\":[-0.5597951412200928],\"y\":[-0.5152290463447571],\"z\":[-0.28271469473838806],\"type\":\"scatter3d\"},{\"hovertemplate\":\"color=men\\u003cbr\\u003e0=%{x}\\u003cbr\\u003e1=%{y}\\u003cbr\\u003e2=%{z}\\u003cextra\\u003e\\u003c\\u002fextra\\u003e\",\"legendgroup\":\"men\",\"marker\":{\"color\":\"#B6E880\",\"symbol\":\"circle\"},\"mode\":\"markers\",\"name\":\"men\",\"scene\":\"scene\",\"showlegend\":true,\"x\":[-0.09075456857681274],\"y\":[-0.7409926652908325],\"z\":[0.22992362082004547],\"type\":\"scatter3d\"},{\"hovertemplate\":\"color=back\\u003cbr\\u003e0=%{x}\\u003cbr\\u003e1=%{y}\\u003cbr\\u003e2=%{z}\\u003cextra\\u003e\\u003c\\u002fextra\\u003e\",\"legendgroup\":\"back\",\"marker\":{\"color\":\"#FF97FF\",\"symbol\":\"circle\"},\"mode\":\"markers\",\"name\":\"back\",\"scene\":\"scene\",\"showlegend\":true,\"x\":[0.16005133092403412],\"y\":[-0.61004638671875],\"z\":[-0.46783947944641113],\"type\":\"scatter3d\"},{\"hovertemplate\":\"color=out\\u003cbr\\u003e0=%{x}\\u003cbr\\u003e1=%{y}\\u003cbr\\u003e2=%{z}\\u003cextra\\u003e\\u003c\\u002fextra\\u003e\",\"legendgroup\":\"out\",\"marker\":{\"color\":\"#FECB52\",\"symbol\":\"circle\"},\"mode\":\"markers\",\"name\":\"out\",\"scene\":\"scene\",\"showlegend\":true,\"x\":[0.23701132833957672],\"y\":[-0.5472893714904785],\"z\":[-0.33304235339164734],\"type\":\"scatter3d\"},{\"hovertemplate\":\"color=more\\u003cbr\\u003e0=%{x}\\u003cbr\\u003e1=%{y}\\u003cbr\\u003e2=%{z}\\u003cextra\\u003e\\u003c\\u002fextra\\u003e\",\"legendgroup\":\"more\",\"marker\":{\"color\":\"#636efa\",\"symbol\":\"circle\"},\"mode\":\"markers\",\"name\":\"more\",\"scene\":\"scene\",\"showlegend\":true,\"x\":[-0.2398088425397873],\"y\":[-0.5472055077552795],\"z\":[-0.034272462129592896],\"type\":\"scatter3d\"},{\"hovertemplate\":\"color=or\\u003cbr\\u003e0=%{x}\\u003cbr\\u003e1=%{y}\\u003cbr\\u003e2=%{z}\\u003cextra\\u003e\\u003c\\u002fextra\\u003e\",\"legendgroup\":\"or\",\"marker\":{\"color\":\"#EF553B\",\"symbol\":\"circle\"},\"mode\":\"markers\",\"name\":\"or\",\"scene\":\"scene\",\"showlegend\":true,\"x\":[-0.3362264335155487],\"y\":[-0.5840710401535034],\"z\":[-0.07821837067604065],\"type\":\"scatter3d\"},{\"hovertemplate\":\"color=who\\u003cbr\\u003e0=%{x}\\u003cbr\\u003e1=%{y}\\u003cbr\\u003e2=%{z}\\u003cextra\\u003e\\u003c\\u002fextra\\u003e\",\"legendgroup\":\"who\",\"marker\":{\"color\":\"#00cc96\",\"symbol\":\"circle\"},\"mode\":\"markers\",\"name\":\"who\",\"scene\":\"scene\",\"showlegend\":true,\"x\":[-0.4090859889984131],\"y\":[-0.6036438941955566],\"z\":[0.07509694993495941],\"type\":\"scatter3d\"},{\"hovertemplate\":\"color=down\\u003cbr\\u003e0=%{x}\\u003cbr\\u003e1=%{y}\\u003cbr\\u003e2=%{z}\\u003cextra\\u003e\\u003c\\u002fextra\\u003e\",\"legendgroup\":\"down\",\"marker\":{\"color\":\"#ab63fa\",\"symbol\":\"circle\"},\"mode\":\"markers\",\"name\":\"down\",\"scene\":\"scene\",\"showlegend\":true,\"x\":[0.42811018228530884],\"y\":[-0.5739597678184509],\"z\":[-0.37367844581604004],\"type\":\"scatter3d\"},{\"hovertemplate\":\"color=well\\u003cbr\\u003e0=%{x}\\u003cbr\\u003e1=%{y}\\u003cbr\\u003e2=%{z}\\u003cextra\\u003e\\u003c\\u002fextra\\u003e\",\"legendgroup\":\"well\",\"marker\":{\"color\":\"#FFA15A\",\"symbol\":\"circle\"},\"mode\":\"markers\",\"name\":\"well\",\"scene\":\"scene\",\"showlegend\":true,\"x\":[-0.348863422870636],\"y\":[-0.5654317736625671],\"z\":[-0.056896060705184937],\"type\":\"scatter3d\"},{\"hovertemplate\":\"color=than\\u003cbr\\u003e0=%{x}\\u003cbr\\u003e1=%{y}\\u003cbr\\u003e2=%{z}\\u003cextra\\u003e\\u003c\\u002fextra\\u003e\",\"legendgroup\":\"than\",\"marker\":{\"color\":\"#19d3f3\",\"symbol\":\"circle\"},\"mode\":\"markers\",\"name\":\"than\",\"scene\":\"scene\",\"showlegend\":true,\"x\":[-0.1990937888622284],\"y\":[-0.4644310474395752],\"z\":[-0.16853050887584686],\"type\":\"scatter3d\"},{\"hovertemplate\":\"color=only\\u003cbr\\u003e0=%{x}\\u003cbr\\u003e1=%{y}\\u003cbr\\u003e2=%{z}\\u003cextra\\u003e\\u003c\\u002fextra\\u003e\",\"legendgroup\":\"only\",\"marker\":{\"color\":\"#FF6692\",\"symbol\":\"circle\"},\"mode\":\"markers\",\"name\":\"only\",\"scene\":\"scene\",\"showlegend\":true,\"x\":[-0.29194560647010803],\"y\":[-0.5781539082527161],\"z\":[-0.039094895124435425],\"type\":\"scatter3d\"},{\"hovertemplate\":\"color=like\\u003cbr\\u003e0=%{x}\\u003cbr\\u003e1=%{y}\\u003cbr\\u003e2=%{z}\\u003cextra\\u003e\\u003c\\u002fextra\\u003e\",\"legendgroup\":\"like\",\"marker\":{\"color\":\"#B6E880\",\"symbol\":\"circle\"},\"mode\":\"markers\",\"name\":\"like\",\"scene\":\"scene\",\"showlegend\":true,\"x\":[0.07297162711620331],\"y\":[-0.3287815749645233],\"z\":[-0.25181329250335693],\"type\":\"scatter3d\"},{\"hovertemplate\":\"color=jon\\u003cbr\\u003e0=%{x}\\u003cbr\\u003e1=%{y}\\u003cbr\\u003e2=%{z}\\u003cextra\\u003e\\u003c\\u002fextra\\u003e\",\"legendgroup\":\"jon\",\"marker\":{\"color\":\"#FF97FF\",\"symbol\":\"circle\"},\"mode\":\"markers\",\"name\":\"jon\",\"scene\":\"scene\",\"showlegend\":true,\"x\":[-0.07280126214027405],\"y\":[-0.399992436170578],\"z\":[-0.25521373748779297],\"type\":\"scatter3d\"},{\"hovertemplate\":\"color=some\\u003cbr\\u003e0=%{x}\\u003cbr\\u003e1=%{y}\\u003cbr\\u003e2=%{z}\\u003cextra\\u003e\\u003c\\u002fextra\\u003e\",\"legendgroup\":\"some\",\"marker\":{\"color\":\"#FECB52\",\"symbol\":\"circle\"},\"mode\":\"markers\",\"name\":\"some\",\"scene\":\"scene\",\"showlegend\":true,\"x\":[-0.14326180517673492],\"y\":[-0.536690354347229],\"z\":[0.14490990340709686],\"type\":\"scatter3d\"},{\"hovertemplate\":\"color=father\\u003cbr\\u003e0=%{x}\\u003cbr\\u003e1=%{y}\\u003cbr\\u003e2=%{z}\\u003cextra\\u003e\\u003c\\u002fextra\\u003e\",\"legendgroup\":\"father\",\"marker\":{\"color\":\"#636efa\",\"symbol\":\"circle\"},\"mode\":\"markers\",\"name\":\"father\",\"scene\":\"scene\",\"showlegend\":true,\"x\":[-0.4813777208328247],\"y\":[-0.6526679396629333],\"z\":[-0.18196038901805878],\"type\":\"scatter3d\"},{\"hovertemplate\":\"color=old\\u003cbr\\u003e0=%{x}\\u003cbr\\u003e1=%{y}\\u003cbr\\u003e2=%{z}\\u003cextra\\u003e\\u003c\\u002fextra\\u003e\",\"legendgroup\":\"old\",\"marker\":{\"color\":\"#EF553B\",\"symbol\":\"circle\"},\"mode\":\"markers\",\"name\":\"old\",\"scene\":\"scene\",\"showlegend\":true,\"x\":[-0.15937700867652893],\"y\":[-0.3675447702407837],\"z\":[0.010827943682670593],\"type\":\"scatter3d\"},{\"hovertemplate\":\"color=hand\\u003cbr\\u003e0=%{x}\\u003cbr\\u003e1=%{y}\\u003cbr\\u003e2=%{z}\\u003cextra\\u003e\\u003c\\u002fextra\\u003e\",\"legendgroup\":\"hand\",\"marker\":{\"color\":\"#00cc96\",\"symbol\":\"circle\"},\"mode\":\"markers\",\"name\":\"hand\",\"scene\":\"scene\",\"showlegend\":true,\"x\":[0.05281250178813934],\"y\":[-0.5090458989143372],\"z\":[-0.497622013092041],\"type\":\"scatter3d\"},{\"hovertemplate\":\"color=even\\u003cbr\\u003e0=%{x}\\u003cbr\\u003e1=%{y}\\u003cbr\\u003e2=%{z}\\u003cextra\\u003e\\u003c\\u002fextra\\u003e\",\"legendgroup\":\"even\",\"marker\":{\"color\":\"#ab63fa\",\"symbol\":\"circle\"},\"mode\":\"markers\",\"name\":\"even\",\"scene\":\"scene\",\"showlegend\":true,\"x\":[-0.18981650471687317],\"y\":[-0.5168102979660034],\"z\":[-0.04421772062778473],\"type\":\"scatter3d\"},{\"hovertemplate\":\"color=too\\u003cbr\\u003e0=%{x}\\u003cbr\\u003e1=%{y}\\u003cbr\\u003e2=%{z}\\u003cextra\\u003e\\u003c\\u002fextra\\u003e\",\"legendgroup\":\"too\",\"marker\":{\"color\":\"#FFA15A\",\"symbol\":\"circle\"},\"mode\":\"markers\",\"name\":\"too\",\"scene\":\"scene\",\"showlegend\":true,\"x\":[-0.27066922187805176],\"y\":[-0.46548882126808167],\"z\":[-0.1935303956270218],\"type\":\"scatter3d\"},{\"hovertemplate\":\"color=tyrion\\u003cbr\\u003e0=%{x}\\u003cbr\\u003e1=%{y}\\u003cbr\\u003e2=%{z}\\u003cextra\\u003e\\u003c\\u002fextra\\u003e\",\"legendgroup\":\"tyrion\",\"marker\":{\"color\":\"#19d3f3\",\"symbol\":\"circle\"},\"mode\":\"markers\",\"name\":\"tyrion\",\"scene\":\"scene\",\"showlegend\":true,\"x\":[-0.12506671249866486],\"y\":[-0.3266163170337677],\"z\":[-0.36550474166870117],\"type\":\"scatter3d\"},{\"hovertemplate\":\"color=before\\u003cbr\\u003e0=%{x}\\u003cbr\\u003e1=%{y}\\u003cbr\\u003e2=%{z}\\u003cextra\\u003e\\u003c\\u002fextra\\u003e\",\"legendgroup\":\"before\",\"marker\":{\"color\":\"#FF6692\",\"symbol\":\"circle\"},\"mode\":\"markers\",\"name\":\"before\",\"scene\":\"scene\",\"showlegend\":true,\"x\":[-0.11767871677875519],\"y\":[-0.6584621667861938],\"z\":[-0.2591387629508972],\"type\":\"scatter3d\"},{\"hovertemplate\":\"color=never\\u003cbr\\u003e0=%{x}\\u003cbr\\u003e1=%{y}\\u003cbr\\u003e2=%{z}\\u003cextra\\u003e\\u003c\\u002fextra\\u003e\",\"legendgroup\":\"never\",\"marker\":{\"color\":\"#B6E880\",\"symbol\":\"circle\"},\"mode\":\"markers\",\"name\":\"never\",\"scene\":\"scene\",\"showlegend\":true,\"x\":[-0.49831056594848633],\"y\":[-0.5382557511329651],\"z\":[-0.22267527878284454],\"type\":\"scatter3d\"},{\"hovertemplate\":\"color=an\\u003cbr\\u003e0=%{x}\\u003cbr\\u003e1=%{y}\\u003cbr\\u003e2=%{z}\\u003cextra\\u003e\\u003c\\u002fextra\\u003e\",\"legendgroup\":\"an\",\"marker\":{\"color\":\"#FF97FF\",\"symbol\":\"circle\"},\"mode\":\"markers\",\"name\":\"an\",\"scene\":\"scene\",\"showlegend\":true,\"x\":[-0.04562419652938843],\"y\":[-0.37081581354141235],\"z\":[-0.09655135869979858],\"type\":\"scatter3d\"},{\"hovertemplate\":\"color=off\\u003cbr\\u003e0=%{x}\\u003cbr\\u003e1=%{y}\\u003cbr\\u003e2=%{z}\\u003cextra\\u003e\\u003c\\u002fextra\\u003e\",\"legendgroup\":\"off\",\"marker\":{\"color\":\"#FECB52\",\"symbol\":\"circle\"},\"mode\":\"markers\",\"name\":\"off\",\"scene\":\"scene\",\"showlegend\":true,\"x\":[0.2833043336868286],\"y\":[-0.4080578088760376],\"z\":[-0.43712353706359863],\"type\":\"scatter3d\"},{\"hovertemplate\":\"color=see\\u003cbr\\u003e0=%{x}\\u003cbr\\u003e1=%{y}\\u003cbr\\u003e2=%{z}\\u003cextra\\u003e\\u003c\\u002fextra\\u003e\",\"legendgroup\":\"see\",\"marker\":{\"color\":\"#636efa\",\"symbol\":\"circle\"},\"mode\":\"markers\",\"name\":\"see\",\"scene\":\"scene\",\"showlegend\":true,\"x\":[-0.16554871201515198],\"y\":[-0.6434558033943176],\"z\":[-0.3538551926612854],\"type\":\"scatter3d\"},{\"hovertemplate\":\"color=know\\u003cbr\\u003e0=%{x}\\u003cbr\\u003e1=%{y}\\u003cbr\\u003e2=%{z}\\u003cextra\\u003e\\u003c\\u002fextra\\u003e\",\"legendgroup\":\"know\",\"marker\":{\"color\":\"#EF553B\",\"symbol\":\"circle\"},\"mode\":\"markers\",\"name\":\"know\",\"scene\":\"scene\",\"showlegend\":true,\"x\":[-0.5877925753593445],\"y\":[-0.5597233772277832],\"z\":[-0.1934759020805359],\"type\":\"scatter3d\"},{\"hovertemplate\":\"color=into\\u003cbr\\u003e0=%{x}\\u003cbr\\u003e1=%{y}\\u003cbr\\u003e2=%{z}\\u003cextra\\u003e\\u003c\\u002fextra\\u003e\",\"legendgroup\":\"into\",\"marker\":{\"color\":\"#00cc96\",\"symbol\":\"circle\"},\"mode\":\"markers\",\"name\":\"into\",\"scene\":\"scene\",\"showlegend\":true,\"x\":[0.3938884139060974],\"y\":[-0.3949202597141266],\"z\":[-0.3950560688972473],\"type\":\"scatter3d\"},{\"hovertemplate\":\"color=made\\u003cbr\\u003e0=%{x}\\u003cbr\\u003e1=%{y}\\u003cbr\\u003e2=%{z}\\u003cextra\\u003e\\u003c\\u002fextra\\u003e\",\"legendgroup\":\"made\",\"marker\":{\"color\":\"#ab63fa\",\"symbol\":\"circle\"},\"mode\":\"markers\",\"name\":\"made\",\"scene\":\"scene\",\"showlegend\":true,\"x\":[-0.04651770740747452],\"y\":[-0.3391883969306946],\"z\":[-0.39376771450042725],\"type\":\"scatter3d\"},{\"hovertemplate\":\"color=now\\u003cbr\\u003e0=%{x}\\u003cbr\\u003e1=%{y}\\u003cbr\\u003e2=%{z}\\u003cextra\\u003e\\u003c\\u002fextra\\u003e\",\"legendgroup\":\"now\",\"marker\":{\"color\":\"#FFA15A\",\"symbol\":\"circle\"},\"mode\":\"markers\",\"name\":\"now\",\"scene\":\"scene\",\"showlegend\":true,\"x\":[-0.354678750038147],\"y\":[-0.637916624546051],\"z\":[-0.17511220276355743],\"type\":\"scatter3d\"},{\"hovertemplate\":\"color=eyes\\u003cbr\\u003e0=%{x}\\u003cbr\\u003e1=%{y}\\u003cbr\\u003e2=%{z}\\u003cextra\\u003e\\u003c\\u002fextra\\u003e\",\"legendgroup\":\"eyes\",\"marker\":{\"color\":\"#19d3f3\",\"symbol\":\"circle\"},\"mode\":\"markers\",\"name\":\"eyes\",\"scene\":\"scene\",\"showlegend\":true,\"x\":[0.15172947943210602],\"y\":[-0.47134536504745483],\"z\":[-0.3791537880897522],\"type\":\"scatter3d\"},{\"hovertemplate\":\"color=black\\u003cbr\\u003e0=%{x}\\u003cbr\\u003e1=%{y}\\u003cbr\\u003e2=%{z}\\u003cextra\\u003e\\u003c\\u002fextra\\u003e\",\"legendgroup\":\"black\",\"marker\":{\"color\":\"#FF6692\",\"symbol\":\"circle\"},\"mode\":\"markers\",\"name\":\"black\",\"scene\":\"scene\",\"showlegend\":true,\"x\":[0.39357590675354004],\"y\":[-0.3674972951412201],\"z\":[0.04584084451198578],\"type\":\"scatter3d\"},{\"hovertemplate\":\"color=told\\u003cbr\\u003e0=%{x}\\u003cbr\\u003e1=%{y}\\u003cbr\\u003e2=%{z}\\u003cextra\\u003e\\u003c\\u002fextra\\u003e\",\"legendgroup\":\"told\",\"marker\":{\"color\":\"#B6E880\",\"symbol\":\"circle\"},\"mode\":\"markers\",\"name\":\"told\",\"scene\":\"scene\",\"showlegend\":true,\"x\":[-0.48347383737564087],\"y\":[-0.5380353927612305],\"z\":[-0.46298694610595703],\"type\":\"scatter3d\"},{\"hovertemplate\":\"color=lady\\u003cbr\\u003e0=%{x}\\u003cbr\\u003e1=%{y}\\u003cbr\\u003e2=%{z}\\u003cextra\\u003e\\u003c\\u002fextra\\u003e\",\"legendgroup\":\"lady\",\"marker\":{\"color\":\"#FF97FF\",\"symbol\":\"circle\"},\"mode\":\"markers\",\"name\":\"lady\",\"scene\":\"scene\",\"showlegend\":true,\"x\":[-0.5308719277381897],\"y\":[-0.37103062868118286],\"z\":[-0.1774311065673828],\"type\":\"scatter3d\"},{\"hovertemplate\":\"color=thought\\u003cbr\\u003e0=%{x}\\u003cbr\\u003e1=%{y}\\u003cbr\\u003e2=%{z}\\u003cextra\\u003e\\u003c\\u002fextra\\u003e\",\"legendgroup\":\"thought\",\"marker\":{\"color\":\"#FECB52\",\"symbol\":\"circle\"},\"mode\":\"markers\",\"name\":\"thought\",\"scene\":\"scene\",\"showlegend\":true,\"x\":[-0.38419342041015625],\"y\":[-0.541641116142273],\"z\":[-0.5205923318862915],\"type\":\"scatter3d\"},{\"hovertemplate\":\"color=time\\u003cbr\\u003e0=%{x}\\u003cbr\\u003e1=%{y}\\u003cbr\\u003e2=%{z}\\u003cextra\\u003e\\u003c\\u002fextra\\u003e\",\"legendgroup\":\"time\",\"marker\":{\"color\":\"#636efa\",\"symbol\":\"circle\"},\"mode\":\"markers\",\"name\":\"time\",\"scene\":\"scene\",\"showlegend\":true,\"x\":[-0.08307436853647232],\"y\":[-0.6849324107170105],\"z\":[-0.3405255079269409],\"type\":\"scatter3d\"},{\"hovertemplate\":\"color=then\\u003cbr\\u003e0=%{x}\\u003cbr\\u003e1=%{y}\\u003cbr\\u003e2=%{z}\\u003cextra\\u003e\\u003c\\u002fextra\\u003e\",\"legendgroup\":\"then\",\"marker\":{\"color\":\"#EF553B\",\"symbol\":\"circle\"},\"mode\":\"markers\",\"name\":\"then\",\"scene\":\"scene\",\"showlegend\":true,\"x\":[0.07301256060600281],\"y\":[-0.5138874650001526],\"z\":[-0.5140295624732971],\"type\":\"scatter3d\"},{\"hovertemplate\":\"color=how\\u003cbr\\u003e0=%{x}\\u003cbr\\u003e1=%{y}\\u003cbr\\u003e2=%{z}\\u003cextra\\u003e\\u003c\\u002fextra\\u003e\",\"legendgroup\":\"how\",\"marker\":{\"color\":\"#00cc96\",\"symbol\":\"circle\"},\"mode\":\"markers\",\"name\":\"how\",\"scene\":\"scene\",\"showlegend\":true,\"x\":[-0.39814531803131104],\"y\":[-0.5228857398033142],\"z\":[-0.20481885969638824],\"type\":\"scatter3d\"},{\"hovertemplate\":\"color=long\\u003cbr\\u003e0=%{x}\\u003cbr\\u003e1=%{y}\\u003cbr\\u003e2=%{z}\\u003cextra\\u003e\\u003c\\u002fextra\\u003e\",\"legendgroup\":\"long\",\"marker\":{\"color\":\"#ab63fa\",\"symbol\":\"circle\"},\"mode\":\"markers\",\"name\":\"long\",\"scene\":\"scene\",\"showlegend\":true,\"x\":[0.15208007395267487],\"y\":[-0.5019989013671875],\"z\":[-0.10194945335388184],\"type\":\"scatter3d\"},{\"hovertemplate\":\"color=has\\u003cbr\\u003e0=%{x}\\u003cbr\\u003e1=%{y}\\u003cbr\\u003e2=%{z}\\u003cextra\\u003e\\u003c\\u002fextra\\u003e\",\"legendgroup\":\"has\",\"marker\":{\"color\":\"#FFA15A\",\"symbol\":\"circle\"},\"mode\":\"markers\",\"name\":\"has\",\"scene\":\"scene\",\"showlegend\":true,\"x\":[-0.5349367260932922],\"y\":[-0.48059138655662537],\"z\":[-0.07462699711322784],\"type\":\"scatter3d\"},{\"hovertemplate\":\"color=can\\u003cbr\\u003e0=%{x}\\u003cbr\\u003e1=%{y}\\u003cbr\\u003e2=%{z}\\u003cextra\\u003e\\u003c\\u002fextra\\u003e\",\"legendgroup\":\"can\",\"marker\":{\"color\":\"#19d3f3\",\"symbol\":\"circle\"},\"mode\":\"markers\",\"name\":\"can\",\"scene\":\"scene\",\"showlegend\":true,\"x\":[-0.4155800938606262],\"y\":[-0.47417646646499634],\"z\":[-0.1752115786075592],\"type\":\"scatter3d\"},{\"hovertemplate\":\"color=might\\u003cbr\\u003e0=%{x}\\u003cbr\\u003e1=%{y}\\u003cbr\\u003e2=%{z}\\u003cextra\\u003e\\u003c\\u002fextra\\u003e\",\"legendgroup\":\"might\",\"marker\":{\"color\":\"#FF6692\",\"symbol\":\"circle\"},\"mode\":\"markers\",\"name\":\"might\",\"scene\":\"scene\",\"showlegend\":true,\"x\":[-0.4085819721221924],\"y\":[-0.46694618463516235],\"z\":[-0.2087184339761734],\"type\":\"scatter3d\"},{\"hovertemplate\":\"color=us\\u003cbr\\u003e0=%{x}\\u003cbr\\u003e1=%{y}\\u003cbr\\u003e2=%{z}\\u003cextra\\u003e\\u003c\\u002fextra\\u003e\",\"legendgroup\":\"us\",\"marker\":{\"color\":\"#B6E880\",\"symbol\":\"circle\"},\"mode\":\"markers\",\"name\":\"us\",\"scene\":\"scene\",\"showlegend\":true,\"x\":[-0.4405696988105774],\"y\":[-0.742304801940918],\"z\":[0.06244532763957977],\"type\":\"scatter3d\"},{\"hovertemplate\":\"color=come\\u003cbr\\u003e0=%{x}\\u003cbr\\u003e1=%{y}\\u003cbr\\u003e2=%{z}\\u003cextra\\u003e\\u003c\\u002fextra\\u003e\",\"legendgroup\":\"come\",\"marker\":{\"color\":\"#FF97FF\",\"symbol\":\"circle\"},\"mode\":\"markers\",\"name\":\"come\",\"scene\":\"scene\",\"showlegend\":true,\"x\":[-0.34819698333740234],\"y\":[-0.7738218307495117],\"z\":[-0.24368126690387726],\"type\":\"scatter3d\"},{\"hovertemplate\":\"color=where\\u003cbr\\u003e0=%{x}\\u003cbr\\u003e1=%{y}\\u003cbr\\u003e2=%{z}\\u003cextra\\u003e\\u003c\\u002fextra\\u003e\",\"legendgroup\":\"where\",\"marker\":{\"color\":\"#FECB52\",\"symbol\":\"circle\"},\"mode\":\"markers\",\"name\":\"where\",\"scene\":\"scene\",\"showlegend\":true,\"x\":[0.1388045996427536],\"y\":[-0.6131781935691833],\"z\":[-0.08530095219612122],\"type\":\"scatter3d\"}],                        {\"template\":{\"data\":{\"histogram2dcontour\":[{\"type\":\"histogram2dcontour\",\"colorbar\":{\"outlinewidth\":0,\"ticks\":\"\"},\"colorscale\":[[0.0,\"#0d0887\"],[0.1111111111111111,\"#46039f\"],[0.2222222222222222,\"#7201a8\"],[0.3333333333333333,\"#9c179e\"],[0.4444444444444444,\"#bd3786\"],[0.5555555555555556,\"#d8576b\"],[0.6666666666666666,\"#ed7953\"],[0.7777777777777778,\"#fb9f3a\"],[0.8888888888888888,\"#fdca26\"],[1.0,\"#f0f921\"]]}],\"choropleth\":[{\"type\":\"choropleth\",\"colorbar\":{\"outlinewidth\":0,\"ticks\":\"\"}}],\"histogram2d\":[{\"type\":\"histogram2d\",\"colorbar\":{\"outlinewidth\":0,\"ticks\":\"\"},\"colorscale\":[[0.0,\"#0d0887\"],[0.1111111111111111,\"#46039f\"],[0.2222222222222222,\"#7201a8\"],[0.3333333333333333,\"#9c179e\"],[0.4444444444444444,\"#bd3786\"],[0.5555555555555556,\"#d8576b\"],[0.6666666666666666,\"#ed7953\"],[0.7777777777777778,\"#fb9f3a\"],[0.8888888888888888,\"#fdca26\"],[1.0,\"#f0f921\"]]}],\"heatmap\":[{\"type\":\"heatmap\",\"colorbar\":{\"outlinewidth\":0,\"ticks\":\"\"},\"colorscale\":[[0.0,\"#0d0887\"],[0.1111111111111111,\"#46039f\"],[0.2222222222222222,\"#7201a8\"],[0.3333333333333333,\"#9c179e\"],[0.4444444444444444,\"#bd3786\"],[0.5555555555555556,\"#d8576b\"],[0.6666666666666666,\"#ed7953\"],[0.7777777777777778,\"#fb9f3a\"],[0.8888888888888888,\"#fdca26\"],[1.0,\"#f0f921\"]]}],\"heatmapgl\":[{\"type\":\"heatmapgl\",\"colorbar\":{\"outlinewidth\":0,\"ticks\":\"\"},\"colorscale\":[[0.0,\"#0d0887\"],[0.1111111111111111,\"#46039f\"],[0.2222222222222222,\"#7201a8\"],[0.3333333333333333,\"#9c179e\"],[0.4444444444444444,\"#bd3786\"],[0.5555555555555556,\"#d8576b\"],[0.6666666666666666,\"#ed7953\"],[0.7777777777777778,\"#fb9f3a\"],[0.8888888888888888,\"#fdca26\"],[1.0,\"#f0f921\"]]}],\"contourcarpet\":[{\"type\":\"contourcarpet\",\"colorbar\":{\"outlinewidth\":0,\"ticks\":\"\"}}],\"contour\":[{\"type\":\"contour\",\"colorbar\":{\"outlinewidth\":0,\"ticks\":\"\"},\"colorscale\":[[0.0,\"#0d0887\"],[0.1111111111111111,\"#46039f\"],[0.2222222222222222,\"#7201a8\"],[0.3333333333333333,\"#9c179e\"],[0.4444444444444444,\"#bd3786\"],[0.5555555555555556,\"#d8576b\"],[0.6666666666666666,\"#ed7953\"],[0.7777777777777778,\"#fb9f3a\"],[0.8888888888888888,\"#fdca26\"],[1.0,\"#f0f921\"]]}],\"surface\":[{\"type\":\"surface\",\"colorbar\":{\"outlinewidth\":0,\"ticks\":\"\"},\"colorscale\":[[0.0,\"#0d0887\"],[0.1111111111111111,\"#46039f\"],[0.2222222222222222,\"#7201a8\"],[0.3333333333333333,\"#9c179e\"],[0.4444444444444444,\"#bd3786\"],[0.5555555555555556,\"#d8576b\"],[0.6666666666666666,\"#ed7953\"],[0.7777777777777778,\"#fb9f3a\"],[0.8888888888888888,\"#fdca26\"],[1.0,\"#f0f921\"]]}],\"mesh3d\":[{\"type\":\"mesh3d\",\"colorbar\":{\"outlinewidth\":0,\"ticks\":\"\"}}],\"scatter\":[{\"fillpattern\":{\"fillmode\":\"overlay\",\"size\":10,\"solidity\":0.2},\"type\":\"scatter\"}],\"parcoords\":[{\"type\":\"parcoords\",\"line\":{\"colorbar\":{\"outlinewidth\":0,\"ticks\":\"\"}}}],\"scatterpolargl\":[{\"type\":\"scatterpolargl\",\"marker\":{\"colorbar\":{\"outlinewidth\":0,\"ticks\":\"\"}}}],\"bar\":[{\"error_x\":{\"color\":\"#2a3f5f\"},\"error_y\":{\"color\":\"#2a3f5f\"},\"marker\":{\"line\":{\"color\":\"#E5ECF6\",\"width\":0.5},\"pattern\":{\"fillmode\":\"overlay\",\"size\":10,\"solidity\":0.2}},\"type\":\"bar\"}],\"scattergeo\":[{\"type\":\"scattergeo\",\"marker\":{\"colorbar\":{\"outlinewidth\":0,\"ticks\":\"\"}}}],\"scatterpolar\":[{\"type\":\"scatterpolar\",\"marker\":{\"colorbar\":{\"outlinewidth\":0,\"ticks\":\"\"}}}],\"histogram\":[{\"marker\":{\"pattern\":{\"fillmode\":\"overlay\",\"size\":10,\"solidity\":0.2}},\"type\":\"histogram\"}],\"scattergl\":[{\"type\":\"scattergl\",\"marker\":{\"colorbar\":{\"outlinewidth\":0,\"ticks\":\"\"}}}],\"scatter3d\":[{\"type\":\"scatter3d\",\"line\":{\"colorbar\":{\"outlinewidth\":0,\"ticks\":\"\"}},\"marker\":{\"colorbar\":{\"outlinewidth\":0,\"ticks\":\"\"}}}],\"scattermapbox\":[{\"type\":\"scattermapbox\",\"marker\":{\"colorbar\":{\"outlinewidth\":0,\"ticks\":\"\"}}}],\"scatterternary\":[{\"type\":\"scatterternary\",\"marker\":{\"colorbar\":{\"outlinewidth\":0,\"ticks\":\"\"}}}],\"scattercarpet\":[{\"type\":\"scattercarpet\",\"marker\":{\"colorbar\":{\"outlinewidth\":0,\"ticks\":\"\"}}}],\"carpet\":[{\"aaxis\":{\"endlinecolor\":\"#2a3f5f\",\"gridcolor\":\"white\",\"linecolor\":\"white\",\"minorgridcolor\":\"white\",\"startlinecolor\":\"#2a3f5f\"},\"baxis\":{\"endlinecolor\":\"#2a3f5f\",\"gridcolor\":\"white\",\"linecolor\":\"white\",\"minorgridcolor\":\"white\",\"startlinecolor\":\"#2a3f5f\"},\"type\":\"carpet\"}],\"table\":[{\"cells\":{\"fill\":{\"color\":\"#EBF0F8\"},\"line\":{\"color\":\"white\"}},\"header\":{\"fill\":{\"color\":\"#C8D4E3\"},\"line\":{\"color\":\"white\"}},\"type\":\"table\"}],\"barpolar\":[{\"marker\":{\"line\":{\"color\":\"#E5ECF6\",\"width\":0.5},\"pattern\":{\"fillmode\":\"overlay\",\"size\":10,\"solidity\":0.2}},\"type\":\"barpolar\"}],\"pie\":[{\"automargin\":true,\"type\":\"pie\"}]},\"layout\":{\"autotypenumbers\":\"strict\",\"colorway\":[\"#636efa\",\"#EF553B\",\"#00cc96\",\"#ab63fa\",\"#FFA15A\",\"#19d3f3\",\"#FF6692\",\"#B6E880\",\"#FF97FF\",\"#FECB52\"],\"font\":{\"color\":\"#2a3f5f\"},\"hovermode\":\"closest\",\"hoverlabel\":{\"align\":\"left\"},\"paper_bgcolor\":\"white\",\"plot_bgcolor\":\"#E5ECF6\",\"polar\":{\"bgcolor\":\"#E5ECF6\",\"angularaxis\":{\"gridcolor\":\"white\",\"linecolor\":\"white\",\"ticks\":\"\"},\"radialaxis\":{\"gridcolor\":\"white\",\"linecolor\":\"white\",\"ticks\":\"\"}},\"ternary\":{\"bgcolor\":\"#E5ECF6\",\"aaxis\":{\"gridcolor\":\"white\",\"linecolor\":\"white\",\"ticks\":\"\"},\"baxis\":{\"gridcolor\":\"white\",\"linecolor\":\"white\",\"ticks\":\"\"},\"caxis\":{\"gridcolor\":\"white\",\"linecolor\":\"white\",\"ticks\":\"\"}},\"coloraxis\":{\"colorbar\":{\"outlinewidth\":0,\"ticks\":\"\"}},\"colorscale\":{\"sequential\":[[0.0,\"#0d0887\"],[0.1111111111111111,\"#46039f\"],[0.2222222222222222,\"#7201a8\"],[0.3333333333333333,\"#9c179e\"],[0.4444444444444444,\"#bd3786\"],[0.5555555555555556,\"#d8576b\"],[0.6666666666666666,\"#ed7953\"],[0.7777777777777778,\"#fb9f3a\"],[0.8888888888888888,\"#fdca26\"],[1.0,\"#f0f921\"]],\"sequentialminus\":[[0.0,\"#0d0887\"],[0.1111111111111111,\"#46039f\"],[0.2222222222222222,\"#7201a8\"],[0.3333333333333333,\"#9c179e\"],[0.4444444444444444,\"#bd3786\"],[0.5555555555555556,\"#d8576b\"],[0.6666666666666666,\"#ed7953\"],[0.7777777777777778,\"#fb9f3a\"],[0.8888888888888888,\"#fdca26\"],[1.0,\"#f0f921\"]],\"diverging\":[[0,\"#8e0152\"],[0.1,\"#c51b7d\"],[0.2,\"#de77ae\"],[0.3,\"#f1b6da\"],[0.4,\"#fde0ef\"],[0.5,\"#f7f7f7\"],[0.6,\"#e6f5d0\"],[0.7,\"#b8e186\"],[0.8,\"#7fbc41\"],[0.9,\"#4d9221\"],[1,\"#276419\"]]},\"xaxis\":{\"gridcolor\":\"white\",\"linecolor\":\"white\",\"ticks\":\"\",\"title\":{\"standoff\":15},\"zerolinecolor\":\"white\",\"automargin\":true,\"zerolinewidth\":2},\"yaxis\":{\"gridcolor\":\"white\",\"linecolor\":\"white\",\"ticks\":\"\",\"title\":{\"standoff\":15},\"zerolinecolor\":\"white\",\"automargin\":true,\"zerolinewidth\":2},\"scene\":{\"xaxis\":{\"backgroundcolor\":\"#E5ECF6\",\"gridcolor\":\"white\",\"linecolor\":\"white\",\"showbackground\":true,\"ticks\":\"\",\"zerolinecolor\":\"white\",\"gridwidth\":2},\"yaxis\":{\"backgroundcolor\":\"#E5ECF6\",\"gridcolor\":\"white\",\"linecolor\":\"white\",\"showbackground\":true,\"ticks\":\"\",\"zerolinecolor\":\"white\",\"gridwidth\":2},\"zaxis\":{\"backgroundcolor\":\"#E5ECF6\",\"gridcolor\":\"white\",\"linecolor\":\"white\",\"showbackground\":true,\"ticks\":\"\",\"zerolinecolor\":\"white\",\"gridwidth\":2}},\"shapedefaults\":{\"line\":{\"color\":\"#2a3f5f\"}},\"annotationdefaults\":{\"arrowcolor\":\"#2a3f5f\",\"arrowhead\":0,\"arrowwidth\":1},\"geo\":{\"bgcolor\":\"white\",\"landcolor\":\"#E5ECF6\",\"subunitcolor\":\"white\",\"showland\":true,\"showlakes\":true,\"lakecolor\":\"white\"},\"title\":{\"x\":0.05},\"mapbox\":{\"style\":\"light\"}}},\"scene\":{\"domain\":{\"x\":[0.0,1.0],\"y\":[0.0,1.0]},\"xaxis\":{\"title\":{\"text\":\"0\"}},\"yaxis\":{\"title\":{\"text\":\"1\"}},\"zaxis\":{\"title\":{\"text\":\"2\"}}},\"legend\":{\"title\":{\"text\":\"color\"},\"tracegroupgap\":0},\"margin\":{\"t\":60}},                        {\"responsive\": true}                    ).then(function(){\n",
              "                            \n",
              "var gd = document.getElementById('337414d5-7d38-499e-aa00-e22391c0e8e4');\n",
              "var x = new MutationObserver(function (mutations, observer) {{\n",
              "        var display = window.getComputedStyle(gd).display;\n",
              "        if (!display || display === 'none') {{\n",
              "            console.log([gd, 'removed!']);\n",
              "            Plotly.purge(gd);\n",
              "            observer.disconnect();\n",
              "        }}\n",
              "}});\n",
              "\n",
              "// Listen for the removal of the full notebook cells\n",
              "var notebookContainer = gd.closest('#notebook-container');\n",
              "if (notebookContainer) {{\n",
              "    x.observe(notebookContainer, {childList: true});\n",
              "}}\n",
              "\n",
              "// Listen for the clearing of the current output cell\n",
              "var outputEl = gd.closest('.output');\n",
              "if (outputEl) {{\n",
              "    x.observe(outputEl, {childList: true});\n",
              "}}\n",
              "\n",
              "                        })                };                            </script>        </div>\n",
              "</body>\n",
              "</html>"
            ]
          },
          "metadata": {}
        }
      ]
    },
    {
      "cell_type": "code",
      "source": [],
      "metadata": {
        "id": "o9c_8GbBo_je"
      },
      "execution_count": null,
      "outputs": []
    }
  ]
}