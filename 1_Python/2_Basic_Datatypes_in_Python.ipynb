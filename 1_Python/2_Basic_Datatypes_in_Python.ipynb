{
  "nbformat": 4,
  "nbformat_minor": 0,
  "metadata": {
    "colab": {
      "provenance": []
    },
    "kernelspec": {
      "name": "python3",
      "display_name": "Python 3"
    },
    "language_info": {
      "name": "python"
    }
  },
  "cells": [
    {
      "cell_type": "markdown",
      "source": [
        "#Basic Datatypes in python:\n",
        "\n",
        "1.  integer\n",
        "\n",
        "1.  floating point integer\n",
        "\n",
        "1.  string\n",
        "2.  boolean\n",
        "5. complex\n",
        "\n"
      ],
      "metadata": {
        "id": "iVOSOdnAAnIC"
      }
    },
    {
      "cell_type": "code",
      "execution_count": 1,
      "metadata": {
        "colab": {
          "base_uri": "https://localhost:8080/"
        },
        "id": "f_xxT_bcAaSS",
        "outputId": "0655fa4a-cb64-4642-dd2f-7f98d1f5fd09"
      },
      "outputs": [
        {
          "output_type": "stream",
          "name": "stdout",
          "text": [
            "8\n"
          ]
        },
        {
          "output_type": "execute_result",
          "data": {
            "text/plain": [
              "int"
            ]
          },
          "metadata": {},
          "execution_count": 1
        }
      ],
      "source": [
        "#integers\n",
        "a = 8\n",
        "print(a)\n",
        "type(a)"
      ]
    },
    {
      "cell_type": "code",
      "source": [
        "#floating point\n",
        "b = 2.3\n",
        "print(b)\n",
        "type(b)"
      ],
      "metadata": {
        "colab": {
          "base_uri": "https://localhost:8080/"
        },
        "id": "yd3szmNsBNJj",
        "outputId": "2522631c-94e0-4e24-e9f7-0f4801cb7887"
      },
      "execution_count": 2,
      "outputs": [
        {
          "output_type": "stream",
          "name": "stdout",
          "text": [
            "2.3\n"
          ]
        },
        {
          "output_type": "execute_result",
          "data": {
            "text/plain": [
              "float"
            ]
          },
          "metadata": {},
          "execution_count": 2
        }
      ]
    },
    {
      "cell_type": "code",
      "source": [
        "#complex numbers\n",
        "c = 1 + 5j\n",
        "print(c)\n",
        "type(c)"
      ],
      "metadata": {
        "colab": {
          "base_uri": "https://localhost:8080/"
        },
        "id": "UPUA9Hd7BYQg",
        "outputId": "488bd1b0-b8bd-43a4-9750-cc21d18e0837"
      },
      "execution_count": 3,
      "outputs": [
        {
          "output_type": "stream",
          "name": "stdout",
          "text": [
            "(1+5j)\n"
          ]
        },
        {
          "output_type": "execute_result",
          "data": {
            "text/plain": [
              "complex"
            ]
          },
          "metadata": {},
          "execution_count": 3
        }
      ]
    },
    {
      "cell_type": "code",
      "source": [
        "#typecasting\n",
        "x = 10\n",
        "print(x)\n",
        "type(x)\n",
        "y = float(x)\n",
        "print(y)\n",
        "type(y)"
      ],
      "metadata": {
        "colab": {
          "base_uri": "https://localhost:8080/"
        },
        "id": "EL7iXK2gBkE-",
        "outputId": "b78d85d1-a63e-4d8a-f7cc-a7f35658fa4d"
      },
      "execution_count": 4,
      "outputs": [
        {
          "output_type": "stream",
          "name": "stdout",
          "text": [
            "10\n",
            "10.0\n"
          ]
        },
        {
          "output_type": "execute_result",
          "data": {
            "text/plain": [
              "float"
            ]
          },
          "metadata": {},
          "execution_count": 4
        }
      ]
    },
    {
      "cell_type": "markdown",
      "source": [
        "Boolean value\n",
        "\n",
        "1.   True - T should be a uppercase T\n",
        "2.   False - Same here F should be uppercase\n",
        "\n"
      ],
      "metadata": {
        "id": "jdBMAC6XCOie"
      }
    },
    {
      "cell_type": "code",
      "source": [
        "a = True\n",
        "print(a)\n",
        "type(a)"
      ],
      "metadata": {
        "colab": {
          "base_uri": "https://localhost:8080/"
        },
        "id": "MxmVf1DfB9we",
        "outputId": "9ce5622f-d25e-46d5-cfc6-087f52b96e5f"
      },
      "execution_count": 5,
      "outputs": [
        {
          "output_type": "stream",
          "name": "stdout",
          "text": [
            "True\n"
          ]
        },
        {
          "output_type": "execute_result",
          "data": {
            "text/plain": [
              "bool"
            ]
          },
          "metadata": {},
          "execution_count": 5
        }
      ]
    },
    {
      "cell_type": "code",
      "source": [
        "b = 7 < 2\n",
        "print(b)\n",
        "type(b)"
      ],
      "metadata": {
        "colab": {
          "base_uri": "https://localhost:8080/"
        },
        "id": "Di_TYrRxClkq",
        "outputId": "7b972a01-dfd9-44c9-af3c-3064d4fc9ac1"
      },
      "execution_count": 6,
      "outputs": [
        {
          "output_type": "stream",
          "name": "stdout",
          "text": [
            "False\n"
          ]
        },
        {
          "output_type": "execute_result",
          "data": {
            "text/plain": [
              "bool"
            ]
          },
          "metadata": {},
          "execution_count": 6
        }
      ]
    },
    {
      "cell_type": "markdown",
      "source": [
        "Strings"
      ],
      "metadata": {
        "id": "7HxZlZgIC0cI"
      }
    },
    {
      "cell_type": "code",
      "source": [
        "print(\"Hello world\")"
      ],
      "metadata": {
        "colab": {
          "base_uri": "https://localhost:8080/"
        },
        "id": "8xqLOU9GCpKm",
        "outputId": "96559b02-c155-436f-9311-228173e2782b"
      },
      "execution_count": 7,
      "outputs": [
        {
          "output_type": "stream",
          "name": "stdout",
          "text": [
            "Hello world\n"
          ]
        }
      ]
    },
    {
      "cell_type": "code",
      "source": [
        "print(\"Hello \"*5)             # * after the string can be used to print it multiple times"
      ],
      "metadata": {
        "colab": {
          "base_uri": "https://localhost:8080/"
        },
        "id": "HAGZahthC4a3",
        "outputId": "f0912b04-e2c8-47aa-bb4c-0f72a1becbd3"
      },
      "execution_count": 8,
      "outputs": [
        {
          "output_type": "stream",
          "name": "stdout",
          "text": [
            "Hello Hello Hello Hello Hello \n"
          ]
        }
      ]
    },
    {
      "cell_type": "code",
      "source": [
        "# Slicing - string[start:end] - string is printed from start index to (end-1) index\n",
        "myStr = \"Programming\"\n",
        "print(myStr[1:5])"
      ],
      "metadata": {
        "colab": {
          "base_uri": "https://localhost:8080/"
        },
        "id": "8d96Hh6SDJOi",
        "outputId": "1f3dc474-276a-4f86-c8d8-2526916284a0"
      },
      "execution_count": 9,
      "outputs": [
        {
          "output_type": "stream",
          "name": "stdout",
          "text": [
            "rogr\n"
          ]
        }
      ]
    },
    {
      "cell_type": "code",
      "source": [
        "#Step slicing\n",
        "print(myStr[0:10:2])"
      ],
      "metadata": {
        "colab": {
          "base_uri": "https://localhost:8080/"
        },
        "id": "fMKyA4u4DrU-",
        "outputId": "416edd2b-2997-4fe2-cc7e-e882758a1eb8"
      },
      "execution_count": 11,
      "outputs": [
        {
          "output_type": "stream",
          "name": "stdout",
          "text": [
            "Pormi\n"
          ]
        }
      ]
    },
    {
      "cell_type": "code",
      "source": [
        "print(myStr.isalnum())\n",
        "print(myStr.isalpha())\n",
        "print(myStr.isdigit())\n",
        "print(myStr.istitle())\n",
        "print(myStr.isupper())\n",
        "print(myStr.islower())\n",
        "print(myStr.isspace())\n",
        "print(myStr.endswith('g'))\n",
        "print(myStr.startswith('P'))"
      ],
      "metadata": {
        "colab": {
          "base_uri": "https://localhost:8080/"
        },
        "id": "PX3w-ylQeDE7",
        "outputId": "83903b4e-81a0-467b-9f9e-efb3501a1f97"
      },
      "execution_count": 15,
      "outputs": [
        {
          "output_type": "stream",
          "name": "stdout",
          "text": [
            "True\n",
            "True\n",
            "False\n",
            "True\n",
            "False\n",
            "False\n",
            "False\n",
            "True\n",
            "True\n"
          ]
        }
      ]
    },
    {
      "cell_type": "code",
      "source": [],
      "metadata": {
        "id": "OUSQQwY4eKT8"
      },
      "execution_count": null,
      "outputs": []
    }
  ]
}