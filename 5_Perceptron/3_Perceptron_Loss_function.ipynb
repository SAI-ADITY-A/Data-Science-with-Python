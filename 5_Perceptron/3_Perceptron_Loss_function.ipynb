{
  "nbformat": 4,
  "nbformat_minor": 0,
  "metadata": {
    "colab": {
      "provenance": []
    },
    "kernelspec": {
      "name": "python3",
      "display_name": "Python 3"
    },
    "language_info": {
      "name": "python"
    }
  },
  "cells": [
    {
      "cell_type": "code",
      "execution_count": 1,
      "metadata": {
        "id": "CTX9kplxumg_"
      },
      "outputs": [],
      "source": [
        "from sklearn.datasets import make_classification\n",
        "x,y = make_classification(n_samples=100, n_features=2, n_informative=1,n_redundant=0,\n",
        "                           n_classes=2, n_clusters_per_class=1, random_state=41,hypercube=False,class_sep=15)"
      ]
    },
    {
      "cell_type": "code",
      "source": [
        "import numpy as np\n",
        "import pandas as pd"
      ],
      "metadata": {
        "id": "hqE5o4s6u2iU"
      },
      "execution_count": 2,
      "outputs": []
    },
    {
      "cell_type": "code",
      "source": [
        "x"
      ],
      "metadata": {
        "colab": {
          "base_uri": "https://localhost:8080/"
        },
        "id": "HSCtZ0Yxu6xU",
        "outputId": "b219bfa9-3feb-468a-b297-071990ed9e7b"
      },
      "execution_count": 3,
      "outputs": [
        {
          "output_type": "execute_result",
          "data": {
            "text/plain": [
              "array([[ 0.35523945, -0.11697552],\n",
              "       [-0.09282829, -0.73115232],\n",
              "       [-0.1984984 , -0.7081059 ],\n",
              "       [-2.44001098, -2.01199214],\n",
              "       [-0.0448475 ,  1.63493163],\n",
              "       [-1.68155714,  0.15599044],\n",
              "       [-2.64121606,  1.07782053],\n",
              "       [ 0.2416527 ,  0.80626713],\n",
              "       [-0.40266099,  0.74859527],\n",
              "       [-2.80888854,  0.75152794],\n",
              "       [-2.62743539, -0.90114581],\n",
              "       [-2.62900445, -0.1815243 ],\n",
              "       [ 0.13405049, -2.98092432],\n",
              "       [ 0.96162631,  1.20500136],\n",
              "       [-2.67615806,  0.78302407],\n",
              "       [ 0.54329928,  0.42968688],\n",
              "       [ 0.01490532, -0.73229726],\n",
              "       [-2.72870533, -0.83930476],\n",
              "       [-0.02633711,  0.83727062],\n",
              "       [-2.61974125, -0.10255323],\n",
              "       [-3.1257262 ,  0.65867001],\n",
              "       [-2.91434094,  0.92649819],\n",
              "       [-2.16605143,  0.10216193],\n",
              "       [ 1.76642459,  0.46886454],\n",
              "       [-2.06564986,  0.45432938],\n",
              "       [ 0.7699643 ,  1.8613386 ],\n",
              "       [-2.63675549, -0.79255991],\n",
              "       [-1.89063753, -1.0004391 ],\n",
              "       [-3.24982176, -0.53814137],\n",
              "       [-2.65298044,  0.44027716],\n",
              "       [-2.28990205,  0.27047889],\n",
              "       [ 1.50589178, -0.75869267],\n",
              "       [ 0.38119367,  0.6802322 ],\n",
              "       [ 0.69287727,  0.17018845],\n",
              "       [ 0.71082659, -1.01121977],\n",
              "       [-0.16578985, -0.8394709 ],\n",
              "       [-1.8373584 ,  0.90327412],\n",
              "       [ 0.82994005,  1.16981747],\n",
              "       [-2.45828184,  0.53461406],\n",
              "       [ 0.91326394, -0.22100631],\n",
              "       [-2.17505968, -0.64584571],\n",
              "       [-1.76697885,  0.21243302],\n",
              "       [-2.20492739,  0.98654083],\n",
              "       [ 1.62468859,  0.67382928],\n",
              "       [-1.65455305, -0.11323563],\n",
              "       [ 1.23659016,  0.91694693],\n",
              "       [ 0.30266526,  0.3645213 ],\n",
              "       [-2.2223914 , -0.78470874],\n",
              "       [-1.94656681, -1.48004137],\n",
              "       [-1.76932068,  0.72931763],\n",
              "       [ 0.37619713, -0.60000139],\n",
              "       [-0.1955372 ,  0.14720034],\n",
              "       [-2.27050259,  0.35215601],\n",
              "       [ 1.1001451 ,  0.17388705],\n",
              "       [ 2.30087391, -0.17162755],\n",
              "       [-2.37614128,  0.03763193],\n",
              "       [ 1.1907852 ,  0.48360467],\n",
              "       [-2.90465727, -0.07909256],\n",
              "       [-2.18155987,  0.06158897],\n",
              "       [ 0.04984158, -1.20413846],\n",
              "       [ 1.05509794,  0.77324391],\n",
              "       [-2.17067286,  0.7640092 ],\n",
              "       [-2.81404262,  1.57200032],\n",
              "       [ 1.12698986,  0.47296516],\n",
              "       [ 0.2080691 ,  0.0642074 ],\n",
              "       [-0.50794784,  1.52469135],\n",
              "       [-2.74291312, -2.1450828 ],\n",
              "       [ 0.7501366 , -0.7701428 ],\n",
              "       [-2.40176115,  0.84455766],\n",
              "       [-1.84902622,  1.29753064],\n",
              "       [-3.24578843, -0.84276652],\n",
              "       [ 0.43136638,  2.0615874 ],\n",
              "       [ 1.2283296 , -0.3036533 ],\n",
              "       [-2.30688472, -0.1656085 ],\n",
              "       [ 1.22266657,  1.16969713],\n",
              "       [ 0.83097544, -0.3038555 ],\n",
              "       [-3.03169151, -0.4788978 ],\n",
              "       [ 1.11994315,  0.28128262],\n",
              "       [-2.16473162,  0.70412341],\n",
              "       [ 0.8718523 ,  0.3757601 ],\n",
              "       [-0.00587454,  0.97247545],\n",
              "       [ 1.497861  ,  0.56868381],\n",
              "       [-2.30937635, -0.39767934],\n",
              "       [ 1.53244693, -1.08933729],\n",
              "       [-0.20171527, -1.81663939],\n",
              "       [-2.71319932,  1.41775924],\n",
              "       [-2.63179272,  0.27098296],\n",
              "       [-2.03842409, -0.56186639],\n",
              "       [ 0.42254045,  0.42168159],\n",
              "       [-2.1372365 , -2.95373116],\n",
              "       [ 0.90762682,  0.19492133],\n",
              "       [ 1.31853452, -0.04578681],\n",
              "       [-2.00804648, -0.18860967],\n",
              "       [-2.3360828 ,  0.44635682],\n",
              "       [ 0.90892018, -1.49814775],\n",
              "       [-2.97247309,  0.66198774],\n",
              "       [-2.38514409,  0.07153265],\n",
              "       [-2.30949306,  0.32323638],\n",
              "       [ 0.99225782, -0.34574201],\n",
              "       [-0.10971426,  0.06499922]])"
            ]
          },
          "metadata": {},
          "execution_count": 3
        }
      ]
    },
    {
      "cell_type": "code",
      "source": [
        "x.shape"
      ],
      "metadata": {
        "colab": {
          "base_uri": "https://localhost:8080/"
        },
        "id": "rnFjUWFYu7Zm",
        "outputId": "ac3dafcf-4d02-44bd-f732-9e172109f675"
      },
      "execution_count": 4,
      "outputs": [
        {
          "output_type": "execute_result",
          "data": {
            "text/plain": [
              "(100, 2)"
            ]
          },
          "metadata": {},
          "execution_count": 4
        }
      ]
    },
    {
      "cell_type": "code",
      "source": [
        "y"
      ],
      "metadata": {
        "colab": {
          "base_uri": "https://localhost:8080/"
        },
        "id": "mItPHl22u9Xi",
        "outputId": "a9c18546-51cb-4981-b9b2-606a62c0c3e3"
      },
      "execution_count": 5,
      "outputs": [
        {
          "output_type": "execute_result",
          "data": {
            "text/plain": [
              "array([1, 1, 1, 0, 1, 0, 0, 1, 1, 0, 0, 0, 1, 1, 0, 1, 1, 0, 1, 0, 0, 0,\n",
              "       0, 1, 0, 1, 0, 0, 0, 0, 0, 1, 1, 1, 1, 1, 0, 1, 0, 1, 0, 0, 0, 1,\n",
              "       0, 1, 1, 0, 0, 0, 1, 1, 0, 1, 1, 0, 1, 0, 0, 1, 1, 0, 0, 1, 1, 1,\n",
              "       0, 1, 0, 0, 0, 1, 1, 0, 1, 1, 0, 1, 0, 1, 1, 1, 0, 1, 1, 0, 0, 0,\n",
              "       1, 0, 1, 1, 0, 0, 1, 0, 0, 0, 1, 1])"
            ]
          },
          "metadata": {},
          "execution_count": 5
        }
      ]
    },
    {
      "cell_type": "code",
      "source": [
        "y.shape"
      ],
      "metadata": {
        "colab": {
          "base_uri": "https://localhost:8080/"
        },
        "id": "ZZkHPlGHu96c",
        "outputId": "202c5bad-3565-4277-e48a-a38cadba5063"
      },
      "execution_count": 6,
      "outputs": [
        {
          "output_type": "execute_result",
          "data": {
            "text/plain": [
              "(100,)"
            ]
          },
          "metadata": {},
          "execution_count": 6
        }
      ]
    },
    {
      "cell_type": "code",
      "source": [
        "import matplotlib.pyplot  as plt"
      ],
      "metadata": {
        "id": "RyUauqBuu_Vw"
      },
      "execution_count": 7,
      "outputs": []
    },
    {
      "cell_type": "code",
      "source": [
        "plt.scatter(x[:,0],x[:,1],c=y)\n",
        "plt.figure(figsize = (10,5))"
      ],
      "metadata": {
        "colab": {
          "base_uri": "https://localhost:8080/",
          "height": 465
        },
        "id": "uD64WikevEwX",
        "outputId": "65cdbd48-27ef-47fd-a378-62fc34b618f7"
      },
      "execution_count": 9,
      "outputs": [
        {
          "output_type": "execute_result",
          "data": {
            "text/plain": [
              "<Figure size 1000x500 with 0 Axes>"
            ]
          },
          "metadata": {},
          "execution_count": 9
        },
        {
          "output_type": "display_data",
          "data": {
            "text/plain": [
              "<Figure size 640x480 with 1 Axes>"
            ],
            "image/png": "[encoded data removed]"
          },
          "metadata": {}
        },
        {
          "output_type": "display_data",
          "data": {
            "text/plain": [
              "<Figure size 1000x500 with 0 Axes>"
            ]
          },
          "metadata": {}
        }
      ]
    },
    {
      "cell_type": "code",
      "source": [
        "def perceptron(x, y):\n",
        "    w1 = w2 = b = 1\n",
        "    lr = 0.1\n",
        "\n",
        "    for i in range(1000):\n",
        "\n",
        "        for j in range(x.shape[0]):\n",
        "\n",
        "            z = w1 * x[j][0] + w2 * x[j][1] + b\n",
        "\n",
        "            if z * y[j] < 0:\n",
        "                w1 = w1 + lr * x[j][0] * y[j]\n",
        "                w2 = w2 + lr * x[j][1] * y[j]\n",
        "                b = b + lr * y[i]\n",
        "\n",
        "    return w1, w2, b\n",
        "\n",
        "\n"
      ],
      "metadata": {
        "id": "HvvIP3LVvGoS"
      },
      "execution_count": 13,
      "outputs": []
    },
    {
      "cell_type": "code",
      "source": [
        "w1, w2, b = perceptron(x,y)"
      ],
      "metadata": {
        "id": "_pC1otAaviue"
      },
      "execution_count": 14,
      "outputs": []
    },
    {
      "cell_type": "code",
      "source": [
        "w1"
      ],
      "metadata": {
        "colab": {
          "base_uri": "https://localhost:8080/"
        },
        "id": "zQGFrZ3IwFaW",
        "outputId": "c29b955d-ab0e-43c2-f726-a6eb26855b4c"
      },
      "execution_count": 15,
      "outputs": [
        {
          "output_type": "execute_result",
          "data": {
            "text/plain": [
              "1.006638570722407"
            ]
          },
          "metadata": {},
          "execution_count": 15
        }
      ]
    },
    {
      "cell_type": "code",
      "source": [
        "w2"
      ],
      "metadata": {
        "colab": {
          "base_uri": "https://localhost:8080/"
        },
        "id": "Dqwp9fIuwNFe",
        "outputId": "a68b9e99-ac39-4bf7-a3e4-f0454cd04b9a"
      },
      "execution_count": 16,
      "outputs": [
        {
          "output_type": "execute_result",
          "data": {
            "text/plain": [
              "0.22215119727529098"
            ]
          },
          "metadata": {},
          "execution_count": 16
        }
      ]
    },
    {
      "cell_type": "code",
      "source": [
        "b"
      ],
      "metadata": {
        "colab": {
          "base_uri": "https://localhost:8080/"
        },
        "id": "LvJIpMsLwNpQ",
        "outputId": "bba724a3-35b6-4921-c81f-4324fe24ba01"
      },
      "execution_count": 17,
      "outputs": [
        {
          "output_type": "execute_result",
          "data": {
            "text/plain": [
              "1.3000000000000003"
            ]
          },
          "metadata": {},
          "execution_count": 17
        }
      ]
    },
    {
      "cell_type": "code",
      "source": [
        "m = -w1 / w2\n",
        "c = -b / w2"
      ],
      "metadata": {
        "id": "LgkRWG8kwOGJ"
      },
      "execution_count": 18,
      "outputs": []
    },
    {
      "cell_type": "code",
      "source": [
        "m"
      ],
      "metadata": {
        "colab": {
          "base_uri": "https://localhost:8080/"
        },
        "id": "--47cLv4wStb",
        "outputId": "12d78e25-d17d-49e7-c96f-845ec4b6c942"
      },
      "execution_count": 19,
      "outputs": [
        {
          "output_type": "execute_result",
          "data": {
            "text/plain": [
              "-4.531321834268464"
            ]
          },
          "metadata": {},
          "execution_count": 19
        }
      ]
    },
    {
      "cell_type": "code",
      "source": [
        "c"
      ],
      "metadata": {
        "colab": {
          "base_uri": "https://localhost:8080/"
        },
        "id": "u4NBOPA9wTYK",
        "outputId": "03b1d4d3-f250-4915-cf4c-ea54d42f679b"
      },
      "execution_count": 20,
      "outputs": [
        {
          "output_type": "execute_result",
          "data": {
            "text/plain": [
              "-5.851870329508209"
            ]
          },
          "metadata": {},
          "execution_count": 20
        }
      ]
    },
    {
      "cell_type": "code",
      "source": [
        "x_input = np.linspace(-3,3,100)\n",
        "y_input = m * x_input + c"
      ],
      "metadata": {
        "id": "sHpTosf1wTkx"
      },
      "execution_count": 21,
      "outputs": []
    },
    {
      "cell_type": "code",
      "source": [
        "plt.figure(figsize = (10,6))\n",
        "plt.scatter(x[:,0],x[:,1],c=y)\n",
        "plt.plot(x_input,y_input)\n",
        "plt.ylim((-3,2))"
      ],
      "metadata": {
        "colab": {
          "base_uri": "https://localhost:8080/",
          "height": 545
        },
        "id": "5MT2DUV-weZK",
        "outputId": "e173a4cb-e2bc-47bd-dd7b-e417a3b7c32c"
      },
      "execution_count": 23,
      "outputs": [
        {
          "output_type": "execute_result",
          "data": {
            "text/plain": [
              "(-3.0, 2.0)"
            ]
          },
          "metadata": {},
          "execution_count": 23
        },
        {
          "output_type": "display_data",
          "data": {
            "text/plain": [
              "<Figure size 1000x600 with 1 Axes>"
            ],
            "image/png": "[encoded data removed]"
          },
          "metadata": {}
        }
      ]
    },
    {
      "cell_type": "code",
      "source": [],
      "metadata": {
        "id": "V0DbdWTXwr26"
      },
      "execution_count": null,
      "outputs": []
    }
  ]
}